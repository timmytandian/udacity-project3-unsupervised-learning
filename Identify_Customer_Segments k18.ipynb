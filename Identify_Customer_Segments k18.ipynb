{
 "cells": [
  {
   "cell_type": "markdown",
   "metadata": {},
   "source": [
    "# Project: Identify Customer Segments\n",
    "\n",
    "In this project, you will apply unsupervised learning techniques to identify segments of the population that form the core customer base for a mail-order sales company in Germany. These segments can then be used to direct marketing campaigns towards audiences that will have the highest expected rate of returns. The data that you will use has been provided by our partners at Bertelsmann Arvato Analytics, and represents a real-life data science task.\n",
    "\n",
    "This notebook will help you complete this task by providing a framework within which you will perform your analysis steps. In each step of the project, you will see some text describing the subtask that you will perform, followed by one or more code cells for you to complete your work. **Feel free to add additional code and markdown cells as you go along so that you can explore everything in precise chunks.** The code cells provided in the base template will outline only the major tasks, and will usually not be enough to cover all of the minor tasks that comprise it.\n",
    "\n",
    "It should be noted that while there will be precise guidelines on how you should handle certain tasks in the project, there will also be places where an exact specification is not provided. **There will be times in the project where you will need to make and justify your own decisions on how to treat the data.** These are places where there may not be only one way to handle the data. In real-life tasks, there may be many valid ways to approach an analysis task. One of the most important things you can do is clearly document your approach so that other scientists can understand the decisions you've made.\n",
    "\n",
    "At the end of most sections, there will be a Markdown cell labeled **Discussion**. In these cells, you will report your findings for the completed section, as well as document the decisions that you made in your approach to each subtask. **Your project will be evaluated not just on the code used to complete the tasks outlined, but also your communication about your observations and conclusions at each stage.**"
   ]
  },
  {
   "cell_type": "markdown",
   "metadata": {},
   "source": [
    "Timmy's reading material about clustering: https://bpostance.github.io/posts/clustering-mixed-data/"
   ]
  },
  {
   "cell_type": "code",
   "execution_count": 1,
   "metadata": {},
   "outputs": [
    {
     "data": {
      "text/plain": [
       "'\\nImport note: The classroom currently uses sklearn version 0.19.\\nIf you need to use an imputer, it is available in sklearn.preprocessing.Imputer,\\ninstead of sklearn.impute as in newer versions of sklearn.\\n'"
      ]
     },
     "execution_count": 1,
     "metadata": {},
     "output_type": "execute_result"
    }
   ],
   "source": [
    "# import libraries here; add more as necessary\n",
    "import numpy as np\n",
    "import pandas as pd\n",
    "import matplotlib.pyplot as plt\n",
    "import seaborn as sns\n",
    "\n",
    "# magic word for producing visualizations in notebook\n",
    "%matplotlib inline\n",
    "\n",
    "'''\n",
    "Import note: The classroom currently uses sklearn version 0.19.\n",
    "If you need to use an imputer, it is available in sklearn.preprocessing.Imputer,\n",
    "instead of sklearn.impute as in newer versions of sklearn.\n",
    "'''"
   ]
  },
  {
   "cell_type": "markdown",
   "metadata": {},
   "source": [
    "### Step 0: Load the Data\n",
    "\n",
    "There are four files associated with this project (not including this one):\n",
    "\n",
    "- `Udacity_AZDIAS_Subset.csv`: Demographics data for the general population of Germany; 891211 persons (rows) x 85 features (columns).\n",
    "- `Udacity_CUSTOMERS_Subset.csv`: Demographics data for customers of a mail-order company; 191652 persons (rows) x 85 features (columns).\n",
    "- `Data_Dictionary.md`: Detailed information file about the features in the provided datasets.\n",
    "- `AZDIAS_Feature_Summary.csv`: Summary of feature attributes for demographics data; 85 features (rows) x 4 columns\n",
    "\n",
    "Each row of the demographics files represents a single person, but also includes information outside of individuals, including information about their household, building, and neighborhood. You will use this information to cluster the general population into groups with similar demographic properties. Then, you will see how the people in the customers dataset fit into those created clusters. The hope here is that certain clusters are over-represented in the customers data, as compared to the general population; those over-represented clusters will be assumed to be part of the core userbase. This information can then be used for further applications, such as targeting for a marketing campaign.\n",
    "\n",
    "To start off with, load in the demographics data for the general population into a pandas DataFrame, and do the same for the feature attributes summary. Note for all of the `.csv` data files in this project: they're semicolon (`;`) delimited, so you'll need an additional argument in your [`read_csv()`](https://pandas.pydata.org/pandas-docs/stable/generated/pandas.read_csv.html) call to read in the data properly. Also, considering the size of the main dataset, it may take some time for it to load completely.\n",
    "\n",
    "Once the dataset is loaded, it's recommended that you take a little bit of time just browsing the general structure of the dataset and feature summary file. You'll be getting deep into the innards of the cleaning in the first major step of the project, so gaining some general familiarity can help you get your bearings."
   ]
  },
  {
   "cell_type": "code",
   "execution_count": 2,
   "metadata": {},
   "outputs": [],
   "source": [
    "# Load in the general demographics data.\n",
    "azdias = pd.read_csv(\"Udacity_AZDIAS_Subset.csv\",sep=';')\n",
    "\n",
    "# Load in the feature summary file.\n",
    "feat_info = pd.read_csv(\"AZDIAS_Feature_Summary.csv\",sep=';')"
   ]
  },
  {
   "cell_type": "code",
   "execution_count": 3,
   "metadata": {},
   "outputs": [
    {
     "data": {
      "text/html": [
       "<div>\n",
       "<style scoped>\n",
       "    .dataframe tbody tr th:only-of-type {\n",
       "        vertical-align: middle;\n",
       "    }\n",
       "\n",
       "    .dataframe tbody tr th {\n",
       "        vertical-align: top;\n",
       "    }\n",
       "\n",
       "    .dataframe thead th {\n",
       "        text-align: right;\n",
       "    }\n",
       "</style>\n",
       "<table border=\"1\" class=\"dataframe\">\n",
       "  <thead>\n",
       "    <tr style=\"text-align: right;\">\n",
       "      <th></th>\n",
       "      <th>AGER_TYP</th>\n",
       "      <th>ALTERSKATEGORIE_GROB</th>\n",
       "      <th>ANREDE_KZ</th>\n",
       "      <th>CJT_GESAMTTYP</th>\n",
       "      <th>FINANZ_MINIMALIST</th>\n",
       "      <th>FINANZ_SPARER</th>\n",
       "      <th>FINANZ_VORSORGER</th>\n",
       "      <th>FINANZ_ANLEGER</th>\n",
       "      <th>FINANZ_UNAUFFAELLIGER</th>\n",
       "      <th>FINANZ_HAUSBAUER</th>\n",
       "      <th>...</th>\n",
       "      <th>PLZ8_ANTG1</th>\n",
       "      <th>PLZ8_ANTG2</th>\n",
       "      <th>PLZ8_ANTG3</th>\n",
       "      <th>PLZ8_ANTG4</th>\n",
       "      <th>PLZ8_BAUMAX</th>\n",
       "      <th>PLZ8_HHZ</th>\n",
       "      <th>PLZ8_GBZ</th>\n",
       "      <th>ARBEIT</th>\n",
       "      <th>ORTSGR_KLS9</th>\n",
       "      <th>RELAT_AB</th>\n",
       "    </tr>\n",
       "  </thead>\n",
       "  <tbody>\n",
       "    <tr>\n",
       "      <th>0</th>\n",
       "      <td>-1</td>\n",
       "      <td>2</td>\n",
       "      <td>1</td>\n",
       "      <td>2.0</td>\n",
       "      <td>3</td>\n",
       "      <td>4</td>\n",
       "      <td>3</td>\n",
       "      <td>5</td>\n",
       "      <td>5</td>\n",
       "      <td>3</td>\n",
       "      <td>...</td>\n",
       "      <td>NaN</td>\n",
       "      <td>NaN</td>\n",
       "      <td>NaN</td>\n",
       "      <td>NaN</td>\n",
       "      <td>NaN</td>\n",
       "      <td>NaN</td>\n",
       "      <td>NaN</td>\n",
       "      <td>NaN</td>\n",
       "      <td>NaN</td>\n",
       "      <td>NaN</td>\n",
       "    </tr>\n",
       "    <tr>\n",
       "      <th>1</th>\n",
       "      <td>-1</td>\n",
       "      <td>1</td>\n",
       "      <td>2</td>\n",
       "      <td>5.0</td>\n",
       "      <td>1</td>\n",
       "      <td>5</td>\n",
       "      <td>2</td>\n",
       "      <td>5</td>\n",
       "      <td>4</td>\n",
       "      <td>5</td>\n",
       "      <td>...</td>\n",
       "      <td>2.0</td>\n",
       "      <td>3.0</td>\n",
       "      <td>2.0</td>\n",
       "      <td>1.0</td>\n",
       "      <td>1.0</td>\n",
       "      <td>5.0</td>\n",
       "      <td>4.0</td>\n",
       "      <td>3.0</td>\n",
       "      <td>5.0</td>\n",
       "      <td>4.0</td>\n",
       "    </tr>\n",
       "    <tr>\n",
       "      <th>2</th>\n",
       "      <td>-1</td>\n",
       "      <td>3</td>\n",
       "      <td>2</td>\n",
       "      <td>3.0</td>\n",
       "      <td>1</td>\n",
       "      <td>4</td>\n",
       "      <td>1</td>\n",
       "      <td>2</td>\n",
       "      <td>3</td>\n",
       "      <td>5</td>\n",
       "      <td>...</td>\n",
       "      <td>3.0</td>\n",
       "      <td>3.0</td>\n",
       "      <td>1.0</td>\n",
       "      <td>0.0</td>\n",
       "      <td>1.0</td>\n",
       "      <td>4.0</td>\n",
       "      <td>4.0</td>\n",
       "      <td>3.0</td>\n",
       "      <td>5.0</td>\n",
       "      <td>2.0</td>\n",
       "    </tr>\n",
       "    <tr>\n",
       "      <th>3</th>\n",
       "      <td>2</td>\n",
       "      <td>4</td>\n",
       "      <td>2</td>\n",
       "      <td>2.0</td>\n",
       "      <td>4</td>\n",
       "      <td>2</td>\n",
       "      <td>5</td>\n",
       "      <td>2</td>\n",
       "      <td>1</td>\n",
       "      <td>2</td>\n",
       "      <td>...</td>\n",
       "      <td>2.0</td>\n",
       "      <td>2.0</td>\n",
       "      <td>2.0</td>\n",
       "      <td>0.0</td>\n",
       "      <td>1.0</td>\n",
       "      <td>3.0</td>\n",
       "      <td>4.0</td>\n",
       "      <td>2.0</td>\n",
       "      <td>3.0</td>\n",
       "      <td>3.0</td>\n",
       "    </tr>\n",
       "    <tr>\n",
       "      <th>4</th>\n",
       "      <td>-1</td>\n",
       "      <td>3</td>\n",
       "      <td>1</td>\n",
       "      <td>5.0</td>\n",
       "      <td>4</td>\n",
       "      <td>3</td>\n",
       "      <td>4</td>\n",
       "      <td>1</td>\n",
       "      <td>3</td>\n",
       "      <td>2</td>\n",
       "      <td>...</td>\n",
       "      <td>2.0</td>\n",
       "      <td>4.0</td>\n",
       "      <td>2.0</td>\n",
       "      <td>1.0</td>\n",
       "      <td>2.0</td>\n",
       "      <td>3.0</td>\n",
       "      <td>3.0</td>\n",
       "      <td>4.0</td>\n",
       "      <td>6.0</td>\n",
       "      <td>5.0</td>\n",
       "    </tr>\n",
       "  </tbody>\n",
       "</table>\n",
       "<p>5 rows × 85 columns</p>\n",
       "</div>"
      ],
      "text/plain": [
       "   AGER_TYP  ALTERSKATEGORIE_GROB  ANREDE_KZ  CJT_GESAMTTYP  \\\n",
       "0        -1                     2          1            2.0   \n",
       "1        -1                     1          2            5.0   \n",
       "2        -1                     3          2            3.0   \n",
       "3         2                     4          2            2.0   \n",
       "4        -1                     3          1            5.0   \n",
       "\n",
       "   FINANZ_MINIMALIST  FINANZ_SPARER  FINANZ_VORSORGER  FINANZ_ANLEGER  \\\n",
       "0                  3              4                 3               5   \n",
       "1                  1              5                 2               5   \n",
       "2                  1              4                 1               2   \n",
       "3                  4              2                 5               2   \n",
       "4                  4              3                 4               1   \n",
       "\n",
       "   FINANZ_UNAUFFAELLIGER  FINANZ_HAUSBAUER  ...  PLZ8_ANTG1  PLZ8_ANTG2  \\\n",
       "0                      5                 3  ...         NaN         NaN   \n",
       "1                      4                 5  ...         2.0         3.0   \n",
       "2                      3                 5  ...         3.0         3.0   \n",
       "3                      1                 2  ...         2.0         2.0   \n",
       "4                      3                 2  ...         2.0         4.0   \n",
       "\n",
       "   PLZ8_ANTG3  PLZ8_ANTG4  PLZ8_BAUMAX  PLZ8_HHZ  PLZ8_GBZ  ARBEIT  \\\n",
       "0         NaN         NaN          NaN       NaN       NaN     NaN   \n",
       "1         2.0         1.0          1.0       5.0       4.0     3.0   \n",
       "2         1.0         0.0          1.0       4.0       4.0     3.0   \n",
       "3         2.0         0.0          1.0       3.0       4.0     2.0   \n",
       "4         2.0         1.0          2.0       3.0       3.0     4.0   \n",
       "\n",
       "   ORTSGR_KLS9  RELAT_AB  \n",
       "0          NaN       NaN  \n",
       "1          5.0       4.0  \n",
       "2          5.0       2.0  \n",
       "3          3.0       3.0  \n",
       "4          6.0       5.0  \n",
       "\n",
       "[5 rows x 85 columns]"
      ]
     },
     "execution_count": 3,
     "metadata": {},
     "output_type": "execute_result"
    }
   ],
   "source": [
    "azdias.head()"
   ]
  },
  {
   "cell_type": "markdown",
   "metadata": {},
   "source": [
    "From the dataframe head above, I can get rough idea what the next step should be. Point number 1 and 2 will be performed right below, while point number 3 and 4 will be done in the next section (STEP 1).\n",
    "1. there are 85 columns -> How many rows?\n",
    "2. almost all data are numbers -> Are there other datatypes?\n",
    "3. need to deal with missing values -> Impute missing values.\n",
    "4. some numbers are expressed as float and the others as integer -> Need to convert/encode the features (ordinal/categorical)"
   ]
  },
  {
   "cell_type": "markdown",
   "metadata": {},
   "source": [
    "Check the shape of general population dataframe"
   ]
  },
  {
   "cell_type": "code",
   "execution_count": null,
   "metadata": {},
   "outputs": [
    {
     "name": "stdout",
     "output_type": "stream",
     "text": [
      "azdias rows count:  891221\n",
      "azdias cols count:  85\n"
     ]
    }
   ],
   "source": [
    "# check the shape\n",
    "print(\"azdias rows count: \", azdias.shape[0])\n",
    "print(\"azdias cols count: \", azdias.shape[1])"
   ]
  },
  {
   "cell_type": "markdown",
   "metadata": {},
   "source": [
    "#### Explore the datatype"
   ]
  },
  {
   "cell_type": "code",
   "execution_count": null,
   "metadata": {},
   "outputs": [
    {
     "name": "stderr",
     "output_type": "stream",
     "text": [
      "/tmp/ipykernel_813/2032519779.py:2: FutureWarning: The default dtype for empty Series will be 'object' instead of 'float64' in a future version. Specify a dtype explicitly to silence this warning.\n",
      "  pd.Series(index=azdias.dtypes.values).fillna(1).groupby(level=0).count()\n"
     ]
    },
    {
     "data": {
      "text/plain": [
       "int64      32\n",
       "float64    49\n",
       "object      4\n",
       "dtype: int64"
      ]
     },
     "execution_count": 5,
     "metadata": {},
     "output_type": "execute_result"
    }
   ],
   "source": [
    "# check the datatype\n",
    "pd.Series(index=azdias.dtypes.values).fillna(1).groupby(level=0).count()"
   ]
  },
  {
   "cell_type": "markdown",
   "metadata": {},
   "source": [
    "##### exploring \"object\" dtype in azdias data frame"
   ]
  },
  {
   "cell_type": "code",
   "execution_count": 3,
   "metadata": {},
   "outputs": [
    {
     "name": "stdout",
     "output_type": "stream",
     "text": [
      "columns with object datatype are:\n"
     ]
    },
    {
     "data": {
      "text/plain": [
       "array(['OST_WEST_KZ', 'CAMEO_DEUG_2015', 'CAMEO_DEU_2015',\n",
       "       'CAMEO_INTL_2015'], dtype=object)"
      ]
     },
     "execution_count": 3,
     "metadata": {},
     "output_type": "execute_result"
    }
   ],
   "source": [
    "print(\"columns with object datatype are:\")\n",
    "obj_col_name = azdias.dtypes[azdias.dtypes == 'object'].index.values\n",
    "obj_col_name"
   ]
  },
  {
   "cell_type": "code",
   "execution_count": null,
   "metadata": {},
   "outputs": [
    {
     "data": {
      "text/html": [
       "<div>\n",
       "<style scoped>\n",
       "    .dataframe tbody tr th:only-of-type {\n",
       "        vertical-align: middle;\n",
       "    }\n",
       "\n",
       "    .dataframe tbody tr th {\n",
       "        vertical-align: top;\n",
       "    }\n",
       "\n",
       "    .dataframe thead th {\n",
       "        text-align: right;\n",
       "    }\n",
       "</style>\n",
       "<table border=\"1\" class=\"dataframe\">\n",
       "  <thead>\n",
       "    <tr style=\"text-align: right;\">\n",
       "      <th></th>\n",
       "      <th>OST_WEST_KZ</th>\n",
       "      <th>CAMEO_DEUG_2015</th>\n",
       "      <th>CAMEO_DEU_2015</th>\n",
       "      <th>CAMEO_INTL_2015</th>\n",
       "    </tr>\n",
       "  </thead>\n",
       "  <tbody>\n",
       "    <tr>\n",
       "      <th>520086</th>\n",
       "      <td>W</td>\n",
       "      <td>4</td>\n",
       "      <td>4A</td>\n",
       "      <td>22</td>\n",
       "    </tr>\n",
       "    <tr>\n",
       "      <th>697456</th>\n",
       "      <td>O</td>\n",
       "      <td>4</td>\n",
       "      <td>4C</td>\n",
       "      <td>24</td>\n",
       "    </tr>\n",
       "    <tr>\n",
       "      <th>374767</th>\n",
       "      <td>W</td>\n",
       "      <td>4</td>\n",
       "      <td>4A</td>\n",
       "      <td>22</td>\n",
       "    </tr>\n",
       "    <tr>\n",
       "      <th>46337</th>\n",
       "      <td>W</td>\n",
       "      <td>9</td>\n",
       "      <td>9C</td>\n",
       "      <td>51</td>\n",
       "    </tr>\n",
       "    <tr>\n",
       "      <th>596963</th>\n",
       "      <td>W</td>\n",
       "      <td>5</td>\n",
       "      <td>5F</td>\n",
       "      <td>35</td>\n",
       "    </tr>\n",
       "  </tbody>\n",
       "</table>\n",
       "</div>"
      ],
      "text/plain": [
       "       OST_WEST_KZ CAMEO_DEUG_2015 CAMEO_DEU_2015 CAMEO_INTL_2015\n",
       "520086           W               4             4A              22\n",
       "697456           O               4             4C              24\n",
       "374767           W               4             4A              22\n",
       "46337            W               9             9C              51\n",
       "596963           W               5             5F              35"
      ]
     },
     "execution_count": 7,
     "metadata": {},
     "output_type": "execute_result"
    }
   ],
   "source": [
    "# show the value of those \"object\" columns\n",
    "azdias.loc[:,obj_col_name].sample(5)"
   ]
  },
  {
   "cell_type": "markdown",
   "metadata": {},
   "source": [
    "The \"OST_WEST_KZ\" and \"CAMEO_DEU_2015\" are string, so it is reasonable to have object datatype. However for column \"CAME_DEUG_2015\" and \"CAMEO_INTL_2015\" their data seems like number. Perhaps it is better to convert their datatype. But before that let's see what is the definition of columns above. "
   ]
  },
  {
   "cell_type": "code",
   "execution_count": null,
   "metadata": {},
   "outputs": [
    {
     "data": {
      "text/html": [
       "<div>\n",
       "<style scoped>\n",
       "    .dataframe tbody tr th:only-of-type {\n",
       "        vertical-align: middle;\n",
       "    }\n",
       "\n",
       "    .dataframe tbody tr th {\n",
       "        vertical-align: top;\n",
       "    }\n",
       "\n",
       "    .dataframe thead th {\n",
       "        text-align: right;\n",
       "    }\n",
       "</style>\n",
       "<table border=\"1\" class=\"dataframe\">\n",
       "  <thead>\n",
       "    <tr style=\"text-align: right;\">\n",
       "      <th></th>\n",
       "      <th>attribute</th>\n",
       "      <th>information_level</th>\n",
       "      <th>type</th>\n",
       "      <th>missing_or_unknown</th>\n",
       "    </tr>\n",
       "  </thead>\n",
       "  <tbody>\n",
       "    <tr>\n",
       "      <th>55</th>\n",
       "      <td>OST_WEST_KZ</td>\n",
       "      <td>building</td>\n",
       "      <td>categorical</td>\n",
       "      <td>[-1]</td>\n",
       "    </tr>\n",
       "    <tr>\n",
       "      <th>57</th>\n",
       "      <td>CAMEO_DEUG_2015</td>\n",
       "      <td>microcell_rr4</td>\n",
       "      <td>categorical</td>\n",
       "      <td>[-1,X]</td>\n",
       "    </tr>\n",
       "    <tr>\n",
       "      <th>58</th>\n",
       "      <td>CAMEO_DEU_2015</td>\n",
       "      <td>microcell_rr4</td>\n",
       "      <td>categorical</td>\n",
       "      <td>[XX]</td>\n",
       "    </tr>\n",
       "    <tr>\n",
       "      <th>59</th>\n",
       "      <td>CAMEO_INTL_2015</td>\n",
       "      <td>microcell_rr4</td>\n",
       "      <td>mixed</td>\n",
       "      <td>[-1,XX]</td>\n",
       "    </tr>\n",
       "  </tbody>\n",
       "</table>\n",
       "</div>"
      ],
      "text/plain": [
       "          attribute information_level         type missing_or_unknown\n",
       "55      OST_WEST_KZ          building  categorical               [-1]\n",
       "57  CAMEO_DEUG_2015     microcell_rr4  categorical             [-1,X]\n",
       "58   CAMEO_DEU_2015     microcell_rr4  categorical               [XX]\n",
       "59  CAMEO_INTL_2015     microcell_rr4        mixed            [-1,XX]"
      ]
     },
     "execution_count": 8,
     "metadata": {},
     "output_type": "execute_result"
    }
   ],
   "source": [
    "feat_info[feat_info[\"attribute\"].isin(obj_col_name)]"
   ]
  },
  {
   "cell_type": "markdown",
   "metadata": {},
   "source": [
    "Hmmmm, the information in the feat_info dataframe doesn't give complete picture. Let's check the description of *CAMEO_DEUG_2015* and *CAMEO_INTL_2015* manually from `Data_Dictionary.md`\n",
    "\n",
    "    4.1. CAMEO_DEUG_2015\n",
    "    German CAMEO: Wealth / Life Stage Typology, rough scale\n",
    "    - -1: unknown\n",
    "    -  1: upper class\n",
    "    -  2: upper middleclass\n",
    "    -  3: established middleclass\n",
    "    -  4: consumption-oriented middleclass\n",
    "    -  5: active middleclass\n",
    "    -  6: low-consumption middleclass\n",
    "    -  7: lower middleclass\n",
    "    -  8: working class\n",
    "    -  9: urban working class\n",
    "    -  X: unknown\n",
    "\n",
    "    4.3. CAMEO_INTL_2015\n",
    "    German CAMEO: Wealth / Life Stage Typology, mapped to international code\n",
    "    - -1: unknown\n",
    "    - 11: Wealthy Households - Pre-Family Couples & Singles\n",
    "    - 12: Wealthy Households - Young Couples With Children\n",
    "    - 13: Wealthy Households - Families With School Age Children\n",
    "    - 14: Wealthy Households - Older Families &  Mature Couples\n",
    "    - 15: Wealthy Households - Elders In Retirement\n",
    "    - 21: Prosperous Households - Pre-Family Couples & Singles\n",
    "    - 22: Prosperous Households - Young Couples With Children\n",
    "    - 23: Prosperous Households - Families With School Age Children\n",
    "    - 24: Prosperous Households - Older Families & Mature Couples\n",
    "    - 25: Prosperous Households - Elders In Retirement\n",
    "    - 31: Comfortable Households - Pre-Family Couples & Singles\n",
    "    - 32: Comfortable Households - Young Couples With Children\n",
    "    - 33: Comfortable Households - Families With School Age Children\n",
    "    - 34: Comfortable Households - Older Families & Mature Couples\n",
    "    - 35: Comfortable Households - Elders In Retirement\n",
    "    - 41: Less Affluent Households - Pre-Family Couples & Singles\n",
    "    - 42: Less Affluent Households - Young Couples With Children\n",
    "    - 43: Less Affluent Households - Families With School Age Children\n",
    "    - 44: Less Affluent Households - Older Families & Mature Couples\n",
    "    - 45: Less Affluent Households - Elders In Retirement\n",
    "    - 51: Poorer Households - Pre-Family Couples & Singles\n",
    "    - 52: Poorer Households - Young Couples With Children\n",
    "    - 53: Poorer Households - Families With School Age Children\n",
    "    - 54: Poorer Households - Older Families & Mature Couples\n",
    "    - 55: Poorer Households - Elders In Retirement\n",
    "    - XX: unknown"
   ]
  },
  {
   "cell_type": "markdown",
   "metadata": {},
   "source": [
    "From the description above, it makes sense to let column *CAMEO_DEUG_2015* and *CAMEO_INTL_2015* to be object datatype as they are categorical data, i.e. there is no clear way to rank the value."
   ]
  },
  {
   "cell_type": "markdown",
   "metadata": {},
   "source": [
    "##### exploring dtype in feature summary `feat_info`\n",
    "Let's review again the feature summary in `feat_info`"
   ]
  },
  {
   "cell_type": "code",
   "execution_count": null,
   "metadata": {},
   "outputs": [
    {
     "data": {
      "text/html": [
       "<div>\n",
       "<style scoped>\n",
       "    .dataframe tbody tr th:only-of-type {\n",
       "        vertical-align: middle;\n",
       "    }\n",
       "\n",
       "    .dataframe tbody tr th {\n",
       "        vertical-align: top;\n",
       "    }\n",
       "\n",
       "    .dataframe thead th {\n",
       "        text-align: right;\n",
       "    }\n",
       "</style>\n",
       "<table border=\"1\" class=\"dataframe\">\n",
       "  <thead>\n",
       "    <tr style=\"text-align: right;\">\n",
       "      <th></th>\n",
       "      <th>attribute</th>\n",
       "      <th>information_level</th>\n",
       "      <th>type</th>\n",
       "      <th>missing_or_unknown</th>\n",
       "    </tr>\n",
       "  </thead>\n",
       "  <tbody>\n",
       "    <tr>\n",
       "      <th>0</th>\n",
       "      <td>AGER_TYP</td>\n",
       "      <td>person</td>\n",
       "      <td>categorical</td>\n",
       "      <td>[-1,0]</td>\n",
       "    </tr>\n",
       "    <tr>\n",
       "      <th>1</th>\n",
       "      <td>ALTERSKATEGORIE_GROB</td>\n",
       "      <td>person</td>\n",
       "      <td>ordinal</td>\n",
       "      <td>[-1,0,9]</td>\n",
       "    </tr>\n",
       "    <tr>\n",
       "      <th>2</th>\n",
       "      <td>ANREDE_KZ</td>\n",
       "      <td>person</td>\n",
       "      <td>categorical</td>\n",
       "      <td>[-1,0]</td>\n",
       "    </tr>\n",
       "    <tr>\n",
       "      <th>3</th>\n",
       "      <td>CJT_GESAMTTYP</td>\n",
       "      <td>person</td>\n",
       "      <td>categorical</td>\n",
       "      <td>[0]</td>\n",
       "    </tr>\n",
       "    <tr>\n",
       "      <th>4</th>\n",
       "      <td>FINANZ_MINIMALIST</td>\n",
       "      <td>person</td>\n",
       "      <td>ordinal</td>\n",
       "      <td>[-1]</td>\n",
       "    </tr>\n",
       "    <tr>\n",
       "      <th>...</th>\n",
       "      <td>...</td>\n",
       "      <td>...</td>\n",
       "      <td>...</td>\n",
       "      <td>...</td>\n",
       "    </tr>\n",
       "    <tr>\n",
       "      <th>80</th>\n",
       "      <td>PLZ8_HHZ</td>\n",
       "      <td>macrocell_plz8</td>\n",
       "      <td>ordinal</td>\n",
       "      <td>[-1]</td>\n",
       "    </tr>\n",
       "    <tr>\n",
       "      <th>81</th>\n",
       "      <td>PLZ8_GBZ</td>\n",
       "      <td>macrocell_plz8</td>\n",
       "      <td>ordinal</td>\n",
       "      <td>[-1]</td>\n",
       "    </tr>\n",
       "    <tr>\n",
       "      <th>82</th>\n",
       "      <td>ARBEIT</td>\n",
       "      <td>community</td>\n",
       "      <td>ordinal</td>\n",
       "      <td>[-1,9]</td>\n",
       "    </tr>\n",
       "    <tr>\n",
       "      <th>83</th>\n",
       "      <td>ORTSGR_KLS9</td>\n",
       "      <td>community</td>\n",
       "      <td>ordinal</td>\n",
       "      <td>[-1,0]</td>\n",
       "    </tr>\n",
       "    <tr>\n",
       "      <th>84</th>\n",
       "      <td>RELAT_AB</td>\n",
       "      <td>community</td>\n",
       "      <td>ordinal</td>\n",
       "      <td>[-1,9]</td>\n",
       "    </tr>\n",
       "  </tbody>\n",
       "</table>\n",
       "<p>85 rows × 4 columns</p>\n",
       "</div>"
      ],
      "text/plain": [
       "               attribute information_level         type missing_or_unknown\n",
       "0               AGER_TYP            person  categorical             [-1,0]\n",
       "1   ALTERSKATEGORIE_GROB            person      ordinal           [-1,0,9]\n",
       "2              ANREDE_KZ            person  categorical             [-1,0]\n",
       "3          CJT_GESAMTTYP            person  categorical                [0]\n",
       "4      FINANZ_MINIMALIST            person      ordinal               [-1]\n",
       "..                   ...               ...          ...                ...\n",
       "80              PLZ8_HHZ    macrocell_plz8      ordinal               [-1]\n",
       "81              PLZ8_GBZ    macrocell_plz8      ordinal               [-1]\n",
       "82                ARBEIT         community      ordinal             [-1,9]\n",
       "83           ORTSGR_KLS9         community      ordinal             [-1,0]\n",
       "84              RELAT_AB         community      ordinal             [-1,9]\n",
       "\n",
       "[85 rows x 4 columns]"
      ]
     },
     "execution_count": 9,
     "metadata": {},
     "output_type": "execute_result"
    }
   ],
   "source": [
    "feat_info"
   ]
  },
  {
   "cell_type": "markdown",
   "metadata": {},
   "source": [
    "I want to know if all attributes within the same 'type' in feat_info dataframe correspond to the same dtype in azdias.dtypes. \n",
    "Now, let's show the data types of each column in azdias."
   ]
  },
  {
   "cell_type": "code",
   "execution_count": 4,
   "metadata": {},
   "outputs": [
    {
     "data": {
      "text/html": [
       "<div>\n",
       "<style scoped>\n",
       "    .dataframe tbody tr th:only-of-type {\n",
       "        vertical-align: middle;\n",
       "    }\n",
       "\n",
       "    .dataframe tbody tr th {\n",
       "        vertical-align: top;\n",
       "    }\n",
       "\n",
       "    .dataframe thead th {\n",
       "        text-align: right;\n",
       "    }\n",
       "</style>\n",
       "<table border=\"1\" class=\"dataframe\">\n",
       "  <thead>\n",
       "    <tr style=\"text-align: right;\">\n",
       "      <th></th>\n",
       "      <th>dtypes</th>\n",
       "    </tr>\n",
       "  </thead>\n",
       "  <tbody>\n",
       "    <tr>\n",
       "      <th>AGER_TYP</th>\n",
       "      <td>int64</td>\n",
       "    </tr>\n",
       "    <tr>\n",
       "      <th>ALTERSKATEGORIE_GROB</th>\n",
       "      <td>int64</td>\n",
       "    </tr>\n",
       "    <tr>\n",
       "      <th>ANREDE_KZ</th>\n",
       "      <td>int64</td>\n",
       "    </tr>\n",
       "    <tr>\n",
       "      <th>CJT_GESAMTTYP</th>\n",
       "      <td>float64</td>\n",
       "    </tr>\n",
       "    <tr>\n",
       "      <th>FINANZ_MINIMALIST</th>\n",
       "      <td>int64</td>\n",
       "    </tr>\n",
       "    <tr>\n",
       "      <th>...</th>\n",
       "      <td>...</td>\n",
       "    </tr>\n",
       "    <tr>\n",
       "      <th>PLZ8_HHZ</th>\n",
       "      <td>float64</td>\n",
       "    </tr>\n",
       "    <tr>\n",
       "      <th>PLZ8_GBZ</th>\n",
       "      <td>float64</td>\n",
       "    </tr>\n",
       "    <tr>\n",
       "      <th>ARBEIT</th>\n",
       "      <td>float64</td>\n",
       "    </tr>\n",
       "    <tr>\n",
       "      <th>ORTSGR_KLS9</th>\n",
       "      <td>float64</td>\n",
       "    </tr>\n",
       "    <tr>\n",
       "      <th>RELAT_AB</th>\n",
       "      <td>float64</td>\n",
       "    </tr>\n",
       "  </tbody>\n",
       "</table>\n",
       "<p>85 rows × 1 columns</p>\n",
       "</div>"
      ],
      "text/plain": [
       "                       dtypes\n",
       "AGER_TYP                int64\n",
       "ALTERSKATEGORIE_GROB    int64\n",
       "ANREDE_KZ               int64\n",
       "CJT_GESAMTTYP         float64\n",
       "FINANZ_MINIMALIST       int64\n",
       "...                       ...\n",
       "PLZ8_HHZ              float64\n",
       "PLZ8_GBZ              float64\n",
       "ARBEIT                float64\n",
       "ORTSGR_KLS9           float64\n",
       "RELAT_AB              float64\n",
       "\n",
       "[85 rows x 1 columns]"
      ]
     },
     "execution_count": 4,
     "metadata": {},
     "output_type": "execute_result"
    }
   ],
   "source": [
    "dtype_df = pd.DataFrame(azdias.dtypes,index=azdias.dtypes.index,columns=['dtypes'])\n",
    "dtype_df"
   ]
  },
  {
   "cell_type": "markdown",
   "metadata": {},
   "source": [
    "Next, join the `dtype_df` with `feat_info`, then show the dtypes of each column type."
   ]
  },
  {
   "cell_type": "code",
   "execution_count": 5,
   "metadata": {},
   "outputs": [],
   "source": [
    "### Strategizing data preprocessing by examining feature summary.\n",
    "feat_info = feat_info.join(dtype_df, on='attribute')"
   ]
  },
  {
   "cell_type": "code",
   "execution_count": null,
   "metadata": {},
   "outputs": [
    {
     "data": {
      "text/plain": [
       "type         dtypes \n",
       "categorical  int64       8\n",
       "             float64    10\n",
       "             object      3\n",
       "interval     float64     1\n",
       "mixed        int64       1\n",
       "             float64     5\n",
       "             object      1\n",
       "numeric      int64       1\n",
       "             float64     6\n",
       "ordinal      int64      22\n",
       "             float64    27\n",
       "Name: attribute, dtype: int64"
      ]
     },
     "execution_count": 12,
     "metadata": {},
     "output_type": "execute_result"
    }
   ],
   "source": [
    "feat_info.groupby(by=['type','dtypes']).count()['attribute']"
   ]
  },
  {
   "cell_type": "markdown",
   "metadata": {},
   "source": [
    "Looking at the result above, the type in feature summary has mixed python dtypes. This issue should be addressed in preprocessing step."
   ]
  },
  {
   "cell_type": "markdown",
   "metadata": {},
   "source": [
    "##### review the data type for each information level"
   ]
  },
  {
   "cell_type": "code",
   "execution_count": null,
   "metadata": {},
   "outputs": [
    {
     "data": {
      "text/html": [
       "<div>\n",
       "<style scoped>\n",
       "    .dataframe tbody tr th:only-of-type {\n",
       "        vertical-align: middle;\n",
       "    }\n",
       "\n",
       "    .dataframe tbody tr th {\n",
       "        vertical-align: top;\n",
       "    }\n",
       "\n",
       "    .dataframe thead th {\n",
       "        text-align: right;\n",
       "    }\n",
       "</style>\n",
       "<table border=\"1\" class=\"dataframe\">\n",
       "  <thead>\n",
       "    <tr style=\"text-align: right;\">\n",
       "      <th></th>\n",
       "      <th></th>\n",
       "      <th>attribute</th>\n",
       "    </tr>\n",
       "    <tr>\n",
       "      <th>information_level</th>\n",
       "      <th>type</th>\n",
       "      <th></th>\n",
       "    </tr>\n",
       "  </thead>\n",
       "  <tbody>\n",
       "    <tr>\n",
       "      <th rowspan=\"4\" valign=\"top\">building</th>\n",
       "      <th>categorical</th>\n",
       "      <td>2</td>\n",
       "    </tr>\n",
       "    <tr>\n",
       "      <th>mixed</th>\n",
       "      <td>1</td>\n",
       "    </tr>\n",
       "    <tr>\n",
       "      <th>numeric</th>\n",
       "      <td>3</td>\n",
       "    </tr>\n",
       "    <tr>\n",
       "      <th>ordinal</th>\n",
       "      <td>1</td>\n",
       "    </tr>\n",
       "    <tr>\n",
       "      <th>community</th>\n",
       "      <th>ordinal</th>\n",
       "      <td>3</td>\n",
       "    </tr>\n",
       "    <tr>\n",
       "      <th rowspan=\"4\" valign=\"top\">household</th>\n",
       "      <th>categorical</th>\n",
       "      <td>1</td>\n",
       "    </tr>\n",
       "    <tr>\n",
       "      <th>interval</th>\n",
       "      <td>1</td>\n",
       "    </tr>\n",
       "    <tr>\n",
       "      <th>numeric</th>\n",
       "      <td>2</td>\n",
       "    </tr>\n",
       "    <tr>\n",
       "      <th>ordinal</th>\n",
       "      <td>3</td>\n",
       "    </tr>\n",
       "    <tr>\n",
       "      <th rowspan=\"3\" valign=\"top\">macrocell_plz8</th>\n",
       "      <th>mixed</th>\n",
       "      <td>1</td>\n",
       "    </tr>\n",
       "    <tr>\n",
       "      <th>numeric</th>\n",
       "      <td>1</td>\n",
       "    </tr>\n",
       "    <tr>\n",
       "      <th>ordinal</th>\n",
       "      <td>6</td>\n",
       "    </tr>\n",
       "    <tr>\n",
       "      <th rowspan=\"2\" valign=\"top\">microcell_rr3</th>\n",
       "      <th>mixed</th>\n",
       "      <td>1</td>\n",
       "    </tr>\n",
       "    <tr>\n",
       "      <th>ordinal</th>\n",
       "      <td>5</td>\n",
       "    </tr>\n",
       "    <tr>\n",
       "      <th rowspan=\"2\" valign=\"top\">microcell_rr4</th>\n",
       "      <th>categorical</th>\n",
       "      <td>2</td>\n",
       "    </tr>\n",
       "    <tr>\n",
       "      <th>mixed</th>\n",
       "      <td>1</td>\n",
       "    </tr>\n",
       "    <tr>\n",
       "      <th rowspan=\"4\" valign=\"top\">person</th>\n",
       "      <th>categorical</th>\n",
       "      <td>16</td>\n",
       "    </tr>\n",
       "    <tr>\n",
       "      <th>mixed</th>\n",
       "      <td>3</td>\n",
       "    </tr>\n",
       "    <tr>\n",
       "      <th>numeric</th>\n",
       "      <td>1</td>\n",
       "    </tr>\n",
       "    <tr>\n",
       "      <th>ordinal</th>\n",
       "      <td>23</td>\n",
       "    </tr>\n",
       "    <tr>\n",
       "      <th>postcode</th>\n",
       "      <th>ordinal</th>\n",
       "      <td>3</td>\n",
       "    </tr>\n",
       "    <tr>\n",
       "      <th>region_rr1</th>\n",
       "      <th>ordinal</th>\n",
       "      <td>5</td>\n",
       "    </tr>\n",
       "  </tbody>\n",
       "</table>\n",
       "</div>"
      ],
      "text/plain": [
       "                               attribute\n",
       "information_level type                  \n",
       "building          categorical          2\n",
       "                  mixed                1\n",
       "                  numeric              3\n",
       "                  ordinal              1\n",
       "community         ordinal              3\n",
       "household         categorical          1\n",
       "                  interval             1\n",
       "                  numeric              2\n",
       "                  ordinal              3\n",
       "macrocell_plz8    mixed                1\n",
       "                  numeric              1\n",
       "                  ordinal              6\n",
       "microcell_rr3     mixed                1\n",
       "                  ordinal              5\n",
       "microcell_rr4     categorical          2\n",
       "                  mixed                1\n",
       "person            categorical         16\n",
       "                  mixed                3\n",
       "                  numeric              1\n",
       "                  ordinal             23\n",
       "postcode          ordinal              3\n",
       "region_rr1        ordinal              5"
      ]
     },
     "execution_count": 13,
     "metadata": {},
     "output_type": "execute_result"
    }
   ],
   "source": [
    "### Strategizing data preprocessing by examining feature summary.\n",
    "feat_info.drop(['dtypes','missing_or_unknown'], axis=1).groupby(by=['information_level','type']).count()"
   ]
  },
  {
   "cell_type": "markdown",
   "metadata": {},
   "source": [
    "> **Tip**: Add additional cells to keep everything in reasonably-sized chunks! Keyboard shortcut `esc --> a` (press escape to enter command mode, then press the 'A' key) adds a new cell before the active cell, and `esc --> b` adds a new cell after the active cell. If you need to convert an active cell to a markdown cell, use `esc --> m` and to convert to a code cell, use `esc --> y`. \n",
    "\n",
    "## Step 1: Preprocessing\n",
    "\n",
    "### Step 1.1: Assess Missing Data\n",
    "\n",
    "The feature summary file contains a summary of properties for each demographics data column. You will use this file to help you make cleaning decisions during this stage of the project. First of all, you should assess the demographics data in terms of missing data. Pay attention to the following points as you perform your analysis, and take notes on what you observe. Make sure that you fill in the **Discussion** cell with your findings and decisions at the end of each step that has one!\n",
    "\n",
    "#### Step 1.1.1: Convert Missing Value Codes to NaNs\n",
    "The fourth column of the feature attributes summary (loaded in above as `feat_info`) documents the codes from the data dictionary that indicate missing or unknown data. While the file encodes this as a list (e.g. `[-1,0]`), this will get read in as a string object. You'll need to do a little bit of parsing to make use of it to identify and clean the data. Convert data that matches a 'missing' or 'unknown' value code into a numpy NaN value. You might want to see how much data takes on a 'missing' or 'unknown' code, and how much data is naturally missing, as a point of interest.\n",
    "\n",
    "**As one more reminder, you are encouraged to add additional cells to break up your analysis into manageable chunks.**"
   ]
  },
  {
   "cell_type": "code",
   "execution_count": null,
   "metadata": {},
   "outputs": [],
   "source": [
    "# Before working on azdias dataframe, I want to back it up first (in case preprocessing went wrong)\n",
    "# azdias_bkup = azdias.copy(deep=True)"
   ]
  },
  {
   "cell_type": "code",
   "execution_count": 6,
   "metadata": {},
   "outputs": [
    {
     "name": "stdout",
     "output_type": "stream",
     "text": [
      "The number of NaN data before any converstion: 4896838\n"
     ]
    },
    {
     "data": {
      "text/plain": [
       "<AxesSubplot:>"
      ]
     },
     "execution_count": 6,
     "metadata": {},
     "output_type": "execute_result"
    },
    {
     "data": {
      "image/png": "[encoded data removed]",
      "text/plain": [
       "<Figure size 432x288 with 1 Axes>"
      ]
     },
     "metadata": {
      "needs_background": "light"
     },
     "output_type": "display_data"
    }
   ],
   "source": [
    "# Print the number of NaN in azdias\n",
    "print('The number of NaN data before any converstion:',azdias.isna().sum().sum())\n",
    "azdias.isna().sum().plot(kind='bar')"
   ]
  },
  {
   "cell_type": "code",
   "execution_count": 7,
   "metadata": {},
   "outputs": [
    {
     "data": {
      "text/plain": [
       "[-1]        26\n",
       "[-1,9]      17\n",
       "[-1,0]      16\n",
       "[0]         12\n",
       "[]          10\n",
       "[-1,0,9]     1\n",
       "[-1,X]       1\n",
       "[XX]         1\n",
       "[-1,XX]      1\n",
       "Name: missing_or_unknown, dtype: int64"
      ]
     },
     "execution_count": 7,
     "metadata": {},
     "output_type": "execute_result"
    }
   ],
   "source": [
    "# Identify missing or unknown data values and convert them to NaNs.\n",
    "feat_info['missing_or_unknown'].value_counts()"
   ]
  },
  {
   "cell_type": "code",
   "execution_count": 8,
   "metadata": {},
   "outputs": [
    {
     "data": {
      "text/plain": [
       "[-1]         26\n",
       "[-1,9]       17\n",
       "[-1,0]       16\n",
       "[0]          12\n",
       "[]           10\n",
       "[-1,0,9]      1\n",
       "[-1,'X']      1\n",
       "['XX']        1\n",
       "[-1,'XX']     1\n",
       "Name: missing_or_unknown, dtype: int64"
      ]
     },
     "execution_count": 8,
     "metadata": {},
     "output_type": "execute_result"
    }
   ],
   "source": [
    "# convert X into 'X'\n",
    "feat_info['missing_or_unknown'] = feat_info['missing_or_unknown'].replace(\"[-1,X]\",\"[-1,'X']\")\n",
    "feat_info['missing_or_unknown'] = feat_info['missing_or_unknown'].replace(\"[XX]\",\"['XX']\")\n",
    "feat_info['missing_or_unknown'] = feat_info['missing_or_unknown'].replace(\"[-1,XX]\",\"[-1,'XX']\")\n",
    "feat_info['missing_or_unknown'].value_counts()"
   ]
  },
  {
   "cell_type": "code",
   "execution_count": 9,
   "metadata": {},
   "outputs": [
    {
     "data": {
      "text/html": [
       "<div>\n",
       "<style scoped>\n",
       "    .dataframe tbody tr th:only-of-type {\n",
       "        vertical-align: middle;\n",
       "    }\n",
       "\n",
       "    .dataframe tbody tr th {\n",
       "        vertical-align: top;\n",
       "    }\n",
       "\n",
       "    .dataframe thead th {\n",
       "        text-align: right;\n",
       "    }\n",
       "</style>\n",
       "<table border=\"1\" class=\"dataframe\">\n",
       "  <thead>\n",
       "    <tr style=\"text-align: right;\">\n",
       "      <th></th>\n",
       "      <th>attribute</th>\n",
       "      <th>information_level</th>\n",
       "      <th>type</th>\n",
       "      <th>missing_or_unknown</th>\n",
       "      <th>dtypes</th>\n",
       "    </tr>\n",
       "  </thead>\n",
       "  <tbody>\n",
       "    <tr>\n",
       "      <th>12</th>\n",
       "      <td>GFK_URLAUBERTYP</td>\n",
       "      <td>person</td>\n",
       "      <td>categorical</td>\n",
       "      <td>[]</td>\n",
       "      <td>float64</td>\n",
       "    </tr>\n",
       "    <tr>\n",
       "      <th>13</th>\n",
       "      <td>GREEN_AVANTGARDE</td>\n",
       "      <td>person</td>\n",
       "      <td>categorical</td>\n",
       "      <td>[]</td>\n",
       "      <td>int64</td>\n",
       "    </tr>\n",
       "    <tr>\n",
       "      <th>44</th>\n",
       "      <td>ANZ_PERSONEN</td>\n",
       "      <td>household</td>\n",
       "      <td>numeric</td>\n",
       "      <td>[]</td>\n",
       "      <td>float64</td>\n",
       "    </tr>\n",
       "    <tr>\n",
       "      <th>45</th>\n",
       "      <td>ANZ_TITEL</td>\n",
       "      <td>household</td>\n",
       "      <td>numeric</td>\n",
       "      <td>[]</td>\n",
       "      <td>float64</td>\n",
       "    </tr>\n",
       "    <tr>\n",
       "      <th>51</th>\n",
       "      <td>ANZ_HH_TITEL</td>\n",
       "      <td>building</td>\n",
       "      <td>numeric</td>\n",
       "      <td>[]</td>\n",
       "      <td>float64</td>\n",
       "    </tr>\n",
       "    <tr>\n",
       "      <th>53</th>\n",
       "      <td>KONSUMNAEHE</td>\n",
       "      <td>building</td>\n",
       "      <td>ordinal</td>\n",
       "      <td>[]</td>\n",
       "      <td>float64</td>\n",
       "    </tr>\n",
       "    <tr>\n",
       "      <th>69</th>\n",
       "      <td>GEBAEUDETYP_RASTER</td>\n",
       "      <td>region_rr1</td>\n",
       "      <td>ordinal</td>\n",
       "      <td>[]</td>\n",
       "      <td>float64</td>\n",
       "    </tr>\n",
       "    <tr>\n",
       "      <th>71</th>\n",
       "      <td>MOBI_REGIO</td>\n",
       "      <td>region_rr1</td>\n",
       "      <td>ordinal</td>\n",
       "      <td>[]</td>\n",
       "      <td>float64</td>\n",
       "    </tr>\n",
       "    <tr>\n",
       "      <th>72</th>\n",
       "      <td>ONLINE_AFFINITAET</td>\n",
       "      <td>region_rr1</td>\n",
       "      <td>ordinal</td>\n",
       "      <td>[]</td>\n",
       "      <td>float64</td>\n",
       "    </tr>\n",
       "    <tr>\n",
       "      <th>74</th>\n",
       "      <td>KBA13_ANZAHL_PKW</td>\n",
       "      <td>macrocell_plz8</td>\n",
       "      <td>numeric</td>\n",
       "      <td>[]</td>\n",
       "      <td>float64</td>\n",
       "    </tr>\n",
       "  </tbody>\n",
       "</table>\n",
       "</div>"
      ],
      "text/plain": [
       "             attribute information_level         type missing_or_unknown  \\\n",
       "12     GFK_URLAUBERTYP            person  categorical                 []   \n",
       "13    GREEN_AVANTGARDE            person  categorical                 []   \n",
       "44        ANZ_PERSONEN         household      numeric                 []   \n",
       "45           ANZ_TITEL         household      numeric                 []   \n",
       "51        ANZ_HH_TITEL          building      numeric                 []   \n",
       "53         KONSUMNAEHE          building      ordinal                 []   \n",
       "69  GEBAEUDETYP_RASTER        region_rr1      ordinal                 []   \n",
       "71          MOBI_REGIO        region_rr1      ordinal                 []   \n",
       "72   ONLINE_AFFINITAET        region_rr1      ordinal                 []   \n",
       "74    KBA13_ANZAHL_PKW    macrocell_plz8      numeric                 []   \n",
       "\n",
       "     dtypes  \n",
       "12  float64  \n",
       "13    int64  \n",
       "44  float64  \n",
       "45  float64  \n",
       "51  float64  \n",
       "53  float64  \n",
       "69  float64  \n",
       "71  float64  \n",
       "72  float64  \n",
       "74  float64  "
      ]
     },
     "execution_count": 9,
     "metadata": {},
     "output_type": "execute_result"
    }
   ],
   "source": [
    "# Preview the attribute with [] as missing value\n",
    "feat_info[feat_info['missing_or_unknown'] == '[]']"
   ]
  },
  {
   "cell_type": "code",
   "execution_count": 10,
   "metadata": {},
   "outputs": [
    {
     "data": {
      "text/plain": [
       "4854"
      ]
     },
     "execution_count": 10,
     "metadata": {},
     "output_type": "execute_result"
    }
   ],
   "source": [
    "sum(azdias['ONLINE_AFFINITAET'].isna())"
   ]
  },
  {
   "cell_type": "code",
   "execution_count": 11,
   "metadata": {},
   "outputs": [],
   "source": [
    "# Define a function to convert string representaion of list into Python list\n",
    "\n",
    "# library to make conversion\n",
    "import ast\n",
    "\n",
    "# This function accepts string representation of a list, converts it,\n",
    "# and finally output a Python list\n",
    "def convert_string_rep_of_list_to_list(input_str):\n",
    "    output_list = ast.literal_eval(input_str)\n",
    "    return output_list\n"
   ]
  },
  {
   "cell_type": "code",
   "execution_count": null,
   "metadata": {},
   "outputs": [
    {
     "data": {
      "text/plain": [
       "8    134441\n",
       "9    108177\n",
       "6    105874\n",
       "4    103912\n",
       "3     86779\n",
       "2     83231\n",
       "7     77933\n",
       "5     55310\n",
       "1     36212\n",
       "X       373\n",
       "Name: CAMEO_DEUG_2015, dtype: int64"
      ]
     },
     "execution_count": 21,
     "metadata": {},
     "output_type": "execute_result"
    }
   ],
   "source": [
    "azdias['CAMEO_DEUG_2015'].value_counts()"
   ]
  },
  {
   "cell_type": "code",
   "execution_count": 12,
   "metadata": {},
   "outputs": [
    {
     "data": {
      "text/plain": [
       "8    134441\n",
       "9    108177\n",
       "6    105874\n",
       "4    103912\n",
       "3     86779\n",
       "2     83231\n",
       "7     77933\n",
       "5     55310\n",
       "1     36212\n",
       "Name: CAMEO_DEUG_2015, dtype: int64"
      ]
     },
     "execution_count": 12,
     "metadata": {},
     "output_type": "execute_result"
    }
   ],
   "source": [
    "replaced_list = convert_string_rep_of_list_to_list(\"[-1,'X']\")\n",
    "azdias['CAMEO_DEUG_2015'].replace(to_replace=replaced_list,value=[np.nan,np.nan]).value_counts()"
   ]
  },
  {
   "cell_type": "code",
   "execution_count": 13,
   "metadata": {},
   "outputs": [],
   "source": [
    "for col in azdias.columns:\n",
    "    # get the characters that symbolize missing value (still represented as Python string)\n",
    "    missing_as_string = feat_info.set_index(keys=['attribute']).loc[col,'missing_or_unknown']\n",
    "    \n",
    "    # convert the list of missing value from Python string into Python list\n",
    "    missing_as_list = convert_string_rep_of_list_to_list(missing_as_string)\n",
    "    \n",
    "    # replace the missing values into Numpy NaN\n",
    "    # if the missing_or_unknown value for feat_info is not equal to \"[]\", i.e. list member equal to 0\n",
    "    if len(missing_as_list) >= 1:\n",
    "        azdias[col].replace(to_replace=missing_as_list,value=np.nan,inplace=True)\n",
    "    "
   ]
  },
  {
   "cell_type": "code",
   "execution_count": 14,
   "metadata": {},
   "outputs": [
    {
     "name": "stdout",
     "output_type": "stream",
     "text": [
      "775687058\n",
      "31134\n"
     ]
    }
   ],
   "source": [
    "import sys\n",
    "\n",
    "print(sys.getsizeof(azdias))\n",
    "print(sys.getsizeof(feat_info))\n",
    "#print(sys.getsizeof(missing_data_lookup))"
   ]
  },
  {
   "cell_type": "code",
   "execution_count": 15,
   "metadata": {},
   "outputs": [
    {
     "name": "stdout",
     "output_type": "stream",
     "text": [
      "The number of NaN data after the converstion: 8373929\n"
     ]
    },
    {
     "data": {
      "text/plain": [
       "<AxesSubplot:>"
      ]
     },
     "execution_count": 15,
     "metadata": {},
     "output_type": "execute_result"
    },
    {
     "data": {
      "image/png": "[encoded data removed]",
      "text/plain": [
       "<Figure size 432x288 with 1 Axes>"
      ]
     },
     "metadata": {
      "needs_background": "light"
     },
     "output_type": "display_data"
    }
   ],
   "source": [
    "# Print the number of NaN in azdias\n",
    "print('The number of NaN data after the converstion:',azdias.isna().sum().sum())\n",
    "azdias.isna().sum().plot(kind='bar')"
   ]
  },
  {
   "cell_type": "markdown",
   "metadata": {},
   "source": [
    "#### Step 1.1.2: Assess Missing Data in Each Column\n",
    "\n",
    "How much missing data is present in each column? There are a few columns that are outliers in terms of the proportion of values that are missing. You will want to use matplotlib's [`hist()`](https://matplotlib.org/api/_as_gen/matplotlib.pyplot.hist.html) function to visualize the distribution of missing value counts to find these columns. Identify and document these columns. While some of these columns might have justifications for keeping or re-encoding the data, for this project you should just remove them from the dataframe. (Feel free to make remarks about these outlier columns in the discussion, however!)\n",
    "\n",
    "For the remaining features, are there any patterns in which columns have, or share, missing data?"
   ]
  },
  {
   "cell_type": "code",
   "execution_count": 16,
   "metadata": {},
   "outputs": [
    {
     "data": {
      "text/html": [
       "<div>\n",
       "<style scoped>\n",
       "    .dataframe tbody tr th:only-of-type {\n",
       "        vertical-align: middle;\n",
       "    }\n",
       "\n",
       "    .dataframe tbody tr th {\n",
       "        vertical-align: top;\n",
       "    }\n",
       "\n",
       "    .dataframe thead th {\n",
       "        text-align: right;\n",
       "    }\n",
       "</style>\n",
       "<table border=\"1\" class=\"dataframe\">\n",
       "  <thead>\n",
       "    <tr style=\"text-align: right;\">\n",
       "      <th></th>\n",
       "      <th>count_missing</th>\n",
       "      <th>ratio_missing</th>\n",
       "      <th>information_level</th>\n",
       "    </tr>\n",
       "  </thead>\n",
       "  <tbody>\n",
       "    <tr>\n",
       "      <th>TITEL_KZ</th>\n",
       "      <td>889061</td>\n",
       "      <td>0.997576</td>\n",
       "      <td>person</td>\n",
       "    </tr>\n",
       "    <tr>\n",
       "      <th>AGER_TYP</th>\n",
       "      <td>685843</td>\n",
       "      <td>0.769554</td>\n",
       "      <td>person</td>\n",
       "    </tr>\n",
       "    <tr>\n",
       "      <th>KK_KUNDENTYP</th>\n",
       "      <td>584612</td>\n",
       "      <td>0.655967</td>\n",
       "      <td>household</td>\n",
       "    </tr>\n",
       "    <tr>\n",
       "      <th>KBA05_BAUMAX</th>\n",
       "      <td>476524</td>\n",
       "      <td>0.534687</td>\n",
       "      <td>microcell_rr3</td>\n",
       "    </tr>\n",
       "    <tr>\n",
       "      <th>GEBURTSJAHR</th>\n",
       "      <td>392318</td>\n",
       "      <td>0.440203</td>\n",
       "      <td>person</td>\n",
       "    </tr>\n",
       "    <tr>\n",
       "      <th>ALTER_HH</th>\n",
       "      <td>310267</td>\n",
       "      <td>0.348137</td>\n",
       "      <td>household</td>\n",
       "    </tr>\n",
       "    <tr>\n",
       "      <th>KKK</th>\n",
       "      <td>158064</td>\n",
       "      <td>0.177357</td>\n",
       "      <td>region_rr1</td>\n",
       "    </tr>\n",
       "    <tr>\n",
       "      <th>REGIOTYP</th>\n",
       "      <td>158064</td>\n",
       "      <td>0.177357</td>\n",
       "      <td>region_rr1</td>\n",
       "    </tr>\n",
       "    <tr>\n",
       "      <th>W_KEIT_KIND_HH</th>\n",
       "      <td>147988</td>\n",
       "      <td>0.166051</td>\n",
       "      <td>household</td>\n",
       "    </tr>\n",
       "    <tr>\n",
       "      <th>KBA05_ANTG1</th>\n",
       "      <td>133324</td>\n",
       "      <td>0.149597</td>\n",
       "      <td>microcell_rr3</td>\n",
       "    </tr>\n",
       "    <tr>\n",
       "      <th>KBA05_ANTG2</th>\n",
       "      <td>133324</td>\n",
       "      <td>0.149597</td>\n",
       "      <td>microcell_rr3</td>\n",
       "    </tr>\n",
       "    <tr>\n",
       "      <th>KBA05_ANTG3</th>\n",
       "      <td>133324</td>\n",
       "      <td>0.149597</td>\n",
       "      <td>microcell_rr3</td>\n",
       "    </tr>\n",
       "    <tr>\n",
       "      <th>KBA05_ANTG4</th>\n",
       "      <td>133324</td>\n",
       "      <td>0.149597</td>\n",
       "      <td>microcell_rr3</td>\n",
       "    </tr>\n",
       "    <tr>\n",
       "      <th>KBA05_GBZ</th>\n",
       "      <td>133324</td>\n",
       "      <td>0.149597</td>\n",
       "      <td>microcell_rr3</td>\n",
       "    </tr>\n",
       "    <tr>\n",
       "      <th>MOBI_REGIO</th>\n",
       "      <td>133324</td>\n",
       "      <td>0.149597</td>\n",
       "      <td>region_rr1</td>\n",
       "    </tr>\n",
       "    <tr>\n",
       "      <th>PLZ8_ANTG3</th>\n",
       "      <td>116515</td>\n",
       "      <td>0.130736</td>\n",
       "      <td>macrocell_plz8</td>\n",
       "    </tr>\n",
       "    <tr>\n",
       "      <th>PLZ8_ANTG2</th>\n",
       "      <td>116515</td>\n",
       "      <td>0.130736</td>\n",
       "      <td>macrocell_plz8</td>\n",
       "    </tr>\n",
       "    <tr>\n",
       "      <th>PLZ8_GBZ</th>\n",
       "      <td>116515</td>\n",
       "      <td>0.130736</td>\n",
       "      <td>macrocell_plz8</td>\n",
       "    </tr>\n",
       "    <tr>\n",
       "      <th>PLZ8_HHZ</th>\n",
       "      <td>116515</td>\n",
       "      <td>0.130736</td>\n",
       "      <td>macrocell_plz8</td>\n",
       "    </tr>\n",
       "    <tr>\n",
       "      <th>PLZ8_ANTG1</th>\n",
       "      <td>116515</td>\n",
       "      <td>0.130736</td>\n",
       "      <td>macrocell_plz8</td>\n",
       "    </tr>\n",
       "    <tr>\n",
       "      <th>PLZ8_BAUMAX</th>\n",
       "      <td>116515</td>\n",
       "      <td>0.130736</td>\n",
       "      <td>macrocell_plz8</td>\n",
       "    </tr>\n",
       "    <tr>\n",
       "      <th>PLZ8_ANTG4</th>\n",
       "      <td>116515</td>\n",
       "      <td>0.130736</td>\n",
       "      <td>macrocell_plz8</td>\n",
       "    </tr>\n",
       "    <tr>\n",
       "      <th>VERS_TYP</th>\n",
       "      <td>111196</td>\n",
       "      <td>0.124768</td>\n",
       "      <td>person</td>\n",
       "    </tr>\n",
       "    <tr>\n",
       "      <th>HEALTH_TYP</th>\n",
       "      <td>111196</td>\n",
       "      <td>0.124768</td>\n",
       "      <td>person</td>\n",
       "    </tr>\n",
       "    <tr>\n",
       "      <th>SHOPPER_TYP</th>\n",
       "      <td>111196</td>\n",
       "      <td>0.124768</td>\n",
       "      <td>person</td>\n",
       "    </tr>\n",
       "    <tr>\n",
       "      <th>NATIONALITAET_KZ</th>\n",
       "      <td>108315</td>\n",
       "      <td>0.121536</td>\n",
       "      <td>person</td>\n",
       "    </tr>\n",
       "    <tr>\n",
       "      <th>PRAEGENDE_JUGENDJAHRE</th>\n",
       "      <td>108164</td>\n",
       "      <td>0.121366</td>\n",
       "      <td>person</td>\n",
       "    </tr>\n",
       "    <tr>\n",
       "      <th>KBA13_ANZAHL_PKW</th>\n",
       "      <td>105800</td>\n",
       "      <td>0.118714</td>\n",
       "      <td>macrocell_plz8</td>\n",
       "    </tr>\n",
       "    <tr>\n",
       "      <th>ANZ_HAUSHALTE_AKTIV</th>\n",
       "      <td>99611</td>\n",
       "      <td>0.111769</td>\n",
       "      <td>building</td>\n",
       "    </tr>\n",
       "    <tr>\n",
       "      <th>CAMEO_INTL_2015</th>\n",
       "      <td>99352</td>\n",
       "      <td>0.111479</td>\n",
       "      <td>microcell_rr4</td>\n",
       "    </tr>\n",
       "    <tr>\n",
       "      <th>CAMEO_DEU_2015</th>\n",
       "      <td>99352</td>\n",
       "      <td>0.111479</td>\n",
       "      <td>microcell_rr4</td>\n",
       "    </tr>\n",
       "    <tr>\n",
       "      <th>CAMEO_DEUG_2015</th>\n",
       "      <td>99352</td>\n",
       "      <td>0.111479</td>\n",
       "      <td>microcell_rr4</td>\n",
       "    </tr>\n",
       "    <tr>\n",
       "      <th>LP_LEBENSPHASE_FEIN</th>\n",
       "      <td>97632</td>\n",
       "      <td>0.109549</td>\n",
       "      <td>person</td>\n",
       "    </tr>\n",
       "    <tr>\n",
       "      <th>ARBEIT</th>\n",
       "      <td>97375</td>\n",
       "      <td>0.109260</td>\n",
       "      <td>community</td>\n",
       "    </tr>\n",
       "    <tr>\n",
       "      <th>RELAT_AB</th>\n",
       "      <td>97375</td>\n",
       "      <td>0.109260</td>\n",
       "      <td>community</td>\n",
       "    </tr>\n",
       "    <tr>\n",
       "      <th>ORTSGR_KLS9</th>\n",
       "      <td>97274</td>\n",
       "      <td>0.109147</td>\n",
       "      <td>community</td>\n",
       "    </tr>\n",
       "    <tr>\n",
       "      <th>ANZ_HH_TITEL</th>\n",
       "      <td>97008</td>\n",
       "      <td>0.108848</td>\n",
       "      <td>building</td>\n",
       "    </tr>\n",
       "    <tr>\n",
       "      <th>LP_LEBENSPHASE_GROB</th>\n",
       "      <td>94572</td>\n",
       "      <td>0.106115</td>\n",
       "      <td>person</td>\n",
       "    </tr>\n",
       "    <tr>\n",
       "      <th>INNENSTADT</th>\n",
       "      <td>93740</td>\n",
       "      <td>0.105182</td>\n",
       "      <td>postcode</td>\n",
       "    </tr>\n",
       "    <tr>\n",
       "      <th>EWDICHTE</th>\n",
       "      <td>93740</td>\n",
       "      <td>0.105182</td>\n",
       "      <td>postcode</td>\n",
       "    </tr>\n",
       "  </tbody>\n",
       "</table>\n",
       "</div>"
      ],
      "text/plain": [
       "                       count_missing  ratio_missing information_level\n",
       "TITEL_KZ                      889061       0.997576            person\n",
       "AGER_TYP                      685843       0.769554            person\n",
       "KK_KUNDENTYP                  584612       0.655967         household\n",
       "KBA05_BAUMAX                  476524       0.534687     microcell_rr3\n",
       "GEBURTSJAHR                   392318       0.440203            person\n",
       "ALTER_HH                      310267       0.348137         household\n",
       "KKK                           158064       0.177357        region_rr1\n",
       "REGIOTYP                      158064       0.177357        region_rr1\n",
       "W_KEIT_KIND_HH                147988       0.166051         household\n",
       "KBA05_ANTG1                   133324       0.149597     microcell_rr3\n",
       "KBA05_ANTG2                   133324       0.149597     microcell_rr3\n",
       "KBA05_ANTG3                   133324       0.149597     microcell_rr3\n",
       "KBA05_ANTG4                   133324       0.149597     microcell_rr3\n",
       "KBA05_GBZ                     133324       0.149597     microcell_rr3\n",
       "MOBI_REGIO                    133324       0.149597        region_rr1\n",
       "PLZ8_ANTG3                    116515       0.130736    macrocell_plz8\n",
       "PLZ8_ANTG2                    116515       0.130736    macrocell_plz8\n",
       "PLZ8_GBZ                      116515       0.130736    macrocell_plz8\n",
       "PLZ8_HHZ                      116515       0.130736    macrocell_plz8\n",
       "PLZ8_ANTG1                    116515       0.130736    macrocell_plz8\n",
       "PLZ8_BAUMAX                   116515       0.130736    macrocell_plz8\n",
       "PLZ8_ANTG4                    116515       0.130736    macrocell_plz8\n",
       "VERS_TYP                      111196       0.124768            person\n",
       "HEALTH_TYP                    111196       0.124768            person\n",
       "SHOPPER_TYP                   111196       0.124768            person\n",
       "NATIONALITAET_KZ              108315       0.121536            person\n",
       "PRAEGENDE_JUGENDJAHRE         108164       0.121366            person\n",
       "KBA13_ANZAHL_PKW              105800       0.118714    macrocell_plz8\n",
       "ANZ_HAUSHALTE_AKTIV            99611       0.111769          building\n",
       "CAMEO_INTL_2015                99352       0.111479     microcell_rr4\n",
       "CAMEO_DEU_2015                 99352       0.111479     microcell_rr4\n",
       "CAMEO_DEUG_2015                99352       0.111479     microcell_rr4\n",
       "LP_LEBENSPHASE_FEIN            97632       0.109549            person\n",
       "ARBEIT                         97375       0.109260         community\n",
       "RELAT_AB                       97375       0.109260         community\n",
       "ORTSGR_KLS9                    97274       0.109147         community\n",
       "ANZ_HH_TITEL                   97008       0.108848          building\n",
       "LP_LEBENSPHASE_GROB            94572       0.106115            person\n",
       "INNENSTADT                     93740       0.105182          postcode\n",
       "EWDICHTE                       93740       0.105182          postcode"
      ]
     },
     "execution_count": 16,
     "metadata": {},
     "output_type": "execute_result"
    }
   ],
   "source": [
    "# Perform an assessment of how much missing data there is in each column of the\n",
    "# dataset.\n",
    "azdias_missing = pd.DataFrame(azdias.isna().sum(), columns=['count_missing'])\n",
    "azdias_missing['ratio_missing'] = azdias_missing['count_missing']/azdias.shape[0]\n",
    "azdias_missing = azdias_missing.join(feat_info.set_index(['attribute']))\n",
    "azdias_missing.drop(['dtypes','missing_or_unknown','type'], axis=1, inplace=True)\n",
    "azdias_missing.sort_values(by=['ratio_missing'], ascending=False, inplace=True)\n",
    "azdias_missing.head(40)"
   ]
  },
  {
   "cell_type": "markdown",
   "metadata": {},
   "source": [
    "In the result above, we can see that the count of missing values in 'microcell_rr3' or 'macrocell_plz8' are exactly the same. This implies that there are some rows with NaN within that \"information level\", and these rows should be dropped (will be done in next section, 1.1.3). But for now, I am going to remove columns with missing value more than 20%."
   ]
  },
  {
   "cell_type": "markdown",
   "metadata": {},
   "source": [
    "The reason of 20% is because there is a large gap of missing ratio between ALTER_HH (34.8%) and KKK (17.7%), and 20% is between them. As another proof, the histogram plot also suggests that dropping columns with >20% of missing values still retain about 80% of data. "
   ]
  },
  {
   "cell_type": "code",
   "execution_count": 19,
   "metadata": {},
   "outputs": [
    {
     "data": {
      "text/plain": [
       "Text(0, 0.5, 'Number of columns')"
      ]
     },
     "execution_count": 19,
     "metadata": {},
     "output_type": "execute_result"
    },
    {
     "data": {
      "image/png": "[encoded data removed]",
      "text/plain": [
       "<Figure size 432x288 with 1 Axes>"
      ]
     },
     "metadata": {
      "needs_background": "light"
     },
     "output_type": "display_data"
    }
   ],
   "source": [
    "# Plot histogram of missing value vs number of column.\n",
    "plt.hist(azdias_missing['ratio_missing'])\n",
    "plt.xlabel('Ratio of missing values')\n",
    "plt.ylabel('Number of columns')"
   ]
  },
  {
   "cell_type": "code",
   "execution_count": 20,
   "metadata": {},
   "outputs": [
    {
     "name": "stdout",
     "output_type": "stream",
     "text": [
      "from 85 columns, will drop 6\n",
      "droped 6 columns, the remaining is 79 columns\n"
     ]
    }
   ],
   "source": [
    "# Remove the outlier columns from the dataset. (You'll perform other data\n",
    "# engineering tasks such as re-encoding and imputation later.)\n",
    "missing_threshold = 0.2\n",
    "cols_to_drop = azdias_missing[azdias_missing['ratio_missing'] > missing_threshold].index\n",
    "\n",
    "print('from {0} columns, will drop {1}'.format(azdias.shape[1], len(cols_to_drop)))\n",
    "azdias = azdias.drop(cols_to_drop, axis=1)\n",
    "print('droped {0} columns, the remaining is {1} columns'.format(len(cols_to_drop), azdias.shape[1]))"
   ]
  },
  {
   "cell_type": "code",
   "execution_count": 21,
   "metadata": {},
   "outputs": [
    {
     "name": "stdout",
     "output_type": "stream",
     "text": [
      "columns dropped:  ['TITEL_KZ' 'AGER_TYP' 'KK_KUNDENTYP' 'KBA05_BAUMAX' 'GEBURTSJAHR'\n",
      " 'ALTER_HH']\n"
     ]
    }
   ],
   "source": [
    "print(\"columns dropped: \", cols_to_drop.values)"
   ]
  },
  {
   "cell_type": "markdown",
   "metadata": {},
   "source": [
    "#### Discussion 1.1.2: Assess Missing Data in Each Column\n",
    "*(Double click this cell and replace this text with your own text, reporting your observations regarding the amount of missing data in each column. Are there any patterns in missing values? Which columns were removed from the dataset?)*\n",
    "\n",
    "There are 6 columns with NaN ratio above 20% that I dropped. These columns are 'TITEL_KZ' 'AGER_TYP' 'KK_KUNDENTYP' 'KBA05_BAUMAX' 'GEBURTSJAHR' 'ALTER_HH'. I plan to replace the NaN data with the mode. Since replacing too many items may distort the data, I set a threshold of 20% to decide whether keeping a column or dropping it.\n",
    "\n",
    "I found that 40% of columns have almost none of missing data, 50% of columns have 10ish% of NaN, while the rest of 10% data have 20+% of NaN. And the columns with 10ish% of missing data belong to the same \"information level\". Perhaps there is a systematic error when collecting the data (in this case a whole row may be dropped later)."
   ]
  },
  {
   "cell_type": "markdown",
   "metadata": {},
   "source": [
    "#### Step 1.1.3: Assess Missing Data in Each Row\n",
    "\n",
    "Now, you'll perform a similar assessment for the rows of the dataset. How much data is missing in each row? As with the columns, you should see some groups of points that have a very different numbers of missing values. Divide the data into two subsets: one for data points that are above some threshold for missing values, and a second subset for points below that threshold.\n",
    "\n",
    "In order to know what to do with the outlier rows, we should see if the distribution of data values on columns that are not missing data (or are missing very little data) are similar or different between the two groups. Select at least five of these columns and compare the distribution of values.\n",
    "- You can use seaborn's [`countplot()`](https://seaborn.pydata.org/generated/seaborn.countplot.html) function to create a bar chart of code frequencies and matplotlib's [`subplot()`](https://matplotlib.org/api/_as_gen/matplotlib.pyplot.subplot.html) function to put bar charts for the two subplots side by side.\n",
    "- To reduce repeated code, you might want to write a function that can perform this comparison, taking as one of its arguments a column to be compared.\n",
    "\n",
    "Depending on what you observe in your comparison, this will have implications on how you approach your conclusions later in the analysis. If the distributions of non-missing features look similar between the data with many missing values and the data with few or no missing values, then we could argue that simply dropping those points from the analysis won't present a major issue. On the other hand, if the data with many missing values looks very different from the data with few or no missing values, then we should make a note on those data as special. We'll revisit these data later on. **Either way, you should continue your analysis for now using just the subset of the data with few or no missing values.**"
   ]
  },
  {
   "cell_type": "code",
   "execution_count": 25,
   "metadata": {},
   "outputs": [
    {
     "name": "stdout",
     "output_type": "stream",
     "text": [
      "dataset size (rows,cols):  (891221, 79)\n"
     ]
    },
    {
     "data": {
      "text/plain": [
       "Text(0, 0.5, 'number of rows')"
      ]
     },
     "execution_count": 25,
     "metadata": {},
     "output_type": "execute_result"
    },
    {
     "data": {
      "image/png": "[encoded data removed]",
      "text/plain": [
       "<Figure size 432x288 with 1 Axes>"
      ]
     },
     "metadata": {
      "needs_background": "light"
     },
     "output_type": "display_data"
    }
   ],
   "source": [
    "# How much data is missing in each row of the dataset?\n",
    "print(\"dataset size (rows,cols): \", azdias.shape)\n",
    "azdias_missing_row = azdias.isna().sum(axis=1)\n",
    "plt.hist(azdias_missing_row)\n",
    "plt.title('Distribution of missing data in each row')\n",
    "plt.xlabel('number of missing values (max 85)')\n",
    "plt.ylabel('number of rows')"
   ]
  },
  {
   "cell_type": "code",
   "execution_count": 26,
   "metadata": {},
   "outputs": [
    {
     "name": "stdout",
     "output_type": "stream",
     "text": [
      "the size of data subset with low and high number of missing values in each row\n",
      " -  low missing value subset:  (797077, 79)\n",
      " - high missing value subset:  (94144, 79)\n"
     ]
    }
   ],
   "source": [
    "# Write code to divide the data into two subsets based on the number of missing\n",
    "# values in each row.\n",
    "missing_row_threshold = 20\n",
    "lo_miss = azdias_missing_row[azdias_missing_row < missing_row_threshold]\n",
    "hi_miss = azdias_missing_row[azdias_missing_row >= missing_row_threshold]\n",
    "azdias_lo_miss = azdias.iloc[lo_miss.index,:]\n",
    "azdias_hi_miss = azdias.iloc[hi_miss.index,:]\n",
    "\n",
    "print('the size of data subset with low and high number of missing values in each row')\n",
    "print(' -  low missing value subset: ', azdias_lo_miss.shape)\n",
    "print(' - high missing value subset: ', azdias_hi_miss.shape)"
   ]
  },
  {
   "cell_type": "code",
   "execution_count": 27,
   "metadata": {},
   "outputs": [],
   "source": [
    "# Compare the distribution of values for at least five columns where there are\n",
    "# no or few missing values, between the two subsets.\n",
    "import seaborn as sns\n",
    "\n",
    "def plot_comparison_of_missing_val_in_row(column_name, axes, axes_row_idx):\n",
    "    sns.countplot(x=column_name, data=azdias_lo_miss, ax=axes[axes_row_idx,0])\n",
    "    axes[axes_row_idx,0].set_title('low missing value - ' + column_name)\n",
    "\n",
    "    sns.countplot(x=column_name, data=azdias_hi_miss, ax=axes[axes_row_idx,1])\n",
    "    axes[axes_row_idx,1].set_title('high missing value - ' + column_name)"
   ]
  },
  {
   "cell_type": "code",
   "execution_count": 28,
   "metadata": {},
   "outputs": [
    {
     "data": {
      "image/png": "[encoded data removed]",
      "text/plain": [
       "<Figure size 864x1944 with 10 Axes>"
      ]
     },
     "metadata": {
      "needs_background": "light"
     },
     "output_type": "display_data"
    }
   ],
   "source": [
    "# Randomly take 5 columns to investigate\n",
    "col_idx = np.random.randint(low=0, high=azdias.shape[1], size=(5))\n",
    "columns_to_inspect = azdias.columns[col_idx]\n",
    "\n",
    "# Prepare subplot\n",
    "fig,axes = plt.subplots(5, 2, figsize=(12,27))\n",
    "\n",
    "# Iterate the plotting using seaborn countplot\n",
    "for (i, col_name) in enumerate(columns_to_inspect):\n",
    "    plot_comparison_of_missing_val_in_row(column_name=col_name, axes=axes, axes_row_idx=i)"
   ]
  },
  {
   "cell_type": "code",
   "execution_count": 29,
   "metadata": {},
   "outputs": [
    {
     "data": {
      "image/png": "[encoded data removed]",
      "text/plain": [
       "<Figure size 864x1944 with 10 Axes>"
      ]
     },
     "metadata": {
      "needs_background": "light"
     },
     "output_type": "display_data"
    }
   ],
   "source": [
    "# Inspect columns in microcell_rr3\n",
    "columns_to_inspect = ['KBA05_ANTG1', 'KBA05_ANTG2', 'KBA05_ANTG3', 'KBA05_ANTG4', 'KBA05_GBZ']\n",
    "\n",
    "# Prepare subplot\n",
    "fig,axes = plt.subplots(5, 2, figsize=(12,27))\n",
    "\n",
    "# Iterate the plotting using seaborn countplot\n",
    "for (i, col_name) in enumerate(columns_to_inspect):\n",
    "    plot_comparison_of_missing_val_in_row(column_name=col_name, axes=axes, axes_row_idx=i)"
   ]
  },
  {
   "cell_type": "code",
   "execution_count": 30,
   "metadata": {},
   "outputs": [
    {
     "data": {
      "image/png": "[encoded data removed]",
      "text/plain": [
       "<Figure size 864x2880 with 16 Axes>"
      ]
     },
     "metadata": {
      "needs_background": "light"
     },
     "output_type": "display_data"
    }
   ],
   "source": [
    "# Inspect columns in macrocell_plz8\n",
    "columns_to_inspect = ['KBA13_ANZAHL_PKW', 'PLZ8_ANTG1', 'PLZ8_ANTG2', 'PLZ8_ANTG3', 'PLZ8_ANTG4', 'PLZ8_BAUMAX', 'PLZ8_HHZ', 'PLZ8_GBZ']\n",
    "\n",
    "# Prepare subplot\n",
    "fig,axes = plt.subplots(8, 2, figsize=(12,40))\n",
    "\n",
    "# Iterate the plotting using seaborn countplot\n",
    "for (i, col_name) in enumerate(columns_to_inspect):\n",
    "    plot_comparison_of_missing_val_in_row(column_name=col_name, axes=axes, axes_row_idx=i)"
   ]
  },
  {
   "cell_type": "markdown",
   "metadata": {},
   "source": [
    "#### Discussion 1.1.3: Assess Missing Data in Each Row\n",
    "*Assessing the missing data in each row concludes that rows with high number of missing value **should be dropped**. Justification:*\n",
    "1. *The shape/distribution between low and high missing value subset are similar.*\n",
    "2. *In some columns, like `macrocell_plz8` or `microcell_rr3`, the amount of missing values are really high. For example, there are over 90,000 rows in high-missing-data subset, however the number of rows with data is only less than 50 in this subset. In other words, the high-missing-data subset has too few data points in `macrocell_plz8` or `microcell_rr3`, which cause us unable to analyze these categories.*"
   ]
  },
  {
   "cell_type": "markdown",
   "metadata": {},
   "source": [
    "### Step 1.2: Select and Re-Encode Features\n",
    "\n",
    "Checking for missing data isn't the only way in which you can prepare a dataset for analysis. Since the unsupervised learning techniques to be used will only work on data that is encoded numerically, you need to make a few encoding changes or additional assumptions to be able to make progress. In addition, while almost all of the values in the dataset are encoded using numbers, not all of them represent numeric values. Check the third column of the feature summary (`feat_info`) for a summary of types of measurement.\n",
    "- For numeric and interval data, these features can be kept without changes.\n",
    "- Most of the variables in the dataset are ordinal in nature. While ordinal values may technically be non-linear in spacing, make the simplifying assumption that the ordinal variables can be treated as being interval in nature (that is, kept without any changes).\n",
    "- Special handling may be necessary for the remaining two variable types: categorical, and 'mixed'.\n",
    "\n",
    "In the first two parts of this sub-step, you will perform an investigation of the categorical and mixed-type features and make a decision on each of them, whether you will keep, drop, or re-encode each. Then, in the last part, you will create a new data frame with only the selected and engineered columns.\n",
    "\n",
    "Data wrangling is often the trickiest part of the data analysis process, and there's a lot of it to be done here. But stick with it: once you're done with this step, you'll be ready to get to the machine learning parts of the project!"
   ]
  },
  {
   "cell_type": "code",
   "execution_count": 31,
   "metadata": {},
   "outputs": [
    {
     "data": {
      "text/html": [
       "<div>\n",
       "<style scoped>\n",
       "    .dataframe tbody tr th:only-of-type {\n",
       "        vertical-align: middle;\n",
       "    }\n",
       "\n",
       "    .dataframe tbody tr th {\n",
       "        vertical-align: top;\n",
       "    }\n",
       "\n",
       "    .dataframe thead th {\n",
       "        text-align: right;\n",
       "    }\n",
       "</style>\n",
       "<table border=\"1\" class=\"dataframe\">\n",
       "  <thead>\n",
       "    <tr style=\"text-align: right;\">\n",
       "      <th></th>\n",
       "      <th></th>\n",
       "      <th>attribute</th>\n",
       "    </tr>\n",
       "    <tr>\n",
       "      <th>type</th>\n",
       "      <th>dtypes</th>\n",
       "      <th></th>\n",
       "    </tr>\n",
       "  </thead>\n",
       "  <tbody>\n",
       "    <tr>\n",
       "      <th rowspan=\"3\" valign=\"top\">categorical</th>\n",
       "      <th>int64</th>\n",
       "      <td>7</td>\n",
       "    </tr>\n",
       "    <tr>\n",
       "      <th>float64</th>\n",
       "      <td>8</td>\n",
       "    </tr>\n",
       "    <tr>\n",
       "      <th>object</th>\n",
       "      <td>3</td>\n",
       "    </tr>\n",
       "    <tr>\n",
       "      <th rowspan=\"3\" valign=\"top\">mixed</th>\n",
       "      <th>int64</th>\n",
       "      <td>1</td>\n",
       "    </tr>\n",
       "    <tr>\n",
       "      <th>float64</th>\n",
       "      <td>4</td>\n",
       "    </tr>\n",
       "    <tr>\n",
       "      <th>object</th>\n",
       "      <td>1</td>\n",
       "    </tr>\n",
       "    <tr>\n",
       "      <th>numeric</th>\n",
       "      <th>float64</th>\n",
       "      <td>6</td>\n",
       "    </tr>\n",
       "    <tr>\n",
       "      <th rowspan=\"2\" valign=\"top\">ordinal</th>\n",
       "      <th>int64</th>\n",
       "      <td>22</td>\n",
       "    </tr>\n",
       "    <tr>\n",
       "      <th>float64</th>\n",
       "      <td>27</td>\n",
       "    </tr>\n",
       "  </tbody>\n",
       "</table>\n",
       "</div>"
      ],
      "text/plain": [
       "                     attribute\n",
       "type        dtypes            \n",
       "categorical int64            7\n",
       "            float64          8\n",
       "            object           3\n",
       "mixed       int64            1\n",
       "            float64          4\n",
       "            object           1\n",
       "numeric     float64          6\n",
       "ordinal     int64           22\n",
       "            float64         27"
      ]
     },
     "execution_count": 31,
     "metadata": {},
     "output_type": "execute_result"
    }
   ],
   "source": [
    "# How many features are there of each data type?\n",
    "feat_info_after_coldrop = feat_info[feat_info['attribute'].isin(cols_to_drop.values) == False]\n",
    "feat_info_after_coldrop.drop(['information_level','missing_or_unknown'], axis=1).groupby(by=['type','dtypes']).count()"
   ]
  },
  {
   "cell_type": "markdown",
   "metadata": {},
   "source": [
    "#### Step 1.2.1: Re-Encode Categorical Features\n",
    "\n",
    "For categorical data, you would ordinarily need to encode the levels as dummy variables. Depending on the number of categories, perform one of the following:\n",
    "- For binary (two-level) categoricals that take numeric values, you can keep them without needing to do anything.\n",
    "- There is one binary variable that takes on non-numeric values. For this one, you need to re-encode the values as numbers or create a dummy variable.\n",
    "- For multi-level categoricals (three or more values), you can choose to encode the values using multiple dummy variables (e.g. via [OneHotEncoder](http://scikit-learn.org/stable/modules/generated/sklearn.preprocessing.OneHotEncoder.html)), or (to keep things straightforward) just drop them from the analysis. As always, document your choices in the Discussion section."
   ]
  },
  {
   "cell_type": "code",
   "execution_count": 32,
   "metadata": {},
   "outputs": [
    {
     "data": {
      "text/html": [
       "<div>\n",
       "<style scoped>\n",
       "    .dataframe tbody tr th:only-of-type {\n",
       "        vertical-align: middle;\n",
       "    }\n",
       "\n",
       "    .dataframe tbody tr th {\n",
       "        vertical-align: top;\n",
       "    }\n",
       "\n",
       "    .dataframe thead th {\n",
       "        text-align: right;\n",
       "    }\n",
       "</style>\n",
       "<table border=\"1\" class=\"dataframe\">\n",
       "  <thead>\n",
       "    <tr style=\"text-align: right;\">\n",
       "      <th></th>\n",
       "      <th>attribute</th>\n",
       "      <th>information_level</th>\n",
       "      <th>type</th>\n",
       "      <th>missing_or_unknown</th>\n",
       "      <th>dtypes</th>\n",
       "      <th>num_of_categories</th>\n",
       "    </tr>\n",
       "  </thead>\n",
       "  <tbody>\n",
       "    <tr>\n",
       "      <th>2</th>\n",
       "      <td>ANREDE_KZ</td>\n",
       "      <td>person</td>\n",
       "      <td>categorical</td>\n",
       "      <td>[-1,0]</td>\n",
       "      <td>int64</td>\n",
       "      <td>2</td>\n",
       "    </tr>\n",
       "    <tr>\n",
       "      <th>3</th>\n",
       "      <td>CJT_GESAMTTYP</td>\n",
       "      <td>person</td>\n",
       "      <td>categorical</td>\n",
       "      <td>[0]</td>\n",
       "      <td>float64</td>\n",
       "      <td>6</td>\n",
       "    </tr>\n",
       "    <tr>\n",
       "      <th>10</th>\n",
       "      <td>FINANZTYP</td>\n",
       "      <td>person</td>\n",
       "      <td>categorical</td>\n",
       "      <td>[-1]</td>\n",
       "      <td>int64</td>\n",
       "      <td>6</td>\n",
       "    </tr>\n",
       "    <tr>\n",
       "      <th>12</th>\n",
       "      <td>GFK_URLAUBERTYP</td>\n",
       "      <td>person</td>\n",
       "      <td>categorical</td>\n",
       "      <td>[]</td>\n",
       "      <td>float64</td>\n",
       "      <td>12</td>\n",
       "    </tr>\n",
       "    <tr>\n",
       "      <th>13</th>\n",
       "      <td>GREEN_AVANTGARDE</td>\n",
       "      <td>person</td>\n",
       "      <td>categorical</td>\n",
       "      <td>[]</td>\n",
       "      <td>int64</td>\n",
       "      <td>2</td>\n",
       "    </tr>\n",
       "    <tr>\n",
       "      <th>17</th>\n",
       "      <td>LP_FAMILIE_FEIN</td>\n",
       "      <td>person</td>\n",
       "      <td>categorical</td>\n",
       "      <td>[0]</td>\n",
       "      <td>float64</td>\n",
       "      <td>11</td>\n",
       "    </tr>\n",
       "    <tr>\n",
       "      <th>18</th>\n",
       "      <td>LP_FAMILIE_GROB</td>\n",
       "      <td>person</td>\n",
       "      <td>categorical</td>\n",
       "      <td>[0]</td>\n",
       "      <td>float64</td>\n",
       "      <td>5</td>\n",
       "    </tr>\n",
       "    <tr>\n",
       "      <th>19</th>\n",
       "      <td>LP_STATUS_FEIN</td>\n",
       "      <td>person</td>\n",
       "      <td>categorical</td>\n",
       "      <td>[0]</td>\n",
       "      <td>float64</td>\n",
       "      <td>10</td>\n",
       "    </tr>\n",
       "    <tr>\n",
       "      <th>20</th>\n",
       "      <td>LP_STATUS_GROB</td>\n",
       "      <td>person</td>\n",
       "      <td>categorical</td>\n",
       "      <td>[0]</td>\n",
       "      <td>float64</td>\n",
       "      <td>5</td>\n",
       "    </tr>\n",
       "    <tr>\n",
       "      <th>21</th>\n",
       "      <td>NATIONALITAET_KZ</td>\n",
       "      <td>person</td>\n",
       "      <td>categorical</td>\n",
       "      <td>[-1,0]</td>\n",
       "      <td>int64</td>\n",
       "      <td>3</td>\n",
       "    </tr>\n",
       "    <tr>\n",
       "      <th>38</th>\n",
       "      <td>SHOPPER_TYP</td>\n",
       "      <td>person</td>\n",
       "      <td>categorical</td>\n",
       "      <td>[-1]</td>\n",
       "      <td>int64</td>\n",
       "      <td>4</td>\n",
       "    </tr>\n",
       "    <tr>\n",
       "      <th>39</th>\n",
       "      <td>SOHO_KZ</td>\n",
       "      <td>person</td>\n",
       "      <td>categorical</td>\n",
       "      <td>[-1]</td>\n",
       "      <td>float64</td>\n",
       "      <td>2</td>\n",
       "    </tr>\n",
       "    <tr>\n",
       "      <th>41</th>\n",
       "      <td>VERS_TYP</td>\n",
       "      <td>person</td>\n",
       "      <td>categorical</td>\n",
       "      <td>[-1]</td>\n",
       "      <td>int64</td>\n",
       "      <td>2</td>\n",
       "    </tr>\n",
       "    <tr>\n",
       "      <th>42</th>\n",
       "      <td>ZABEOTYP</td>\n",
       "      <td>person</td>\n",
       "      <td>categorical</td>\n",
       "      <td>[-1,9]</td>\n",
       "      <td>int64</td>\n",
       "      <td>6</td>\n",
       "    </tr>\n",
       "    <tr>\n",
       "      <th>52</th>\n",
       "      <td>GEBAEUDETYP</td>\n",
       "      <td>building</td>\n",
       "      <td>categorical</td>\n",
       "      <td>[-1,0]</td>\n",
       "      <td>float64</td>\n",
       "      <td>7</td>\n",
       "    </tr>\n",
       "    <tr>\n",
       "      <th>55</th>\n",
       "      <td>OST_WEST_KZ</td>\n",
       "      <td>building</td>\n",
       "      <td>categorical</td>\n",
       "      <td>[-1]</td>\n",
       "      <td>object</td>\n",
       "      <td>2</td>\n",
       "    </tr>\n",
       "    <tr>\n",
       "      <th>57</th>\n",
       "      <td>CAMEO_DEUG_2015</td>\n",
       "      <td>microcell_rr4</td>\n",
       "      <td>categorical</td>\n",
       "      <td>[-1,'X']</td>\n",
       "      <td>object</td>\n",
       "      <td>9</td>\n",
       "    </tr>\n",
       "    <tr>\n",
       "      <th>58</th>\n",
       "      <td>CAMEO_DEU_2015</td>\n",
       "      <td>microcell_rr4</td>\n",
       "      <td>categorical</td>\n",
       "      <td>['XX']</td>\n",
       "      <td>object</td>\n",
       "      <td>44</td>\n",
       "    </tr>\n",
       "  </tbody>\n",
       "</table>\n",
       "</div>"
      ],
      "text/plain": [
       "           attribute information_level         type missing_or_unknown  \\\n",
       "2          ANREDE_KZ            person  categorical             [-1,0]   \n",
       "3      CJT_GESAMTTYP            person  categorical                [0]   \n",
       "10         FINANZTYP            person  categorical               [-1]   \n",
       "12   GFK_URLAUBERTYP            person  categorical                 []   \n",
       "13  GREEN_AVANTGARDE            person  categorical                 []   \n",
       "17   LP_FAMILIE_FEIN            person  categorical                [0]   \n",
       "18   LP_FAMILIE_GROB            person  categorical                [0]   \n",
       "19    LP_STATUS_FEIN            person  categorical                [0]   \n",
       "20    LP_STATUS_GROB            person  categorical                [0]   \n",
       "21  NATIONALITAET_KZ            person  categorical             [-1,0]   \n",
       "38       SHOPPER_TYP            person  categorical               [-1]   \n",
       "39           SOHO_KZ            person  categorical               [-1]   \n",
       "41          VERS_TYP            person  categorical               [-1]   \n",
       "42          ZABEOTYP            person  categorical             [-1,9]   \n",
       "52       GEBAEUDETYP          building  categorical             [-1,0]   \n",
       "55       OST_WEST_KZ          building  categorical               [-1]   \n",
       "57   CAMEO_DEUG_2015     microcell_rr4  categorical           [-1,'X']   \n",
       "58    CAMEO_DEU_2015     microcell_rr4  categorical             ['XX']   \n",
       "\n",
       "     dtypes  num_of_categories  \n",
       "2     int64                  2  \n",
       "3   float64                  6  \n",
       "10    int64                  6  \n",
       "12  float64                 12  \n",
       "13    int64                  2  \n",
       "17  float64                 11  \n",
       "18  float64                  5  \n",
       "19  float64                 10  \n",
       "20  float64                  5  \n",
       "21    int64                  3  \n",
       "38    int64                  4  \n",
       "39  float64                  2  \n",
       "41    int64                  2  \n",
       "42    int64                  6  \n",
       "52  float64                  7  \n",
       "55   object                  2  \n",
       "57   object                  9  \n",
       "58   object                 44  "
      ]
     },
     "execution_count": 32,
     "metadata": {},
     "output_type": "execute_result"
    }
   ],
   "source": [
    "# Assess categorical variables: which are binary, which are multi-level, and\n",
    "# which one needs to be re-encoded?\n",
    "\n",
    "# First, copy the feat_info df into a new dataframe, then remove the rows\n",
    "# which the 'attribute' value has been dropped in Step 1.1.2 (missing data analysis by column)\n",
    "categorical_var_df = feat_info[feat_info['type'] == 'categorical'].copy()\n",
    "categorical_var_df = categorical_var_df[categorical_var_df['attribute'].isin(cols_to_drop.values) == False]\n",
    "\n",
    "# Second, create a function to count the number of categories (possible values) in that variable.\n",
    "def count_num_of_category(attribute_name, input_df):\n",
    "    return len(input_df[attribute_name].value_counts())\n",
    "\n",
    "# Third, create a new column in categorical_var_df to hold the number of categories\n",
    "# in the corresponding categorical variable\n",
    "categorical_var_df['num_of_categories'] = categorical_var_df['attribute'].apply(func= count_num_of_category, input_df=azdias)\n",
    "categorical_var_df"
   ]
  },
  {
   "cell_type": "code",
   "execution_count": 33,
   "metadata": {},
   "outputs": [
    {
     "name": "stdout",
     "output_type": "stream",
     "text": [
      "from 79 columns, will drop 5\n",
      "from 5 columns, the remaining is 74 columns\n"
     ]
    }
   ],
   "source": [
    "# Drop unnecessary categorical columns based on the table in Discussion 1.2.1.\n",
    "categorical_cols_to_drop = ['FINANZTYP','LP_FAMILIE_FEIN','LP_STATUS_FEIN','CAMEO_DEUG_2015','CAMEO_DEU_2015']\n",
    "print('from {0} columns, will drop {1}'.format(azdias.shape[1], len(categorical_cols_to_drop)))\n",
    "\n",
    "azdias = azdias.drop(categorical_cols_to_drop, axis=1)\n",
    "print('from {0} columns, the remaining is {1} columns'.format(len(categorical_cols_to_drop), azdias.shape[1]))"
   ]
  },
  {
   "cell_type": "code",
   "execution_count": 34,
   "metadata": {},
   "outputs": [],
   "source": [
    "# Replace values in column GEBAEUDETYP\n",
    "# 1-2 -> res (residential)\n",
    "# 3-8 -> non_res (mixed, company)\n",
    "azdias['GEBAEUDETYP'] = azdias['GEBAEUDETYP'].replace(to_replace=[1, 2], value='res')\n",
    "azdias['GEBAEUDETYP'] = azdias['GEBAEUDETYP'].replace(to_replace=[3, 4, 5, 6, 7, 8], value='non_res')\n"
   ]
  },
  {
   "cell_type": "code",
   "execution_count": 35,
   "metadata": {},
   "outputs": [
    {
     "data": {
      "text/plain": [
       "array(['ALTERSKATEGORIE_GROB', 'ANREDE_KZ', 'FINANZ_MINIMALIST',\n",
       "       'FINANZ_SPARER', 'FINANZ_VORSORGER', 'FINANZ_ANLEGER',\n",
       "       'FINANZ_UNAUFFAELLIGER', 'FINANZ_HAUSBAUER', 'GREEN_AVANTGARDE',\n",
       "       'HEALTH_TYP', 'LP_LEBENSPHASE_FEIN', 'LP_LEBENSPHASE_GROB',\n",
       "       'PRAEGENDE_JUGENDJAHRE', 'RETOURTYP_BK_S', 'SEMIO_SOZ',\n",
       "       'SEMIO_FAM', 'SEMIO_REL', 'SEMIO_MAT', 'SEMIO_VERT', 'SEMIO_LUST',\n",
       "       'SEMIO_ERL', 'SEMIO_KULT', 'SEMIO_RAT', 'SEMIO_KRIT', 'SEMIO_DOM',\n",
       "       'SEMIO_KAEM', 'SEMIO_PFLICHT', 'SEMIO_TRADV', 'SOHO_KZ',\n",
       "       'VERS_TYP', 'ANZ_PERSONEN', 'ANZ_TITEL', 'HH_EINKOMMEN_SCORE',\n",
       "       'W_KEIT_KIND_HH', 'WOHNDAUER_2008', 'ANZ_HAUSHALTE_AKTIV',\n",
       "       'ANZ_HH_TITEL', 'KONSUMNAEHE', 'MIN_GEBAEUDEJAHR', 'WOHNLAGE',\n",
       "       'CAMEO_INTL_2015', 'KBA05_ANTG1', 'KBA05_ANTG2', 'KBA05_ANTG3',\n",
       "       'KBA05_ANTG4', 'KBA05_GBZ', 'BALLRAUM', 'EWDICHTE', 'INNENSTADT',\n",
       "       'GEBAEUDETYP_RASTER', 'KKK', 'MOBI_REGIO', 'ONLINE_AFFINITAET',\n",
       "       'REGIOTYP', 'KBA13_ANZAHL_PKW', 'PLZ8_ANTG1', 'PLZ8_ANTG2',\n",
       "       'PLZ8_ANTG3', 'PLZ8_ANTG4', 'PLZ8_BAUMAX', 'PLZ8_HHZ', 'PLZ8_GBZ',\n",
       "       'ARBEIT', 'ORTSGR_KLS9', 'RELAT_AB', 'CJT_GESAMTTYP_2.0',\n",
       "       'CJT_GESAMTTYP_3.0', 'CJT_GESAMTTYP_4.0', 'CJT_GESAMTTYP_5.0',\n",
       "       'CJT_GESAMTTYP_6.0', 'GFK_URLAUBERTYP_2.0', 'GFK_URLAUBERTYP_3.0',\n",
       "       'GFK_URLAUBERTYP_4.0', 'GFK_URLAUBERTYP_5.0',\n",
       "       'GFK_URLAUBERTYP_6.0', 'GFK_URLAUBERTYP_7.0',\n",
       "       'GFK_URLAUBERTYP_8.0', 'GFK_URLAUBERTYP_9.0',\n",
       "       'GFK_URLAUBERTYP_10.0', 'GFK_URLAUBERTYP_11.0',\n",
       "       'GFK_URLAUBERTYP_12.0', 'LP_FAMILIE_GROB_2.0',\n",
       "       'LP_FAMILIE_GROB_3.0', 'LP_FAMILIE_GROB_4.0',\n",
       "       'LP_FAMILIE_GROB_5.0', 'LP_STATUS_GROB_2.0', 'LP_STATUS_GROB_3.0',\n",
       "       'LP_STATUS_GROB_4.0', 'LP_STATUS_GROB_5.0', 'NATIONALITAET_KZ_2.0',\n",
       "       'NATIONALITAET_KZ_3.0', 'SHOPPER_TYP_1.0', 'SHOPPER_TYP_2.0',\n",
       "       'SHOPPER_TYP_3.0', 'ZABEOTYP_2', 'ZABEOTYP_3', 'ZABEOTYP_4',\n",
       "       'ZABEOTYP_5', 'ZABEOTYP_6', 'GEBAEUDETYP_res', 'OST_WEST_KZ_W'],\n",
       "      dtype=object)"
      ]
     },
     "execution_count": 35,
     "metadata": {},
     "output_type": "execute_result"
    }
   ],
   "source": [
    "# Re-encode categorical variable(s) to be kept in the analysis.\n",
    "# use One Hot Encoding (OHE)\n",
    "cols_to_ohe = ['CJT_GESAMTTYP','GFK_URLAUBERTYP','LP_FAMILIE_GROB','LP_STATUS_GROB','NATIONALITAET_KZ','SHOPPER_TYP','ZABEOTYP','GEBAEUDETYP','OST_WEST_KZ']\n",
    "azdias = pd.get_dummies(data=azdias,\n",
    "                prefix=cols_to_ohe,\n",
    "                columns=cols_to_ohe,\n",
    "                drop_first=True)\n",
    "azdias.columns.values"
   ]
  },
  {
   "cell_type": "markdown",
   "metadata": {},
   "source": [
    "#### Discussion 1.2.1: Re-Encode Categorical Features\n",
    "\n",
    "(Double-click this cell and replace this text with your own text, reporting your findings and decisions regarding categorical features. Which ones did you keep, which did you drop, and what engineering steps did you perform?)"
   ]
  },
  {
   "cell_type": "markdown",
   "metadata": {},
   "source": [
    "*Since there are only 18 categorical variables, I cherry picked the encoding strategy in each variable one by one. Below is the summary (note: OHE = one hot encoding).*\n",
    "\n",
    "| attribute | English explanation | num_of_categories | keep or drop | comment and encoding strategy |\n",
    "|-----------|---------------------|-------------------|--------------|-------------------------------|\n",
    "| ANREDE_KZ | Gender | 2 | keep | binary, no change |\n",
    "| CJT_GESAMTTYP | preferred information and buying channels | 6 | keep | OHE |\n",
    "| FINANZTYP | financial type for individual | 6 | drop | this variable is the similar to some ordinal variables like FINANZ_MINIMALIST, FINANZ_SPARER, etc. |\n",
    "| GFK_URLAUBERTYP | Vacation habits | 12 |  keep | interesting to keep, OHE |\n",
    "| GREEN_AVANTGARDE | Membership in environmental sustainability | 2 |  keep | binary, no change |\n",
    "| LP_FAMILIE_FEIN | Family type, fine scale | 11 |  drop | use the rough scale |\n",
    "| LP_FAMILIE_GROB | Family type, rough scale | 5 |  keep | OHE |\n",
    "| LP_STATUS_FEIN | Life stage, fine scale | 10 |  drop | use the rough scale |\n",
    "| LP_STATUS_GROB | Life stage, rough scale | 5 |  keep | OHE | \n",
    "| NATIONALITAET_KZ | Nationality based on given name analysis | 3 |  keep | OHE | \n",
    "| SHOPPER_TYP | Shopper typology | 4 |  keep | OHE | \n",
    "| SOHO_KZ | Small office / home office flag | 2 |  keep | binary, no change | \n",
    "| VERS_TYP | Insurance typology | 2 |  keep | binary, no change | \n",
    "| ZABEOTYP | Energy consumption typology | 6 | keep | OHE | \n",
    "| GEBAEUDETYP | Type of building (residential vs. commercial) | 7 |  keep | map into binary values: residential, non residential (string); then OHE | \n",
    "| OST_WEST_KZ | Building location via former East / West Germany (GDR / FRG) | 2 |  keep | use OHE since the data type is string | \n",
    "| CAMEO_DEUG_2015 | Wealth / Life Stage Typology, rough scale | 9 | drop | will use CAMEO_INTL_2015 instead (see Step 1.2.2) | \n",
    "| CAMEO_DEU_2015 | Wealth / Life Stage Typology, fine scale | 44 | drop | will use CAMEO_INTL_2015 instead (see Step 1.2.2) |"
   ]
  },
  {
   "cell_type": "markdown",
   "metadata": {},
   "source": [
    "#### Step 1.2.2: Engineer Mixed-Type Features\n",
    "\n",
    "There are a handful of features that are marked as \"mixed\" in the feature summary that require special treatment in order to be included in the analysis. There are two in particular that deserve attention; the handling of the rest are up to your own choices:\n",
    "- \"PRAEGENDE_JUGENDJAHRE\" combines information on three dimensions: generation by decade, movement (mainstream vs. avantgarde), and nation (east vs. west). While there aren't enough levels to disentangle east from west, you should create two new variables to capture the other two dimensions: an interval-type variable for decade, and a binary variable for movement.\n",
    "- \"CAMEO_INTL_2015\" combines information on two axes: wealth and life stage. Break up the two-digit codes by their 'tens'-place and 'ones'-place digits into two new ordinal variables (which, for the purposes of this project, is equivalent to just treating them as their raw numeric values).\n",
    "- If you decide to keep or engineer new features around the other mixed-type features, make sure you note your steps in the Discussion section.\n",
    "\n",
    "Be sure to check `Data_Dictionary.md` for the details needed to finish these tasks."
   ]
  },
  {
   "cell_type": "code",
   "execution_count": 36,
   "metadata": {},
   "outputs": [
    {
     "data": {
      "text/html": [
       "<div>\n",
       "<style scoped>\n",
       "    .dataframe tbody tr th:only-of-type {\n",
       "        vertical-align: middle;\n",
       "    }\n",
       "\n",
       "    .dataframe tbody tr th {\n",
       "        vertical-align: top;\n",
       "    }\n",
       "\n",
       "    .dataframe thead th {\n",
       "        text-align: right;\n",
       "    }\n",
       "</style>\n",
       "<table border=\"1\" class=\"dataframe\">\n",
       "  <thead>\n",
       "    <tr style=\"text-align: right;\">\n",
       "      <th></th>\n",
       "      <th>attribute</th>\n",
       "      <th>information_level</th>\n",
       "      <th>type</th>\n",
       "      <th>missing_or_unknown</th>\n",
       "      <th>dtypes</th>\n",
       "    </tr>\n",
       "  </thead>\n",
       "  <tbody>\n",
       "    <tr>\n",
       "      <th>15</th>\n",
       "      <td>LP_LEBENSPHASE_FEIN</td>\n",
       "      <td>person</td>\n",
       "      <td>mixed</td>\n",
       "      <td>[0]</td>\n",
       "      <td>float64</td>\n",
       "    </tr>\n",
       "    <tr>\n",
       "      <th>16</th>\n",
       "      <td>LP_LEBENSPHASE_GROB</td>\n",
       "      <td>person</td>\n",
       "      <td>mixed</td>\n",
       "      <td>[0]</td>\n",
       "      <td>float64</td>\n",
       "    </tr>\n",
       "    <tr>\n",
       "      <th>22</th>\n",
       "      <td>PRAEGENDE_JUGENDJAHRE</td>\n",
       "      <td>person</td>\n",
       "      <td>mixed</td>\n",
       "      <td>[-1,0]</td>\n",
       "      <td>int64</td>\n",
       "    </tr>\n",
       "    <tr>\n",
       "      <th>56</th>\n",
       "      <td>WOHNLAGE</td>\n",
       "      <td>building</td>\n",
       "      <td>mixed</td>\n",
       "      <td>[-1]</td>\n",
       "      <td>float64</td>\n",
       "    </tr>\n",
       "    <tr>\n",
       "      <th>59</th>\n",
       "      <td>CAMEO_INTL_2015</td>\n",
       "      <td>microcell_rr4</td>\n",
       "      <td>mixed</td>\n",
       "      <td>[-1,'XX']</td>\n",
       "      <td>object</td>\n",
       "    </tr>\n",
       "    <tr>\n",
       "      <th>79</th>\n",
       "      <td>PLZ8_BAUMAX</td>\n",
       "      <td>macrocell_plz8</td>\n",
       "      <td>mixed</td>\n",
       "      <td>[-1,0]</td>\n",
       "      <td>float64</td>\n",
       "    </tr>\n",
       "  </tbody>\n",
       "</table>\n",
       "</div>"
      ],
      "text/plain": [
       "                attribute information_level   type missing_or_unknown   dtypes\n",
       "15    LP_LEBENSPHASE_FEIN            person  mixed                [0]  float64\n",
       "16    LP_LEBENSPHASE_GROB            person  mixed                [0]  float64\n",
       "22  PRAEGENDE_JUGENDJAHRE            person  mixed             [-1,0]    int64\n",
       "56               WOHNLAGE          building  mixed               [-1]  float64\n",
       "59        CAMEO_INTL_2015     microcell_rr4  mixed          [-1,'XX']   object\n",
       "79            PLZ8_BAUMAX    macrocell_plz8  mixed             [-1,0]  float64"
      ]
     },
     "execution_count": 36,
     "metadata": {},
     "output_type": "execute_result"
    }
   ],
   "source": [
    "feat_info_after_coldrop[feat_info_after_coldrop['type'] == 'mixed']"
   ]
  },
  {
   "cell_type": "markdown",
   "metadata": {},
   "source": [
    "##### Break `PRAEGENDE_JUGENDJAHRE`"
   ]
  },
  {
   "cell_type": "code",
   "execution_count": 37,
   "metadata": {},
   "outputs": [],
   "source": [
    "# Investigate \"PRAEGENDE_JUGENDJAHRE\" and engineer two new variables.\n",
    "\n",
    "# This function will break the PRAEGENDE_JUGENDJAHRE into two new variables:\n",
    "# MOVE_PERIOD and IS_AVANTGARDE_MOVE\n",
    "# MOVE_PERIOD interval is defined as 1: 40s, 2: 50s, ... 6: 90s\n",
    "# IS_MOVE_AVANTGARDE is defined as binary 1: avantgarde, 0: mainstream\n",
    "def break_praegende_jugendjahre(input_df):\n",
    "    # encode the MOVEMENT_PERIOD\n",
    "    input_df['MOVE_PERIOD'] = input_df['PRAEGENDE_JUGENDJAHRE']\n",
    "    input_df['MOVE_PERIOD'] = input_df['MOVE_PERIOD'].replace({1: 1, 2: 1, 3: 2, 4: 2, 5: 3, 6: 3, 7: 3, 8: 4, 9: 4, 10: 5, 11: 5, 12: 5, 13: 5, 14: 6, 15: 6})\n",
    "    \n",
    "    # encode the MOVEMENT_PERIOD\n",
    "    input_df['IS_MOVE_AVANTGARDE'] = input_df['PRAEGENDE_JUGENDJAHRE']\n",
    "    input_df['IS_MOVE_AVANTGARDE'] = input_df['IS_MOVE_AVANTGARDE'].replace({1: 0, 2: 1, 3: 0, 4: 1, 5: 0, 6: 1, 7: 1, 8: 0, 9: 1, 10: 0, 11: 1, 12: 0, 13: 1, 14: 0, 15: 1})\n",
    "\n",
    "    return input_df"
   ]
  },
  {
   "cell_type": "code",
   "execution_count": 38,
   "metadata": {},
   "outputs": [
    {
     "data": {
      "text/html": [
       "<div>\n",
       "<style scoped>\n",
       "    .dataframe tbody tr th:only-of-type {\n",
       "        vertical-align: middle;\n",
       "    }\n",
       "\n",
       "    .dataframe tbody tr th {\n",
       "        vertical-align: top;\n",
       "    }\n",
       "\n",
       "    .dataframe thead th {\n",
       "        text-align: right;\n",
       "    }\n",
       "</style>\n",
       "<table border=\"1\" class=\"dataframe\">\n",
       "  <thead>\n",
       "    <tr style=\"text-align: right;\">\n",
       "      <th></th>\n",
       "      <th>PRAEGENDE_JUGENDJAHRE</th>\n",
       "      <th>MOVE_PERIOD</th>\n",
       "      <th>IS_MOVE_AVANTGARDE</th>\n",
       "    </tr>\n",
       "  </thead>\n",
       "  <tbody>\n",
       "    <tr>\n",
       "      <th>0</th>\n",
       "      <td>NaN</td>\n",
       "      <td>NaN</td>\n",
       "      <td>NaN</td>\n",
       "    </tr>\n",
       "    <tr>\n",
       "      <th>1</th>\n",
       "      <td>14.0</td>\n",
       "      <td>6.0</td>\n",
       "      <td>0.0</td>\n",
       "    </tr>\n",
       "    <tr>\n",
       "      <th>2</th>\n",
       "      <td>15.0</td>\n",
       "      <td>6.0</td>\n",
       "      <td>1.0</td>\n",
       "    </tr>\n",
       "    <tr>\n",
       "      <th>3</th>\n",
       "      <td>8.0</td>\n",
       "      <td>4.0</td>\n",
       "      <td>0.0</td>\n",
       "    </tr>\n",
       "    <tr>\n",
       "      <th>4</th>\n",
       "      <td>8.0</td>\n",
       "      <td>4.0</td>\n",
       "      <td>0.0</td>\n",
       "    </tr>\n",
       "  </tbody>\n",
       "</table>\n",
       "</div>"
      ],
      "text/plain": [
       "   PRAEGENDE_JUGENDJAHRE  MOVE_PERIOD  IS_MOVE_AVANTGARDE\n",
       "0                    NaN          NaN                 NaN\n",
       "1                   14.0          6.0                 0.0\n",
       "2                   15.0          6.0                 1.0\n",
       "3                    8.0          4.0                 0.0\n",
       "4                    8.0          4.0                 0.0"
      ]
     },
     "execution_count": 38,
     "metadata": {},
     "output_type": "execute_result"
    }
   ],
   "source": [
    "# Call the function to break PRAEGENDE_JUGENDJAHRE variable, then check the result\n",
    "azdias = break_praegende_jugendjahre(azdias)\n",
    "azdias.loc[:,['PRAEGENDE_JUGENDJAHRE','MOVE_PERIOD','IS_MOVE_AVANTGARDE']].head()"
   ]
  },
  {
   "cell_type": "markdown",
   "metadata": {},
   "source": [
    "##### Break `CAMEO_INTL_2015`"
   ]
  },
  {
   "cell_type": "code",
   "execution_count": 39,
   "metadata": {},
   "outputs": [],
   "source": [
    "# Investigate \"CAMEO_INTL_2015\" and engineer two new variables.\n",
    "\n",
    "# This function will break the CAMEO_INTL_2015 into two new variables\n",
    "# HOUSE_WEALTH and LIFE_STAGE by breaking up the 'tens' and 'ones' digit\n",
    "def break_cameo_intl_2015(input_df):\n",
    "    # Encode HOUSE_WEALTH by taking the first digit of CAMEO_INTL_2015\n",
    "    # The fillna('00') is used to treat the NaN values (to prevent error)\n",
    "    input_df['HOUSE_WEALTH'] = input_df['CAMEO_INTL_2015'].fillna('00').apply(lambda x: int(x[0]))\n",
    "    input_df['HOUSE_WEALTH'] = input_df['HOUSE_WEALTH'].replace(0, np.nan) # revert back 0 to NaN again\n",
    "    \n",
    "    # Encode LIFE_STAGE by taking the second digit of CAMEO_INTL_2015\n",
    "    # The fillna('00') is used to treat the NaN values (to prevent error)\n",
    "    input_df['LIFE_STAGE'] = input_df['CAMEO_INTL_2015'].fillna('00').apply(lambda x: int(x[1]))\n",
    "    input_df['LIFE_STAGE'] = input_df['LIFE_STAGE'].replace(0, np.nan) # revert back 0 to NaN again\n",
    "\n",
    "    return input_df"
   ]
  },
  {
   "cell_type": "code",
   "execution_count": 40,
   "metadata": {},
   "outputs": [
    {
     "data": {
      "text/html": [
       "<div>\n",
       "<style scoped>\n",
       "    .dataframe tbody tr th:only-of-type {\n",
       "        vertical-align: middle;\n",
       "    }\n",
       "\n",
       "    .dataframe tbody tr th {\n",
       "        vertical-align: top;\n",
       "    }\n",
       "\n",
       "    .dataframe thead th {\n",
       "        text-align: right;\n",
       "    }\n",
       "</style>\n",
       "<table border=\"1\" class=\"dataframe\">\n",
       "  <thead>\n",
       "    <tr style=\"text-align: right;\">\n",
       "      <th></th>\n",
       "      <th>CAMEO_INTL_2015</th>\n",
       "      <th>HOUSE_WEALTH</th>\n",
       "      <th>LIFE_STAGE</th>\n",
       "    </tr>\n",
       "  </thead>\n",
       "  <tbody>\n",
       "    <tr>\n",
       "      <th>0</th>\n",
       "      <td>NaN</td>\n",
       "      <td>NaN</td>\n",
       "      <td>NaN</td>\n",
       "    </tr>\n",
       "    <tr>\n",
       "      <th>1</th>\n",
       "      <td>51</td>\n",
       "      <td>5.0</td>\n",
       "      <td>1.0</td>\n",
       "    </tr>\n",
       "    <tr>\n",
       "      <th>2</th>\n",
       "      <td>24</td>\n",
       "      <td>2.0</td>\n",
       "      <td>4.0</td>\n",
       "    </tr>\n",
       "    <tr>\n",
       "      <th>3</th>\n",
       "      <td>12</td>\n",
       "      <td>1.0</td>\n",
       "      <td>2.0</td>\n",
       "    </tr>\n",
       "    <tr>\n",
       "      <th>4</th>\n",
       "      <td>43</td>\n",
       "      <td>4.0</td>\n",
       "      <td>3.0</td>\n",
       "    </tr>\n",
       "  </tbody>\n",
       "</table>\n",
       "</div>"
      ],
      "text/plain": [
       "  CAMEO_INTL_2015  HOUSE_WEALTH  LIFE_STAGE\n",
       "0             NaN           NaN         NaN\n",
       "1              51           5.0         1.0\n",
       "2              24           2.0         4.0\n",
       "3              12           1.0         2.0\n",
       "4              43           4.0         3.0"
      ]
     },
     "execution_count": 40,
     "metadata": {},
     "output_type": "execute_result"
    }
   ],
   "source": [
    "# Call the function to break CAMEO_INTL_2015 variable, then check the result\n",
    "azdias = break_cameo_intl_2015(azdias)\n",
    "azdias.loc[:,['CAMEO_INTL_2015','HOUSE_WEALTH','LIFE_STAGE']].head()"
   ]
  },
  {
   "cell_type": "markdown",
   "metadata": {},
   "source": [
    "##### Drop `LP_LEBENSPHASE_FEIN` and `LP_LEBENSPHASE_GROB`"
   ]
  },
  {
   "cell_type": "code",
   "execution_count": 41,
   "metadata": {},
   "outputs": [
    {
     "name": "stdout",
     "output_type": "stream",
     "text": [
      "From 105 columns, will drop 2\n",
      "Dropped 2 columns, the remaining is 103 columns\n"
     ]
    }
   ],
   "source": [
    "# Drop unnecessary mixed categorical columns\n",
    "mixed_categorical_cols_to_drop = ['LP_LEBENSPHASE_FEIN','LP_LEBENSPHASE_GROB']\n",
    "print('From {0} columns, will drop {1}'.format(azdias.shape[1], len(mixed_categorical_cols_to_drop)))\n",
    "\n",
    "azdias = azdias.drop(mixed_categorical_cols_to_drop, axis=1)\n",
    "print('Dropped {0} columns, the remaining is {1} columns'.format(len(mixed_categorical_cols_to_drop), azdias.shape[1]))"
   ]
  },
  {
   "cell_type": "markdown",
   "metadata": {},
   "source": [
    "##### Break `WOHNLAGE`"
   ]
  },
  {
   "cell_type": "code",
   "execution_count": 42,
   "metadata": {},
   "outputs": [],
   "source": [
    "# This function will break the WOHNLAGE into two new variables\n",
    "# NEIGHBORHOOD_QLY and IS_RURAL\n",
    "def break_wohnlage(input_df):\n",
    "    # Encode NEIGHBORHOOD_QLY by replacing WOHNLAGE equal to 7 or 8 into 3.\n",
    "    input_df['NEIGHBORHOOD_QLY'] = input_df['WOHNLAGE'].replace(to_replace=[7, 8], value=3)\n",
    "    \n",
    "    # If WOHNLAGE equal to 1-5, encode to IS_RURAL = 0, \n",
    "    # else if WOHNLAGE equal to 7-8, IS_RURAL = 1.\n",
    "    input_df['IS_RURAL'] = input_df['WOHNLAGE']\n",
    "    input_df['IS_RURAL'] = input_df['IS_RURAL'].replace(to_replace=[1, 2, 3, 4, 5], value=0)\n",
    "    input_df['IS_RURAL'] = input_df['IS_RURAL'].replace(to_replace=[7, 8], value=1)\n",
    "\n",
    "    return input_df"
   ]
  },
  {
   "cell_type": "code",
   "execution_count": 43,
   "metadata": {},
   "outputs": [
    {
     "data": {
      "text/html": [
       "<div>\n",
       "<style scoped>\n",
       "    .dataframe tbody tr th:only-of-type {\n",
       "        vertical-align: middle;\n",
       "    }\n",
       "\n",
       "    .dataframe tbody tr th {\n",
       "        vertical-align: top;\n",
       "    }\n",
       "\n",
       "    .dataframe thead th {\n",
       "        text-align: right;\n",
       "    }\n",
       "</style>\n",
       "<table border=\"1\" class=\"dataframe\">\n",
       "  <thead>\n",
       "    <tr style=\"text-align: right;\">\n",
       "      <th></th>\n",
       "      <th>WOHNLAGE</th>\n",
       "      <th>NEIGHBORHOOD_QLY</th>\n",
       "      <th>IS_RURAL</th>\n",
       "    </tr>\n",
       "  </thead>\n",
       "  <tbody>\n",
       "    <tr>\n",
       "      <th>0</th>\n",
       "      <td>NaN</td>\n",
       "      <td>NaN</td>\n",
       "      <td>NaN</td>\n",
       "    </tr>\n",
       "    <tr>\n",
       "      <th>1</th>\n",
       "      <td>4.0</td>\n",
       "      <td>4.0</td>\n",
       "      <td>0.0</td>\n",
       "    </tr>\n",
       "    <tr>\n",
       "      <th>2</th>\n",
       "      <td>2.0</td>\n",
       "      <td>2.0</td>\n",
       "      <td>0.0</td>\n",
       "    </tr>\n",
       "    <tr>\n",
       "      <th>3</th>\n",
       "      <td>7.0</td>\n",
       "      <td>3.0</td>\n",
       "      <td>1.0</td>\n",
       "    </tr>\n",
       "    <tr>\n",
       "      <th>4</th>\n",
       "      <td>3.0</td>\n",
       "      <td>3.0</td>\n",
       "      <td>0.0</td>\n",
       "    </tr>\n",
       "  </tbody>\n",
       "</table>\n",
       "</div>"
      ],
      "text/plain": [
       "   WOHNLAGE  NEIGHBORHOOD_QLY  IS_RURAL\n",
       "0       NaN               NaN       NaN\n",
       "1       4.0               4.0       0.0\n",
       "2       2.0               2.0       0.0\n",
       "3       7.0               3.0       1.0\n",
       "4       3.0               3.0       0.0"
      ]
     },
     "execution_count": 43,
     "metadata": {},
     "output_type": "execute_result"
    }
   ],
   "source": [
    "# Call the function to break WOHNLAGE variable, then check the result\n",
    "azdias = break_wohnlage(azdias)\n",
    "azdias.loc[:,['WOHNLAGE','NEIGHBORHOOD_QLY','IS_RURAL']].head()"
   ]
  },
  {
   "cell_type": "markdown",
   "metadata": {},
   "source": [
    "##### Create `PLZ8_IS_BUSINESS` from `PLZ8_BAUMAX`"
   ]
  },
  {
   "cell_type": "code",
   "execution_count": 44,
   "metadata": {},
   "outputs": [],
   "source": [
    "# This function will convert PLZ8_BAUMAX into a new variable called PLZ8_IS_BUSINESS.\n",
    "# PLZ8_IS_BUSINESS flags whether the most common building in PLZ8 area is business building or not.\n",
    "def convert_plz8_baumax(input_df):\n",
    "    # If PLZ8_BAUMAX equal to 1-4, encode to PLZ8_IS_BUSINESS = 0, \n",
    "    # else if PLZ8_BAUMAX equal to 5, PLZ8_IS_BUSINESS = 1.\n",
    "    input_df['PLZ8_IS_BUSINESS'] = input_df['PLZ8_BAUMAX']\n",
    "    input_df['PLZ8_IS_BUSINESS'] = input_df['PLZ8_IS_BUSINESS'].replace(to_replace=[1, 2, 3, 4], value=0)\n",
    "    input_df['PLZ8_IS_BUSINESS'] = input_df['PLZ8_IS_BUSINESS'].replace(to_replace=5, value=1)\n",
    "\n",
    "    return input_df"
   ]
  },
  {
   "cell_type": "code",
   "execution_count": 45,
   "metadata": {},
   "outputs": [
    {
     "data": {
      "text/html": [
       "<div>\n",
       "<style scoped>\n",
       "    .dataframe tbody tr th:only-of-type {\n",
       "        vertical-align: middle;\n",
       "    }\n",
       "\n",
       "    .dataframe tbody tr th {\n",
       "        vertical-align: top;\n",
       "    }\n",
       "\n",
       "    .dataframe thead th {\n",
       "        text-align: right;\n",
       "    }\n",
       "</style>\n",
       "<table border=\"1\" class=\"dataframe\">\n",
       "  <thead>\n",
       "    <tr style=\"text-align: right;\">\n",
       "      <th></th>\n",
       "      <th>PLZ8_BAUMAX</th>\n",
       "      <th>PLZ8_IS_BUSINESS</th>\n",
       "    </tr>\n",
       "  </thead>\n",
       "  <tbody>\n",
       "    <tr>\n",
       "      <th>0</th>\n",
       "      <td>NaN</td>\n",
       "      <td>NaN</td>\n",
       "    </tr>\n",
       "    <tr>\n",
       "      <th>1</th>\n",
       "      <td>1.0</td>\n",
       "      <td>0.0</td>\n",
       "    </tr>\n",
       "    <tr>\n",
       "      <th>2</th>\n",
       "      <td>1.0</td>\n",
       "      <td>0.0</td>\n",
       "    </tr>\n",
       "    <tr>\n",
       "      <th>3</th>\n",
       "      <td>1.0</td>\n",
       "      <td>0.0</td>\n",
       "    </tr>\n",
       "    <tr>\n",
       "      <th>4</th>\n",
       "      <td>2.0</td>\n",
       "      <td>0.0</td>\n",
       "    </tr>\n",
       "  </tbody>\n",
       "</table>\n",
       "</div>"
      ],
      "text/plain": [
       "   PLZ8_BAUMAX  PLZ8_IS_BUSINESS\n",
       "0          NaN               NaN\n",
       "1          1.0               0.0\n",
       "2          1.0               0.0\n",
       "3          1.0               0.0\n",
       "4          2.0               0.0"
      ]
     },
     "execution_count": 45,
     "metadata": {},
     "output_type": "execute_result"
    }
   ],
   "source": [
    "# Call the function to convert PLZ8_BAUMAX variable, then check the result\n",
    "azdias = convert_plz8_baumax(azdias)\n",
    "azdias.loc[:,['PLZ8_BAUMAX','PLZ8_IS_BUSINESS']].head()"
   ]
  },
  {
   "cell_type": "markdown",
   "metadata": {},
   "source": [
    "#### Discussion 1.2.2: Engineer Mixed-Type Features\n",
    "\n",
    "(Double-click this cell and replace this text with your own text, reporting your findings and decisions regarding mixed-value features. Which ones did you keep, which did you drop, and what engineering steps did you perform?)"
   ]
  },
  {
   "cell_type": "markdown",
   "metadata": {},
   "source": [
    "*Below is the encoding strategy for mixed-type features*\n",
    "\n",
    "| attribute | English explanation | action | comment and encoding strategy |\n",
    "|-----------|---------------------|--------|-------------------------------|\n",
    "| LP_LEBENSPHASE_FEIN | Life stage, fine scale | drop | this variable can be representated by LP_FAMILIE_GROB and LP_STATUS_GROB |\n",
    "| LP_LEBENSPHASE_GROB | Life stage, rough scale information and buying channels | drop | this variable can be representated by LP_FAMILIE_GROB and LP_STATUS_GROB |\n",
    "| WOHNLAGE | Neighborhood quality (or rural flag) |  break | break into 2 new columns: neighborhood quality and rural flag. For encoding details see explanation below. |\n",
    "| PLZ8_BAUMAX | Most common building type within the PLZ8 region | change | Change the interpretation to be \"flag whether the most common building type is business buildings or not\". The PLZ8_BAUMAX with value of 1-4 is already representated by variable PLZ8_ANTG1, PLZ8_ANTG2, PLZ8_ANTG3, PLZ8_ANTG4, thus we can disregard the information about family-homes and focus whether the most common building is business or not. For encoding details see explanation below. |\n",
    "\n",
    "\n",
    "*WOHNLAGE is broken down into 2 new features: NEIGHBORHOOD_QLY and IS_RURAL. The encoding is summarized in table below. Basically the rule is like this*\n",
    "- *NEIGHBORHOOD_QLY: WOHNLAGE value if it is within range 1-5. When the neighborhood is rural, treat it as having average neighborhood quality (value equal to 3).*\n",
    "- *IS_RURAL: set the value as 1 if WOHNLAGE value is equal to 7 or 8, otherwise 0.* \n",
    "\n",
    "| WOHNLAGE value | NEIGHBORHOOD_QLY | IS_RURAL |\n",
    "|----------------|------------------|----------|\n",
    "| -1,0 | np.NaN | np.NaN |\n",
    "| 1 | 1 | 0 |\n",
    "| 2 | 2 | 0 |\n",
    "| 3 | 3 | 0 |\n",
    "| 4 | 4 | 0 |\n",
    "| 5 | 5 | 0 |\n",
    "| 7 | 3 | 1 |\n",
    "| 8 | 3 | 1 |\n",
    "\n",
    "\n",
    "*PLZ8_BAUMAX is replaced with a new feature called PLZ8_IS_BUSINESS. Basically this feature flags whether the most common building in PLZ8 area is business building or not. The encoding is summarized in table below.*\n",
    "| PLZ8_BAUMAX value | PLZ8_IS_BUSINESS |\n",
    "|-------------------|------------------|\n",
    "| -1,0 | np.NaN |\n",
    "| 1 | 0 |\n",
    "| 2 | 0 |\n",
    "| 3 | 0 |\n",
    "| 4 | 0 |\n",
    "| 5 | 1 |"
   ]
  },
  {
   "cell_type": "markdown",
   "metadata": {},
   "source": [
    "#### Step 1.2.3: Complete Feature Selection\n",
    "\n",
    "In order to finish this step up, you need to make sure that your data frame now only has the columns that you want to keep. To summarize, the dataframe should consist of the following:\n",
    "- All numeric, interval, and ordinal type columns from the original dataset.\n",
    "- Binary categorical features (all numerically-encoded).\n",
    "- Engineered features from other multi-level categorical features and mixed features.\n",
    "\n",
    "Make sure that for any new columns that you have engineered, that you've excluded the original columns from the final dataset. Otherwise, their values will interfere with the analysis later on the project. For example, you should not keep \"PRAEGENDE_JUGENDJAHRE\", since its values won't be useful for the algorithm: only the values derived from it in the engineered features you created should be retained. As a reminder, your data should only be from **the subset with few or no missing values**."
   ]
  },
  {
   "cell_type": "code",
   "execution_count": 46,
   "metadata": {},
   "outputs": [],
   "source": [
    "# If there are other re-engineering tasks you need to perform, make sure you\n",
    "# take care of them here. (Dealing with missing data will come in step 2.1.)\n",
    "\n",
    "# Get the subset of data with \"few or no missing values\"\n",
    "# This can be done by dropping the rows (index) with high missing values (STEP 1.1.3)\n",
    "azdias = azdias.drop(index=azdias_hi_miss.index)\n",
    "\n",
    "# Drop some columns that we have broken down, e.g. PRAEGENDE_JUGENDJAHRE\n",
    "# Drop unnecessary mixed categorical columns\n",
    "broken_down_cols_to_drop = ['PRAEGENDE_JUGENDJAHRE','CAMEO_INTL_2015','WOHNLAGE','PLZ8_BAUMAX']\n",
    "azdias = azdias.drop(broken_down_cols_to_drop, axis=1)"
   ]
  },
  {
   "cell_type": "code",
   "execution_count": 47,
   "metadata": {},
   "outputs": [
    {
     "name": "stdout",
     "output_type": "stream",
     "text": [
      "azdias dataframe has shape: (797077, 102)\n",
      "and the datatype as following:\n"
     ]
    },
    {
     "data": {
      "text/plain": [
       "float64    44\n",
       "uint8      36\n",
       "int64      22\n",
       "Name: dtypes, dtype: int64"
      ]
     },
     "execution_count": 47,
     "metadata": {},
     "output_type": "execute_result"
    }
   ],
   "source": [
    "# Do whatever you need to in order to ensure that the dataframe only contains\n",
    "# the columns that should be passed to the algorithm functions.\n",
    "\n",
    "# Check the remaining columns and the data type\n",
    "dtype_df = pd.DataFrame(azdias.dtypes,index=azdias.dtypes.index,columns=['dtypes'])\n",
    "print('azdias dataframe has shape:', azdias.shape)\n",
    "print('and the datatype as following:')\n",
    "dtype_df['dtypes'].value_counts()"
   ]
  },
  {
   "cell_type": "markdown",
   "metadata": {},
   "source": [
    "### Step 1.3: Create a Cleaning Function\n",
    "\n",
    "Even though you've finished cleaning up the general population demographics data, it's important to look ahead to the future and realize that you'll need to perform the same cleaning steps on the customer demographics data. In this substep, complete the function below to execute the main feature selection, encoding, and re-engineering steps you performed above. Then, when it comes to looking at the customer data in Step 3, you can just run this function on that DataFrame to get the trimmed dataset in a single step."
   ]
  },
  {
   "cell_type": "code",
   "execution_count": 4,
   "metadata": {},
   "outputs": [],
   "source": [
    "# Library to make conversion\n",
    "import ast\n",
    "\n",
    "# Subfunction to convert string representaion of list into Python list\n",
    "def convert_string_rep_of_list_to_list(input_str):\n",
    "    \"\"\"\n",
    "    This function accepts string representation of a list, converts it,\n",
    "    and finally output a Python list\n",
    "\n",
    "    INPUT: string representation of Python list \"[a,b,c]\"\n",
    "    OUTPUT: Python list [a,b,c]\n",
    "    \"\"\"\n",
    "    output_list = ast.literal_eval(input_str)\n",
    "    return output_list\n",
    "\n",
    "# Subfunction to drop columns with large number of missing values\n",
    "def drop_cols_with_lot_of_nan(input_df, threshold_ratio):\n",
    "    \"\"\"\n",
    "    This function drops columns with the number of NaN value more than\n",
    "    the threshold ratio\n",
    "\n",
    "    INPUT: \n",
    "    1) input_df - the dataframe\n",
    "    2) threshold_ratio - column with missing value ratio larger than this will be dropped\n",
    "    OUTPUT: the dataframe after column is cleaned\n",
    "    \"\"\"\n",
    "    df_missing_col = input_df.isna().sum(axis=0)/input_df.shape[0] > threshold_ratio\n",
    "    cols_to_drop = df_missing_col[df_missing_col == True].index\n",
    "    input_df = input_df.drop(columns=cols_to_drop)\n",
    "    return input_df\n",
    "\n",
    "# Subfunction to drop columns with large number of missing values (column names hardcoded)\n",
    "def drop_cols_with_lot_of_nan_hardcode(input_df):\n",
    "    \"\"\"\n",
    "    This function drops predetermined columns. The column names is decided based on\n",
    "    the number of NaN value more than 20% in azdias country dataset.\n",
    "\n",
    "    INPUT: input_df - the dataframe\n",
    "    OUTPUT: the dataframe after column is cleaned\n",
    "    \"\"\"\n",
    "    cols_to_drop = ['TITEL_KZ','AGER_TYP','KK_KUNDENTYP','KBA05_BAUMAX','GEBURTSJAHR','ALTER_HH']\n",
    "    input_df = input_df.drop(columns=cols_to_drop)\n",
    "    return input_df\n",
    "\n",
    "# Subfunction to drop rows with large number of missing values\n",
    "def drop_rows_with_lot_of_nan(input_df, threshold_value):\n",
    "    \"\"\"\n",
    "    This function drops rows with the number of NaN value more than\n",
    "    the threshold value\n",
    "\n",
    "    INPUT: \n",
    "    1) input_df - the dataframe\n",
    "    2) threshold value - rows with missing value larger than this will be dropped\n",
    "    OUTPUT: the dataframe after row is cleaned\n",
    "    \"\"\"\n",
    "    df_missing_row = input_df.isna().sum(axis=1)\n",
    "    hi_miss = df_missing_row[df_missing_row >= threshold_value]\n",
    "    input_df = input_df.drop(index=hi_miss.index)\n",
    "    return input_df\n",
    "\n",
    "# Subfunction to break the PRAEGENDE_JUGENDJAHRE into two new variables\n",
    "def break_praegende_jugendjahre(input_df):\n",
    "    \"\"\"\n",
    "    This function will break the PRAEGENDE_JUGENDJAHRE into two new variables:\n",
    "    MOVE_PERIOD and IS_AVANTGARDE_MOVE\n",
    "    MOVE_PERIOD interval is defined as 1: 40s, 2: 50s, ... 6: 90s\n",
    "    IS_MOVE_AVANTGARDE is defined as binary 1: avantgarde, 0: mainstream\n",
    "\n",
    "    INPUT: main dataframe with PRAEGENDE_JUGENDJAHRE variable\n",
    "    OUTPUT: dataframe after PRAEGENDE_JUGENDJAHRE variable has been converted\n",
    "    \"\"\"\n",
    "    # encode the MOVEMENT_PERIOD\n",
    "    input_df['MOVE_PERIOD'] = input_df['PRAEGENDE_JUGENDJAHRE']\n",
    "    input_df['MOVE_PERIOD'] = input_df['MOVE_PERIOD'].replace({1: 1, 2: 1, 3: 2, 4: 2, 5: 3, 6: 3, 7: 3, 8: 4, 9: 4, 10: 5, 11: 5, 12: 5, 13: 5, 14: 6, 15: 6})\n",
    "    \n",
    "    # encode the MOVEMENT_PERIOD\n",
    "    input_df['IS_MOVE_AVANTGARDE'] = input_df['PRAEGENDE_JUGENDJAHRE']\n",
    "    input_df['IS_MOVE_AVANTGARDE'] = input_df['IS_MOVE_AVANTGARDE'].replace({1: 0, 2: 1, 3: 0, 4: 1, 5: 0, 6: 1, 7: 1, 8: 0, 9: 1, 10: 0, 11: 1, 12: 0, 13: 1, 14: 0, 15: 1})\n",
    "    \n",
    "    return input_df\n",
    "\n",
    "# Subfunction to break the CAMEO_INTL_2015 into two new variables\n",
    "def break_cameo_intl_2015(input_df):\n",
    "    \"\"\"\n",
    "    This function will break the CAMEO_INTL_2015 into two new variables\n",
    "    HOUSE_WEALTH and LIFE_STAGE by breaking up the 'tens' and 'ones' digit\n",
    "\n",
    "    INPUT: main dataframe with CAMEO_INTL_2015 variable\n",
    "    OUTPUT: dataframe after CAMEO_INTL_2015 variable has been converted\n",
    "    \"\"\"\n",
    "    # Encode HOUSE_WEALTH by taking the first digit of CAMEO_INTL_2015\n",
    "    # The fillna('00') is used to treat the NaN values (to prevent error)\n",
    "    input_df['HOUSE_WEALTH'] = input_df['CAMEO_INTL_2015'].fillna('00').apply(lambda x: int(x[0]))\n",
    "    input_df['HOUSE_WEALTH'] = input_df['HOUSE_WEALTH'].replace(0, np.nan) # revert back 0 to NaN again\n",
    "    \n",
    "    # Encode LIFE_STAGE by taking the second digit of CAMEO_INTL_2015\n",
    "    # The fillna('00') is used to treat the NaN values (to prevent error)\n",
    "    input_df['LIFE_STAGE'] = input_df['CAMEO_INTL_2015'].fillna('00').apply(lambda x: int(x[1]))\n",
    "    input_df['LIFE_STAGE'] = input_df['LIFE_STAGE'].replace(0, np.nan) # revert back 0 to NaN again\n",
    "\n",
    "    return input_df\n",
    "\n",
    "# Subfunction to break the WOHNLAGE into two new variables\n",
    "def break_wohnlage(input_df):\n",
    "    \"\"\"\n",
    "    This function will break the WOHNLAGE into two new variables\n",
    "    NEIGHBORHOOD_QLY and IS_RURAL\n",
    "\n",
    "    INPUT: main dataframe with WOHNLAGE variable\n",
    "    OUTPUT: dataframe after WOHNLAGE variable has been converted\n",
    "    \"\"\"\n",
    "    # Encode NEIGHBORHOOD_QLY by replacing WOHNLAGE equal to 7 or 8 into 3.\n",
    "    input_df['NEIGHBORHOOD_QLY'] = input_df['WOHNLAGE'].replace(to_replace=[7, 8], value=3)\n",
    "    \n",
    "    # If WOHNLAGE equal to 1-5, encode to IS_RURAL = 0, \n",
    "    # else if WOHNLAGE equal to 7-8, IS_RURAL = 1.\n",
    "    input_df['IS_RURAL'] = input_df['WOHNLAGE']\n",
    "    input_df['IS_RURAL'] = input_df['IS_RURAL'].replace(to_replace=[1, 2, 3, 4, 5], value=0)\n",
    "    input_df['IS_RURAL'] = input_df['IS_RURAL'].replace(to_replace=[7, 8], value=1)\n",
    "\n",
    "    return input_df\n",
    "\n",
    "# Subfunction to convert PLZ8_BAUMAX into a new variable called PLZ8_IS_BUSINESS.\n",
    "def convert_plz8_baumax(input_df):\n",
    "    \"\"\"\n",
    "    This function will convert PLZ8_BAUMAX into a new variable called PLZ8_IS_BUSINESS.\n",
    "    PLZ8_IS_BUSINESS flags whether the most common building in PLZ8 area is business building or not.\n",
    "\n",
    "    INPUT: main dataframe with PLZ8_IS_BUSINESS variable\n",
    "    OUTPUT: dataframe with PLZ8_IS_BUSINESS added into it\n",
    "    \"\"\"\n",
    "    # If PLZ8_BAUMAX equal to 1-4, encode to PLZ8_IS_BUSINESS = 0, \n",
    "    # else if PLZ8_BAUMAX equal to 5, PLZ8_IS_BUSINESS = 1.\n",
    "    input_df['PLZ8_IS_BUSINESS'] = input_df['PLZ8_BAUMAX']\n",
    "    input_df['PLZ8_IS_BUSINESS'] = input_df['PLZ8_IS_BUSINESS'].replace(to_replace=[1, 2, 3, 4], value=0)\n",
    "    input_df['PLZ8_IS_BUSINESS'] = input_df['PLZ8_IS_BUSINESS'].replace(to_replace=5, value=1)\n",
    "\n",
    "    return input_df\n",
    "\n",
    "# Subfunction to drop unnecessary mixed-type variables\n",
    "def drop_unnecessary_mixed_cols(input_df):\n",
    "    \"\"\"\n",
    "    This function will drop unnecessary mixed-type variables, specifically\n",
    "    variables with redundant info and variables that already been broken down\n",
    "\n",
    "    INPUT: main dataframe with CAMEO_INTL_2015 variable\n",
    "    OUTPUT: dataframe after CAMEO_INTL_2015 variable has been converted and dropped\n",
    "    \"\"\"\n",
    "    # Drop unnecessary mixed categorical columns\n",
    "    mixed_type_cols_to_drop = ['PRAEGENDE_JUGENDJAHRE','CAMEO_INTL_2015','WOHNLAGE','PLZ8_BAUMAX','LP_LEBENSPHASE_FEIN','LP_LEBENSPHASE_GROB']\n",
    "    input_df = input_df.drop(mixed_type_cols_to_drop, axis=1)\n",
    "    return input_df\n"
   ]
  },
  {
   "cell_type": "code",
   "execution_count": 5,
   "metadata": {},
   "outputs": [],
   "source": [
    "def clean_data(df):\n",
    "    \"\"\"\n",
    "    Perform feature trimming, re-encoding, and engineering for demographics\n",
    "    data\n",
    "    \n",
    "    INPUT: Demographics DataFrame\n",
    "    OUTPUT: Trimmed and cleaned demographics DataFrame\n",
    "    \"\"\"\n",
    "    \n",
    "    # Put in code here to execute all main cleaning steps:\n",
    "    # PART 1/4 - Convert missing values into NaN\n",
    "    feature_info = feat_info\n",
    "    feature_info['missing_or_unknown'] = feature_info['missing_or_unknown'].replace({\"[-1,X]\":\"[-1,'X']\",\"[XX]\":\"['XX']\",\"[-1,XX]\":\"[-1,'XX']\"})\n",
    "    for col in df.columns:\n",
    "        # get the characters that symbolize missing value (still represented as Python string)\n",
    "        missing_as_string = feature_info.set_index(keys=['attribute']).loc[col,'missing_or_unknown']\n",
    "        \n",
    "        # convert the list of missing value from Python string into Python list\n",
    "        missing_as_list = convert_string_rep_of_list_to_list(missing_as_string)\n",
    "        \n",
    "        # replace the missing values into Numpy NaN\n",
    "        # if the missing_or_unknown value for feat_info is not equal to \"[]\", i.e. list member equal to 0\n",
    "        if len(missing_as_list) >= 1:\n",
    "            df[col].replace(to_replace=missing_as_list,value=[np.nan]*len(missing_as_list),inplace=True)\n",
    "    \n",
    "    # PART 2/4 - Remove rows and columns based on number of missing values\n",
    "    # Remove some columns based on number of missing values\n",
    "    #df = drop_cols_with_lot_of_nan(df, threshold_ratio=0.2)\n",
    "    df = drop_cols_with_lot_of_nan_hardcode(df)\n",
    "\n",
    "    ## Remove some rows based on number of missing values\n",
    "    df = drop_rows_with_lot_of_nan(df,threshold_value=20)\n",
    "\n",
    "    # PART 3/4 - Engineer/Re-encode categorical variables\n",
    "    # Drop unnecessary categorical columns based on the table in Discussion 1.2.1.\n",
    "    categorical_cols_to_drop = ['FINANZTYP','LP_FAMILIE_FEIN','LP_STATUS_FEIN','CAMEO_DEUG_2015','CAMEO_DEU_2015']\n",
    "    for col in categorical_cols_to_drop:\n",
    "        if col in df.columns:\n",
    "            df = df.drop(col, axis=1)\n",
    "    \n",
    "    # Replace values in column GEBAEUDETYP\n",
    "    df['GEBAEUDETYP'] = df['GEBAEUDETYP'].replace(to_replace=[1, 2], value='res')\n",
    "    df['GEBAEUDETYP'] = df['GEBAEUDETYP'].replace(to_replace=[3, 4, 5, 6, 7, 8], value='non_res')\n",
    "    \n",
    "    # Perform one hot encoding for selected categorical variable(s)\n",
    "    cols_to_ohe = ['CJT_GESAMTTYP','GFK_URLAUBERTYP','LP_FAMILIE_GROB','LP_STATUS_GROB','NATIONALITAET_KZ','SHOPPER_TYP','ZABEOTYP','GEBAEUDETYP','OST_WEST_KZ']\n",
    "    df = pd.get_dummies(data=df,\n",
    "                    prefix=cols_to_ohe,\n",
    "                    columns=cols_to_ohe,\n",
    "                    drop_first=True)\n",
    "    \n",
    "    # PART 4/4 - Perform feature engineering/encoding for mixed-type variables\n",
    "    df = break_praegende_jugendjahre(df)\n",
    "    df = break_cameo_intl_2015(df)\n",
    "    df = break_wohnlage(df)\n",
    "    df = convert_plz8_baumax(df)\n",
    "    df = drop_unnecessary_mixed_cols(df)\n",
    "\n",
    "    # Return the cleaned dataframe.\n",
    "    return df\n",
    "    "
   ]
  },
  {
   "cell_type": "code",
   "execution_count": 6,
   "metadata": {},
   "outputs": [],
   "source": [
    "# Shortcut in case I want to run only certain cells only.\n",
    "# This cell can be \"commented\"/skipped if necessary.\n",
    "# - Read azdias and feat_info dataframe\n",
    "# - Run cell containing clean_data's subfunction\n",
    "# - Run clean_data cell\n",
    "azdias = clean_data(azdias)"
   ]
  },
  {
   "cell_type": "markdown",
   "metadata": {},
   "source": [
    "## Step 2: Feature Transformation\n",
    "\n",
    "### Step 2.1: Apply Feature Scaling\n",
    "\n",
    "Before we apply dimensionality reduction techniques to the data, we need to perform feature scaling so that the principal component vectors are not influenced by the natural differences in scale for features. Starting from this part of the project, you'll want to keep an eye on the [API reference page for sklearn](http://scikit-learn.org/stable/modules/classes.html) to help you navigate to all of the classes and functions that you'll need. In this substep, you'll need to check the following:\n",
    "\n",
    "- sklearn requires that data not have missing values in order for its estimators to work properly. So, before applying the scaler to your data, make sure that you've cleaned the DataFrame of the remaining missing values. This can be as simple as just removing all data points with missing data, or applying an [Imputer](https://scikit-learn.org/0.16/modules/generated/sklearn.preprocessing.Imputer.html) to replace all missing values. You might also try a more complicated procedure where you temporarily remove missing values in order to compute the scaling parameters before re-introducing those missing values and applying imputation. Think about how much missing data you have and what possible effects each approach might have on your analysis, and justify your decision in the discussion section below.\n",
    "- For the actual scaling function, a [StandardScaler](http://scikit-learn.org/stable/modules/generated/sklearn.preprocessing.StandardScaler.html) instance is suggested, scaling each feature to mean 0 and standard deviation 1.\n",
    "- For these classes, you can make use of the `.fit_transform()` method to both fit a procedure to the data as well as apply the transformation to the data at the same time. Don't forget to keep the fit sklearn objects handy, since you'll be applying them to the customer demographics data towards the end of the project."
   ]
  },
  {
   "cell_type": "code",
   "execution_count": 7,
   "metadata": {},
   "outputs": [
    {
     "name": "stdout",
     "output_type": "stream",
     "text": [
      "number of NaN before imputation:  768378\n",
      "Impute missing values with this strategy: mean\n",
      "number of NaN after imputation:  0\n"
     ]
    }
   ],
   "source": [
    "# If you've not yet cleaned the dataset of all NaN values, then investigate and\n",
    "# do that now.\n",
    "print(\"number of NaN before imputation: \", azdias.isna().sum().sum())\n",
    "print('Impute missing values with this strategy: mean')\n",
    "\n",
    "from sklearn.impute import SimpleImputer\n",
    "imputer = SimpleImputer(strategy='mean', copy=True)\n",
    "X_impute = imputer.fit_transform(azdias)\n",
    "\n",
    "print(\"number of NaN after imputation: \", np.count_nonzero(np.isnan(X_impute)))"
   ]
  },
  {
   "cell_type": "code",
   "execution_count": 8,
   "metadata": {},
   "outputs": [],
   "source": [
    "# Apply feature scaling to the general population demographics data.\n",
    "from sklearn.preprocessing import StandardScaler\n",
    "scaler = StandardScaler()\n",
    "X_scale = scaler.fit_transform(X_impute)"
   ]
  },
  {
   "cell_type": "code",
   "execution_count": 9,
   "metadata": {},
   "outputs": [
    {
     "name": "stdout",
     "output_type": "stream",
     "text": [
      "before scaling:\n",
      "mean:  27.577723585104017\n",
      "std:  207.56535519766138\n",
      "\n",
      "after scaling:\n",
      "mean:  2.37158899326486e-16\n",
      "std:  1.0\n"
     ]
    }
   ],
   "source": [
    "print('before scaling:')\n",
    "print('mean: ', X_impute.mean())\n",
    "print('std: ', X_impute.std())\n",
    "\n",
    "print('\\nafter scaling:')\n",
    "print('mean: ', X_scale.mean())\n",
    "print('std: ', X_scale.std())"
   ]
  },
  {
   "cell_type": "markdown",
   "metadata": {},
   "source": [
    "### Discussion 2.1: Apply Feature Scaling\n",
    "*I used mean to impute missing value. I assume most variables in German population has normal distribution, where \"mean\" is commonly good. Based on this [article](https://datamining.togaware.com/survivor/Mean_Median_Mode.html), median is used for skew dataset, while mode is used when the dataset is categorical. So this leaving mean as the most moderate strategy among others. Of course, ideally I should try all methods and validate them (need to make room for validation dataset). For simplicity, I am following my intuition to go with \"mean\" strategy.*\n",
    "\n",
    "*Applying the standardization scaling, I confirmed that the preprocessings in this step have been done correctly. The number of NaN after imputation became 0, and after scaling mean became close to zero while standard deviation became equal to 1.*"
   ]
  },
  {
   "cell_type": "markdown",
   "metadata": {},
   "source": [
    "### Step 2.2: Perform Dimensionality Reduction\n",
    "\n",
    "On your scaled data, you are now ready to apply dimensionality reduction techniques.\n",
    "\n",
    "- Use sklearn's [PCA](http://scikit-learn.org/stable/modules/generated/sklearn.decomposition.PCA.html) class to apply principal component analysis on the data, thus finding the vectors of maximal variance in the data. To start, you should not set any parameters (so all components are computed) or set a number of components that is at least half the number of features (so there's enough features to see the general trend in variability).\n",
    "- Check out the ratio of variance explained by each principal component as well as the cumulative variance explained. Try plotting the cumulative or sequential values using matplotlib's [`plot()`](https://matplotlib.org/api/_as_gen/matplotlib.pyplot.plot.html) function. Based on what you find, select a value for the number of transformed features you'll retain for the clustering part of the project.\n",
    "- Once you've made a choice for the number of components to keep, make sure you re-fit a PCA instance to perform the decided-on transformation."
   ]
  },
  {
   "cell_type": "code",
   "execution_count": 10,
   "metadata": {},
   "outputs": [
    {
     "data": {
      "text/plain": [
       "PCA(random_state=42)"
      ]
     },
     "execution_count": 10,
     "metadata": {},
     "output_type": "execute_result"
    }
   ],
   "source": [
    "# Apply PCA to the data.\n",
    "from sklearn.decomposition import PCA\n",
    "\n",
    "all_pca = PCA(n_components=None, svd_solver='auto', random_state=42)\n",
    "all_pca.fit(X_scale)"
   ]
  },
  {
   "cell_type": "code",
   "execution_count": 11,
   "metadata": {},
   "outputs": [],
   "source": [
    "# Investigate the variance accounted for by each principal component.\n",
    "pca_var = all_pca.explained_variance_ratio_\n",
    "compo = np.arange(len(pca_var))\n",
    "cum_pca_var = np.cumsum(pca_var)"
   ]
  },
  {
   "cell_type": "code",
   "execution_count": 12,
   "metadata": {},
   "outputs": [
    {
     "name": "stdout",
     "output_type": "stream",
     "text": [
      "We need 42 principal components to achieve 80.0% of explained variance\n"
     ]
    }
   ],
   "source": [
    "# Get the number of principal components to achieve certain explained-variance ratio\n",
    "target_explained_var = 0.8\n",
    "n_components = np.sum(cum_pca_var <= target_explained_var)\n",
    "print('We need {0} principal components to achieve {1}% of explained variance'.format(n_components, target_explained_var*100))"
   ]
  },
  {
   "cell_type": "code",
   "execution_count": 13,
   "metadata": {},
   "outputs": [
    {
     "data": {
      "image/png": "[encoded data removed]",
      "text/plain": [
       "<Figure size 1080x432 with 2 Axes>"
      ]
     },
     "metadata": {
      "needs_background": "light"
     },
     "output_type": "display_data"
    }
   ],
   "source": [
    "# plot the variance and its cumulative\n",
    "from turtle import color\n",
    "\n",
    "# Prepare to plot in ax1 and ax2\n",
    "fig,(ax1, ax2) = plt.subplots(1, 2, figsize=(15,6))\n",
    "ax1.bar(compo, pca_var)\n",
    "ax1.set_xlabel('principal component')\n",
    "ax1.set_ylabel('explained variance ratio')\n",
    "ax1.set_title('Explained variance ratio for each principal component')\n",
    "ax2.plot(compo, cum_pca_var)\n",
    "ax2.set_xlabel('principal component')\n",
    "ax2.set_ylabel('cumulative explained variance')\n",
    "ax2.set_title('Cumulative sum of explained variance')\n",
    "\n",
    "# annotate the ax2 (cumulative sum of variance)\n",
    "# get coordinate of max and min value of x and y axis\n",
    "(ax2_xlim_min, ax2_xlim_max) = ax2.get_xlim()\n",
    "(ax2_ylim_min, ax2_ylim_max) = ax2.get_ylim()\n",
    "# set the stopping coordinate of annotation line\n",
    "xmax = (n_components-ax2_xlim_min)/(ax2_xlim_max-ax2_xlim_min) \n",
    "ymax = (target_explained_var-ax2_ylim_min)/(ax2_ylim_max-ax2_ylim_min) \n",
    "\n",
    "ax2.axvline(x=n_components, ymin=0, ymax=ymax, color='red', linestyle='dashed')\n",
    "ax2.axhline(y=target_explained_var, xmin=0, xmax=xmax, color='red', linestyle='dashed')\n",
    "annotation_str = 'The first {0} principal components\\n retain {1} % of variance'.format(n_components, target_explained_var*100)\n",
    "ax2.annotate(\n",
    "    # annotation label and its coordinate\n",
    "    annotation_str, xy=(n_components,target_explained_var), xytext=(n_components+10,target_explained_var-0.1),\n",
    "    # arrow pointer\n",
    "    arrowprops=dict(facecolor='red')\n",
    ")\n",
    "plt.show()"
   ]
  },
  {
   "cell_type": "code",
   "execution_count": 14,
   "metadata": {},
   "outputs": [],
   "source": [
    "# Re-apply PCA to the data while selecting for number of components to retain.\n",
    "pca = PCA(n_components=n_components, random_state=42)\n",
    "X_pca = pca.fit_transform(X_scale)"
   ]
  },
  {
   "cell_type": "markdown",
   "metadata": {},
   "source": [
    "### Discussion 2.2: Perform Dimensionality Reduction\n",
    "(Double-click this cell and replace this text with your own text, reporting your findings and decisions regarding dimensionality reduction. How many principal components / transformed features are you retaining for the next step of the analysis?)\n",
    "\n",
    "*Out of 102 variables, I used PCA to reduce the dimension to 42. These 42 principal components are derived from my target to retain 80% variance to explain the original data.*"
   ]
  },
  {
   "cell_type": "markdown",
   "metadata": {},
   "source": [
    "### Step 2.3: Interpret Principal Components\n",
    "\n",
    "Now that we have our transformed principal components, it's a nice idea to check out the weight of each variable on the first few components to see if they can be interpreted in some fashion.\n",
    "\n",
    "As a reminder, each principal component is a unit vector that points in the direction of highest variance (after accounting for the variance captured by earlier principal components). The further a weight is from zero, the more the principal component is in the direction of the corresponding feature. If two features have large weights of the same sign (both positive or both negative), then increases in one tend expect to be associated with increases in the other. To contrast, features with different signs can be expected to show a negative correlation: increases in one variable should result in a decrease in the other.\n",
    "\n",
    "- To investigate the features, you should map each weight to their corresponding feature name, then sort the features according to weight. The most interesting features for each principal component, then, will be those at the beginning and end of the sorted list. Use the data dictionary document to help you understand these most prominent features, their relationships, and what a positive or negative value on the principal component might indicate.\n",
    "- You should investigate and interpret feature associations from the first three principal components in this substep. To help facilitate this, you should write a function that you can call at any time to print the sorted list of feature weights, for the *i*-th principal component. This might come in handy in the next step of the project, when you interpret the tendencies of the discovered clusters."
   ]
  },
  {
   "cell_type": "code",
   "execution_count": 15,
   "metadata": {},
   "outputs": [],
   "source": [
    "import seaborn as sns\n",
    "\n",
    "# This function will plot the top 10 absolute weight for a certain principal component \n",
    "def plot_principal_component_weight(df, pca_components, component_number):\n",
    "    # create a dataframe to hold column name, weight, absolute value of weight, the direction of weight\n",
    "    pca_dict = {col: weight for col, weight in zip(df.columns, pca_components[component_number])}\n",
    "    pca_df = pd.DataFrame.from_dict(pca_dict, orient='index', columns=['weight'])\n",
    "    pca_df['weight_abs'] = np.absolute(pca_df['weight'])\n",
    "    pca_df['direction'] = pca_df['weight'].apply(lambda x: -1 if x < 0 else 1)\n",
    "    pca_df = pca_df.sort_values(by='weight_abs', ascending=False)\n",
    "\n",
    "    # plot the weight\n",
    "    fig, ax = plt.subplots(figsize=(12,5))\n",
    "    sns.barplot(x='index', y='weight_abs', hue='direction', data=pca_df.iloc[0:10,:].reset_index(), ax=ax)\n",
    "    plt.ylabel('absolute weight')\n",
    "    plt.xlabel('variable name')\n",
    "    plt.title('sorted weight of the principal component #{0}'.format(component_number))\n",
    "    plt.xticks(rotation=45)\n",
    "    plt.show()\n",
    "\n",
    "    # print the corresponding weight\n",
    "    print('top 10 variable with the highest weighnt in principal component #{0} :'.format(component_number))\n",
    "    print(pca_df.head(10))"
   ]
  },
  {
   "cell_type": "code",
   "execution_count": 16,
   "metadata": {},
   "outputs": [
    {
     "data": {
      "image/png": "[encoded data removed]",
      "text/plain": [
       "<Figure size 864x360 with 1 Axes>"
      ]
     },
     "metadata": {
      "needs_background": "light"
     },
     "output_type": "display_data"
    },
    {
     "name": "stdout",
     "output_type": "stream",
     "text": [
      "top 10 variable with the highest weighnt in principal component #0 :\n",
      "                      weight  weight_abs  direction\n",
      "MOBI_REGIO         -0.223084    0.223084         -1\n",
      "FINANZ_MINIMALIST  -0.209845    0.209845         -1\n",
      "KBA05_ANTG1        -0.207686    0.207686         -1\n",
      "PLZ8_ANTG1         -0.206783    0.206783         -1\n",
      "PLZ8_ANTG3          0.206651    0.206651          1\n",
      "PLZ8_ANTG4          0.201996    0.201996          1\n",
      "KBA05_GBZ          -0.198865    0.198865         -1\n",
      "HH_EINKOMMEN_SCORE  0.191198    0.191198          1\n",
      "HOUSE_WEALTH        0.190032    0.190032          1\n",
      "ORTSGR_KLS9         0.183038    0.183038          1\n"
     ]
    }
   ],
   "source": [
    "# Map weights for the first principal component to corresponding feature names\n",
    "# and then print the linked values, sorted by weight.\n",
    "# HINT: Try defining a function here or in a new cell that you can reuse in the\n",
    "# other cells.\n",
    "plot_principal_component_weight(df=azdias, pca_components=pca.components_, component_number=0)"
   ]
  },
  {
   "cell_type": "code",
   "execution_count": 17,
   "metadata": {},
   "outputs": [
    {
     "data": {
      "image/png": "[encoded data removed]",
      "text/plain": [
       "<Figure size 864x360 with 1 Axes>"
      ]
     },
     "metadata": {
      "needs_background": "light"
     },
     "output_type": "display_data"
    },
    {
     "name": "stdout",
     "output_type": "stream",
     "text": [
      "top 10 variable with the highest weighnt in principal component #1 :\n",
      "                         weight  weight_abs  direction\n",
      "MOVE_PERIOD           -0.237577    0.237577         -1\n",
      "ALTERSKATEGORIE_GROB   0.236840    0.236840          1\n",
      "SEMIO_REL             -0.224936    0.224936         -1\n",
      "FINANZ_SPARER         -0.217963    0.217963         -1\n",
      "FINANZ_VORSORGER       0.217578    0.217578          1\n",
      "SEMIO_TRADV           -0.215821    0.215821         -1\n",
      "FINANZ_UNAUFFAELLIGER -0.212085    0.212085         -1\n",
      "ZABEOTYP_3             0.211685    0.211685          1\n",
      "SEMIO_PFLICHT         -0.207166    0.207166         -1\n",
      "SEMIO_ERL              0.199591    0.199591          1\n"
     ]
    }
   ],
   "source": [
    "# Map weights for the second principal component to corresponding feature names\n",
    "# and then print the linked values, sorted by weight.\n",
    "plot_principal_component_weight(df=azdias, pca_components=pca.components_, component_number=1)"
   ]
  },
  {
   "cell_type": "code",
   "execution_count": 17,
   "metadata": {},
   "outputs": [
    {
     "data": {
      "image/png": "[encoded data removed]",
      "text/plain": [
       "<Figure size 864x360 with 1 Axes>"
      ]
     },
     "metadata": {
      "needs_background": "light"
     },
     "output_type": "display_data"
    },
    {
     "name": "stdout",
     "output_type": "stream",
     "text": [
      "top 10 variable with the highest weighnt in principal component #2 :\n",
      "              weight  weight_abs  direction\n",
      "ANREDE_KZ  -0.364598    0.364598         -1\n",
      "SEMIO_VERT  0.339605    0.339605          1\n",
      "SEMIO_KAEM -0.334990    0.334990         -1\n",
      "SEMIO_DOM  -0.308630    0.308630         -1\n",
      "SEMIO_KRIT -0.275061    0.275061         -1\n",
      "SEMIO_SOZ   0.264203    0.264203          1\n",
      "SEMIO_FAM   0.259306    0.259306          1\n",
      "SEMIO_KULT  0.246189    0.246189          1\n",
      "SEMIO_RAT  -0.193859    0.193859         -1\n",
      "SEMIO_ERL  -0.191227    0.191227         -1\n"
     ]
    }
   ],
   "source": [
    "# Map weights for the third principal component to corresponding feature names\n",
    "# and then print the linked values, sorted by weight.\n",
    "plot_principal_component_weight(df=azdias, pca_components=pca.components_, component_number=2)"
   ]
  },
  {
   "cell_type": "markdown",
   "metadata": {},
   "source": [
    "### Discussion 2.3: Interpret Principal Components\n",
    "\n",
    "(Double-click this cell and replace this text with your own text, reporting your observations from detailed investigation of the first few principal components generated. Can we interpret positive and negative values from them in a meaningful way?)\n",
    "\n",
    "*The interpretation of the first 3 principal components is summarized below.*\n",
    "- *Principal component #0: this component lights up when somebody lives in dense neighborhood (large community) with low income, low weath, and low financial interest -> area/community level*\n",
    "- *Principal component #1: this component matches wealthy old person. Wealthy old person have some characteristics like: frugal, financially prepared, traditional minded, religious, fair supplied towards energy consumption -> person level*\n",
    "- *Principal component #1: this component matches male with strong/dominant personality. Some characteristics of people with this personality: competitive, dominant, rational & critical minded, individualistic, not family- nor cultural-oriented -> person level*\n",
    "\n",
    "*For your reference of how I got interpretation as above, I used the table below which lists the meaning of the top-10 variables in the first 3 principal components.*\n",
    "\n",
    "|VarName|Weight|PCA_num|VarCat|Data_Dictionary description|Ordinal/interval|Meaning|\n",
    "|-------|------|-------|------|-------|----------------|--------------|\n",
    "|MOBI_REGIO|-0.223084|0|RR1 region|movement pattern|1 high move, 5 low move|move a lot|\n",
    "|FINANZ_MINIMALIST|-0.209845|0|Person level|Low financial interest|1 very high, 5 very low|low financial interest|\n",
    "|KBA05_ANTG1|-0.207686|0|RR3 micro cell|Number of 1-2 family houses in the microcell|0 no family home, 4 high family home|area with less 1-2 family home|\n",
    "|PLZ8_ANTG1|-0.206783|0|PLZ8 macro cell|Number of 1-2 family houses in the PLZ8|0 no family home, 4 high family home|area with less 1-2 family home|\n",
    "|PLZ8_ANTG3|0.206651|0|PLZ8 macro cell|Number of 6-10 family houses in the PLZ8|0 no family home, 4 high family home|area with a lot of 6-10 family home|\n",
    "|PLZ8_ANTG4|0.201996|0|PLZ8 macro cell|Number of 10+ family houses in the PLZ8|0 no family home, 4 high family home|area with a lot of 10+ family home|\n",
    "|KBA05_GBZ|-0.198865|0|RR3 micro cell|Number of building in the microcell|1 1-2 buildings, 5 >=23 buildings|area with small number of buildings|\n",
    "|HH_EINKOMMEN_SCORE|0.191198|0|Household-level|Estimated household net income|1 highest income, 6 very low income|low income|\n",
    "|HOUSE_WEALTH|0.190032|0|RR4 micro-cell|Household wealth|1 wealthy household, 5 poor household|poor household|\n",
    "|ORTSGR_KLS9|0.183038|0|Community-level|Size of community|1 <= 2000 people, 9 >700000 people|large community|\n",
    "|MOVE_PERIOD|-0.237577|1|Person level|Dominating movement of person's youth|1 40s, 5 90s|old|\n",
    "|ALTERSKATEGORIE_GROB|0.23684|1|Person level|Age|1 < 30 years old, 4 > 60 years old|old|\n",
    "|SEMIO_REL|-0.224936|1|Person level|Religious personality|1 high affinity, 7 low affinity|religious|\n",
    "|FINANZ_SPARER|-0.217963|1|Person level|Money saver|1 very high, 5 very low|money saver|\n",
    "|FINANZ_VORSORGER|0.217578|1|Person level|Be prepared financially|1 very high, 5 very low|financially prepared|\n",
    "|SEMIO_TRADV|-0.215821|1|Person level|Traditional-minded personality|1 high affinity, 7 low affinity|traditional|\n",
    "|FINANZ_UNAUFFAELLIGER|-0.212085|1|Person level|Inconspicuous (being discreet about wealth, no show off)|1 very high, 5 very low|no show off wealth|\n",
    "|ZABEOTYP_3|0.211685|1|Person level|Energy consumption typology (fair supplied)|1 fair supplied, 0 not fair supplied|fair supplied energy consumption|\n",
    "|SEMIO_PFLICHT|-0.207166|1|Person level|Dutiful personality|1 high affinity, 7 low affinity|dutiful|\n",
    "|SEMIO_ERL|0.199591|1|Person level|Event-oriented personality|1 high affinity, 7 low affinity|not event oriented personality|\n",
    "|ANREDE_KZ|-0.364598|2|Person level|Gender|1 male, 2 female|Male|\n",
    "|SEMIO_VERT|0.339603|2|Person level|Dreamful personality|1 high affinity, 7 low affinity|not dreamful|\n",
    "|SEMIO_KAEM|-0.334991|2|Person level|Combative attitude personality|1 high affinity, 7 low affinity|combative/competitive|\n",
    "|SEMIO_DOM|-0.308631|2|Person level|Dominant-minded personality|1 high affinity, 7 low affinity|dominant|\n",
    "|SEMIO_KRIT|-0.275063|2|Person level|Critical-minded personality|1 high affinity, 7 low affinity|critical minded|\n",
    "|SEMIO_SOZ|0.2642|2|Person level|Socially-minded personality|1 high affinity, 7 low affinity|individualistic|\n",
    "|SEMIO_FAM|0.259305|2|Person level|Family-minded personality|1 high affinity, 7 low affinity|not family oriented|\n",
    "|SEMIO_KULT|0.246188|2|Person level|Cultural-minded personality|1 high affinity, 7 low affinity|not cultural oriented|\n",
    "|SEMIO_RAT|-0.193859|2|Person level|Rational personality|1 high affinity, 7 low affinity|rational|\n",
    "|SEMIO_ERL|-0.191228|2|Person level|Event-oriented personality|1 high affinity, 7 low affinity|not event oriented personality|"
   ]
  },
  {
   "cell_type": "markdown",
   "metadata": {},
   "source": [
    "## Step 3: Clustering\n",
    "\n",
    "### Step 3.1: Apply Clustering to General Population\n",
    "\n",
    "You've assessed and cleaned the demographics data, then scaled and transformed them. Now, it's time to see how the data clusters in the principal components space. In this substep, you will apply k-means clustering to the dataset and use the average within-cluster distances from each point to their assigned cluster's centroid to decide on a number of clusters to keep.\n",
    "\n",
    "- Use sklearn's [KMeans](http://scikit-learn.org/stable/modules/generated/sklearn.cluster.KMeans.html#sklearn.cluster.KMeans) class to perform k-means clustering on the PCA-transformed data.\n",
    "- Then, compute the average difference from each point to its assigned cluster's center. **Hint**: The KMeans object's `.score()` method might be useful here, but note that in sklearn, scores tend to be defined so that larger is better. Try applying it to a small, toy dataset, or use an internet search to help your understanding.\n",
    "- Perform the above two steps for a number of different cluster counts. You can then see how the average distance decreases with an increasing number of clusters. However, each additional cluster provides a smaller net benefit. Use this fact to select a final number of clusters in which to group the data. **Warning**: because of the large size of the dataset, it can take a long time for the algorithm to resolve. The more clusters to fit, the longer the algorithm will take. You should test for cluster counts through at least 10 clusters to get the full picture, but you shouldn't need to test for a number of clusters above about 30.\n",
    "- Once you've selected a final number of clusters to use, re-fit a KMeans instance to perform the clustering operation. Make sure that you also obtain the cluster assignments for the general demographics data, since you'll be using them in the final Step 3.3."
   ]
  },
  {
   "cell_type": "code",
   "execution_count": 20,
   "metadata": {},
   "outputs": [
    {
     "data": {
      "text/plain": [
       "[4, 6, 8, 10, 12, 14, 16, 18, 20, 22, 24, 26, 28, 30, 32, 34, 36, 38, 40]"
      ]
     },
     "execution_count": 20,
     "metadata": {},
     "output_type": "execute_result"
    }
   ],
   "source": [
    "[i for i in range(4,42,2)]"
   ]
  },
  {
   "cell_type": "code",
   "execution_count": 18,
   "metadata": {},
   "outputs": [],
   "source": [
    "# Over a number of different cluster counts...\n",
    "from random import random\n",
    "from sklearn.cluster import MiniBatchKMeans\n",
    "kmeans_scores = []\n",
    "k_s = [i for i in range(4,42,2)] # [4, 6, 8,..., 38, 40]\n",
    "\n",
    "for k in k_s:\n",
    "    # use MiniBatchKMeans as our sample data is more than 10,000 \n",
    "    # (recommended by Sklearn documentation to speed up process)\n",
    "    # run k-means clustering on the data and...\n",
    "    kmeans_model = MiniBatchKMeans(n_clusters=k, batch_size=1024, random_state=42)\n",
    "    kmeans_model.fit(X_pca)\n",
    "    \n",
    "    # compute the average within-cluster distances.\n",
    "    kmeans_scores.append(np.abs(kmeans_model.score(X_pca)))"
   ]
  },
  {
   "cell_type": "code",
   "execution_count": 21,
   "metadata": {},
   "outputs": [
    {
     "data": {
      "image/png": "[encoded data removed]",
      "text/plain": [
       "<Figure size 432x288 with 1 Axes>"
      ]
     },
     "metadata": {
      "needs_background": "light"
     },
     "output_type": "display_data"
    }
   ],
   "source": [
    "# Investigate the change in within-cluster distance across number of clusters.\n",
    "# HINT: Use matplotlib's plot function to visualize this relationship.\n",
    "\n",
    "# create the scree plot\n",
    "plt.plot(k_s, kmeans_scores, 'o-')\n",
    "plt.title('scree plot of KMeans score')\n",
    "plt.xlabel('number of cluster \"k\"')\n",
    "plt.title('KMeans score')\n",
    "\n",
    "# add line annotation\n",
    "plt.axline(xy1=(k_s[0],kmeans_scores[0]), xy2=(k_s[3],kmeans_scores[3]), color='red', linestyle='dotted', linewidth=0.75)\n",
    "plt.axline(xy1=(k_s[3],kmeans_scores[3]), xy2=(k_s[7],kmeans_scores[7]), color='red', linestyle='dotted', linewidth=0.75)\n",
    "plt.axvline(x=10, ymax=0.525, color='green', linestyle='dashed')\n",
    "plt.show()"
   ]
  },
  {
   "cell_type": "code",
   "execution_count": 22,
   "metadata": {},
   "outputs": [],
   "source": [
    "# Re-fit the k-means model with the selected number of clusters and obtain\n",
    "# cluster predictions for the general population demographics data.\n",
    "\n",
    "# The \"elbow\" of KMeans score seems to be around k=10\n",
    "kmeans_10_model = MiniBatchKMeans(n_clusters=10, batch_size=1024, random_state=42)\n",
    "kmeans_10_model.fit(X_pca)\n",
    "kmeans_10_pred = kmeans_10_model.predict(X_pca)"
   ]
  },
  {
   "cell_type": "markdown",
   "metadata": {},
   "source": [
    "### Discussion 3.1: Apply Clustering to General Population\n",
    "(Double-click this cell and replace this text with your own text, reporting your findings and decisions regarding clustering. Into how many clusters have you decided to segment the population?)\n",
    "\n",
    "*From the plot of KMeans score above, it seems that the elbow is around k=10, i.e. the reduction in KMeans score (average internal distance) seems becoming smaller compared to smaller k. I added 2 annotation line as a helper to preview the slope (the intuition of elbow method is to look for the contrast of slope).*"
   ]
  },
  {
   "cell_type": "markdown",
   "metadata": {},
   "source": [
    "### Step 3.2: Apply All Steps to the Customer Data\n",
    "\n",
    "Now that you have clusters and cluster centers for the general population, it's time to see how the customer data maps on to those clusters. Take care to not confuse this for re-fitting all of the models to the customer data. Instead, you're going to use the fits from the general population to clean, transform, and cluster the customer data. In the last step of the project, you will interpret how the general population fits apply to the customer data.\n",
    "\n",
    "- Don't forget when loading in the customers data, that it is semicolon (`;`) delimited.\n",
    "- Apply the same feature wrangling, selection, and engineering steps to the customer demographics using the `clean_data()` function you created earlier. (You can assume that the customer demographics data has similar meaning behind missing data patterns as the general demographics data.)\n",
    "- Use the sklearn objects from the general demographics data, and apply their transformations to the customers data. That is, you should not be using a `.fit()` or `.fit_transform()` method to re-fit the old objects, nor should you be creating new sklearn objects! Carry the data through the feature scaling, PCA, and clustering steps, obtaining cluster assignments for all of the data in the customer demographics data."
   ]
  },
  {
   "cell_type": "code",
   "execution_count": 23,
   "metadata": {},
   "outputs": [],
   "source": [
    "# Load in the customer demographics data.\n",
    "customers = pd.read_csv(\"Udacity_CUSTOMERS_Subset.csv\",sep=';')"
   ]
  },
  {
   "cell_type": "markdown",
   "metadata": {},
   "source": [
    "```\n",
    "feature_info = feat_info\n",
    "feature_info['missing_or_unknown'] = feature_info['missing_or_unknown'].replace({\"[-1,X]\":\"[-1,'X']\",\"[XX]\":\"['XX']\",\"[-1,XX]\":\"[-1,'XX']\"})\n",
    "for col in customers.columns:\n",
    "    # get the characters that symbolize missing value (still represented as Python string)\n",
    "    missing_as_string = feature_info.set_index(keys=['attribute']).loc[col,'missing_or_unknown']\n",
    "    \n",
    "    # convert the list of missing value from Python string into Python list\n",
    "    missing_as_list = convert_string_rep_of_list_to_list(missing_as_string)\n",
    "    \n",
    "    # replace the missing values into Numpy NaN\n",
    "    # if the missing_or_unknown value for feat_info is not equal to \"[]\", i.e. list member equal to 0\n",
    "    if len(missing_as_list) >= 1:\n",
    "        customers[col].replace(to_replace=missing_as_list,value=[np.nan]*len(missing_as_list),inplace=True)\n",
    "```"
   ]
  },
  {
   "cell_type": "markdown",
   "metadata": {},
   "source": [
    "```\n",
    "customers = drop_cols_with_lot_of_nan(customers, threshold_ratio=0.2)\n",
    "```"
   ]
  },
  {
   "cell_type": "markdown",
   "metadata": {},
   "source": [
    "```\n",
    "customers = drop_rows_with_lot_of_nan(customers,threshold_value=20)\n",
    "```"
   ]
  },
  {
   "cell_type": "markdown",
   "metadata": {},
   "source": [
    "```\n",
    "categorical_cols_to_drop = ['FINANZTYP','LP_FAMILIE_FEIN','LP_STATUS_FEIN','CAMEO_DEUG_2015','CAMEO_DEU_2015']\n",
    "for col in categorical_cols_to_drop:\n",
    "    if col in customers.columns:\n",
    "        customers = customers.drop(col, axis=1)\n",
    "\n",
    "```"
   ]
  },
  {
   "cell_type": "markdown",
   "metadata": {},
   "source": [
    "```\n",
    "\n",
    "feature_info = feat_info\n",
    "feature_info['missing_or_unknown'] = feature_info['missing_or_unknown'].replace({\"[-1,X]\":\"[-1,'X']\",\"[XX]\":\"['XX']\",\"[-1,XX]\":\"[-1,'XX']\"})\n",
    "for col in df.columns:\n",
    "    # get the characters that symbolize missing value (still represented as Python string)\n",
    "    missing_as_string = feature_info.set_index(keys=['attribute']).loc[col,'missing_or_unknown']\n",
    "    \n",
    "    # convert the list of missing value from Python string into Python list\n",
    "    missing_as_list = convert_string_rep_of_list_to_list(missing_as_string)\n",
    "    \n",
    "    # replace the missing values into Numpy NaN\n",
    "    # if the missing_or_unknown value for feat_info is not equal to \"[]\", i.e. list member equal to 0\n",
    "    if len(missing_as_list) >= 1:\n",
    "        df[col].replace(to_replace=missing_as_list,value=[np.nan]*len(missing_as_list),inplace=True)\n",
    "\n",
    "# PART 2/4 - Remove rows and columns based on number of missing values\n",
    "# Remove some columns based on number of missing values\n",
    "df = drop_cols_with_lot_of_nan(df, threshold_ratio=0.2)\n",
    "\n",
    "## Remove some rows based on number of missing values\n",
    "df = drop_rows_with_lot_of_nan(df,threshold_value=20)\n",
    "\n",
    "# PART 3/4 - Engineer/Re-encode categorical variables\n",
    "# Drop unnecessary categorical columns based on the table in Discussion 1.2.1.\n",
    "categorical_cols_to_drop = ['FINANZTYP','LP_FAMILIE_FEIN','LP_STATUS_FEIN','CAMEO_DEUG_2015','CAMEO_DEU_2015']\n",
    "for col in categorical_cols_to_drop:\n",
    "    if col in df.columns:\n",
    "        df = df.drop(col, axis=1)\n",
    "\n",
    "# Replace values in column GEBAEUDETYP\n",
    "df['GEBAEUDETYP'] = df['GEBAEUDETYP'].replace(to_replace=[1, 2], value='res')\n",
    "df['GEBAEUDETYP'] = df['GEBAEUDETYP'].replace(to_replace=[3, 4, 5, 6, 7, 8], value='non_res')\n",
    "\n",
    "# Perform one hot encoding for selected categorical variable(s)\n",
    "cols_to_ohe = ['CJT_GESAMTTYP','GFK_URLAUBERTYP','LP_FAMILIE_GROB','LP_STATUS_GROB','NATIONALITAET_KZ','SHOPPER_TYP','ZABEOTYP','GEBAEUDETYP','OST_WEST_KZ']\n",
    "df = pd.get_dummies(data=df,\n",
    "                prefix=cols_to_ohe,\n",
    "                columns=cols_to_ohe,\n",
    "                drop_first=True)\n",
    "\n",
    "# PART 4/4 - Perform feature engineering/encoding for mixed-type variables\n",
    "df = break_praegende_jugendjahre(df)\n",
    "df = break_cameo_intl_2015(df)\n",
    "df = break_wohnlage(df)\n",
    "df = convert_plz8_baumax(df)\n",
    "df = drop_unnecessary_mixed_cols(df)\n",
    "\n",
    "```"
   ]
  },
  {
   "cell_type": "code",
   "execution_count": 24,
   "metadata": {},
   "outputs": [],
   "source": [
    "# Apply preprocessing, feature transformation, and clustering from the general\n",
    "# demographics onto the customer data, obtaining cluster predictions for the\n",
    "# customer demographics data.\n",
    "\n",
    "# data cleansing\n",
    "customers = clean_data(customers)"
   ]
  },
  {
   "cell_type": "code",
   "execution_count": 25,
   "metadata": {},
   "outputs": [],
   "source": [
    "# impute missing data, scaling, dimension reduction\n",
    "cust_impute = imputer.transform(customers)\n",
    "cust_scale = scaler.transform(cust_impute)\n",
    "cust_pca = pca.transform(cust_scale)\n",
    "\n",
    "# predict clustering\n",
    "cust_10_pred = kmeans_10_model.predict(cust_pca)"
   ]
  },
  {
   "cell_type": "markdown",
   "metadata": {},
   "source": [
    "### Step 3.3: Compare Customer Data to Demographics Data\n",
    "\n",
    "At this point, you have clustered data based on demographics of the general population of Germany, and seen how the customer data for a mail-order sales company maps onto those demographic clusters. In this final substep, you will compare the two cluster distributions to see where the strongest customer base for the company is.\n",
    "\n",
    "Consider the proportion of persons in each cluster for the general population, and the proportions for the customers. If we think the company's customer base to be universal, then the cluster assignment proportions should be fairly similar between the two. If there are only particular segments of the population that are interested in the company's products, then we should see a mismatch from one to the other. If there is a higher proportion of persons in a cluster for the customer data compared to the general population (e.g. 5% of persons are assigned to a cluster for the general population, but 15% of the customer data is closest to that cluster's centroid) then that suggests the people in that cluster to be a target audience for the company. On the other hand, the proportion of the data in a cluster being larger in the general population than the customer data (e.g. only 2% of customers closest to a population centroid that captures 6% of the data) suggests that group of persons to be outside of the target demographics.\n",
    "\n",
    "Take a look at the following points in this step:\n",
    "\n",
    "- Compute the proportion of data points in each cluster for the general population and the customer data. Visualizations will be useful here: both for the individual dataset proportions, but also to visualize the ratios in cluster representation between groups. Seaborn's [`countplot()`](https://seaborn.pydata.org/generated/seaborn.countplot.html) or [`barplot()`](https://seaborn.pydata.org/generated/seaborn.barplot.html) function could be handy.\n",
    "  - Recall the analysis you performed in step 1.1.3 of the project, where you separated out certain data points from the dataset if they had more than a specified threshold of missing values. If you found that this group was qualitatively different from the main bulk of the data, you should treat this as an additional data cluster in this analysis. Make sure that you account for the number of data points in this subset, for both the general population and customer datasets, when making your computations!\n",
    "- Which cluster or clusters are overrepresented in the customer dataset compared to the general population? Select at least one such cluster and infer what kind of people might be represented by that cluster. Use the principal component interpretations from step 2.3 or look at additional components to help you make this inference. Alternatively, you can use the `.inverse_transform()` method of the PCA and StandardScaler objects to transform centroids back to the original data space and interpret the retrieved values directly.\n",
    "- Perform a similar investigation for the underrepresented clusters. Which cluster or clusters are underrepresented in the customer dataset compared to the general population, and what kinds of people are typified by these clusters?"
   ]
  },
  {
   "cell_type": "code",
   "execution_count": 25,
   "metadata": {},
   "outputs": [
    {
     "data": {
      "image/png": "[encoded data removed]",
      "text/plain": [
       "<Figure size 864x360 with 2 Axes>"
      ]
     },
     "metadata": {
      "needs_background": "light"
     },
     "output_type": "display_data"
    }
   ],
   "source": [
    "# Compare the proportion of data in each cluster for the customer data to the\n",
    "# proportion of data in each cluster for the general population.\n",
    "\n",
    "# Calculate the percent representation of each cluster\n",
    "generalpop_label = pd.Series(kmeans_18_pred)\n",
    "generalpop_label_pct = generalpop_label.value_counts()/generalpop_label.count()*100\n",
    "\n",
    "cust_data_label = pd.Series(cust_18_pred)\n",
    "cust_data_label_pct = cust_data_label.value_counts()/cust_data_label.count()*100\n",
    "\n",
    "# barplot with seaborn\n",
    "fig,axes = plt.subplots(1, 2, figsize=(12,5))\n",
    "sns.barplot(x=generalpop_label_pct.index, y=generalpop_label_pct, ax=axes[0])\n",
    "sns.barplot(x=cust_data_label_pct.index, y=cust_data_label_pct, ax=axes[1])\n",
    "axes[0].set_title(\"cluster data counts in general population\")\n",
    "axes[1].set_title(\"cluster data counts in customer dataset\")\n",
    "axes[0].set_xlabel(\"cluster number\")\n",
    "axes[1].set_xlabel(\"cluster number\")\n",
    "axes[0].set_ylabel(\"cluster proportion (%)\")\n",
    "axes[1].set_ylabel(\"cluster proportion (%)\")\n",
    "plt.show()"
   ]
  },
  {
   "cell_type": "code",
   "execution_count": 48,
   "metadata": {},
   "outputs": [
    {
     "data": {
      "image/png": "[encoded data removed]",
      "text/plain": [
       "<Figure size 864x360 with 2 Axes>"
      ]
     },
     "metadata": {
      "needs_background": "light"
     },
     "output_type": "display_data"
    }
   ],
   "source": [
    "generalpop_label = pd.Series(kmeans_10_pred)\n",
    "generalpop_label_pct = generalpop_label.value_counts()/generalpop_label.count()*100\n",
    "\n",
    "cust_data_label = pd.Series(cust_10_pred)\n",
    "cust_data_label_pct = cust_data_label.value_counts()/cust_data_label.count()*100\n",
    "\n",
    "# barplot with seaborn\n",
    "sns.set_palette('dark')\n",
    "fig,axes = plt.subplots(1, 2, figsize=(12,5))\n",
    "sns.barplot(x=generalpop_label_pct.index, y=generalpop_label_pct, ax=axes[0])\n",
    "sns.barplot(x=cust_data_label_pct.index, y=cust_data_label_pct, ax=axes[1])\n",
    "axes[0].set_title(\"cluster data counts in general population\")\n",
    "axes[1].set_title(\"cluster data counts in customer dataset\")\n",
    "axes[0].set_xlabel(\"cluster number\")\n",
    "axes[1].set_xlabel(\"cluster number\")\n",
    "axes[0].set_ylabel(\"cluster proportion (%)\")\n",
    "axes[1].set_ylabel(\"cluster proportion (%)\")\n",
    "plt.show()"
   ]
  },
  {
   "cell_type": "code",
   "execution_count": 54,
   "metadata": {},
   "outputs": [
    {
     "name": "stdout",
     "output_type": "stream",
     "text": [
      "IS_RURAL                0.129142\n",
      "ALTERSKATEGORIE_GROB    3.364703\n",
      "GREEN_AVANTGARDE        1.019119\n",
      "ANREDE_KZ               1.506209\n",
      "HH_EINKOMMEN_SCORE      2.266622\n",
      "ANZ_PERSONEN            2.286263\n",
      "dtype: float64\n",
      "FINANZ_HAUSBAUER         2.026434\n",
      "FINANZ_MINIMALIST        4.601484\n",
      "FINANZ_SPARER            1.607545\n",
      "FINANZ_UNAUFFAELLIGER    2.155399\n",
      "FINANZ_VORSORGER         4.205740\n",
      "dtype: float64\n",
      "SEMIO_DOM        4.752426\n",
      "SEMIO_ERL        5.225129\n",
      "SEMIO_FAM        3.403231\n",
      "SEMIO_KAEM       4.271708\n",
      "SEMIO_KRIT       4.414938\n",
      "SEMIO_KULT       3.458861\n",
      "SEMIO_LUST       5.276988\n",
      "SEMIO_MAT        3.114627\n",
      "SEMIO_PFLICHT    3.154131\n",
      "SEMIO_RAT        3.143628\n",
      "SEMIO_REL        2.919681\n",
      "SEMIO_SOZ        4.056204\n",
      "SEMIO_TRADV      3.007571\n",
      "SEMIO_VERT       4.688307\n",
      "dtype: float64\n"
     ]
    }
   ],
   "source": [
    "k10_centroid_1_pca = pca.inverse_transform(kmeans_10_model.cluster_centers_[1])\n",
    "k10_centroid_1_scale = k10_centroid_1_pca * np.sqrt(scaler.var_) + scaler.mean_\n",
    "k10_centroid_1 = pd.Series(data=k10_centroid_1_scale, index=customers.columns)\n",
    "\n",
    "print(k10_centroid_1[['IS_RURAL','ALTERSKATEGORIE_GROB','GREEN_AVANTGARDE','ANREDE_KZ','HH_EINKOMMEN_SCORE','ANZ_PERSONEN']])\n",
    "print(k10_centroid_1[['FINANZ_HAUSBAUER','FINANZ_MINIMALIST','FINANZ_SPARER','FINANZ_UNAUFFAELLIGER','FINANZ_VORSORGER']])\n",
    "print(k10_centroid_1[['SEMIO_DOM','SEMIO_ERL','SEMIO_FAM','SEMIO_KAEM','SEMIO_KRIT','SEMIO_KULT','SEMIO_LUST','SEMIO_MAT','SEMIO_PFLICHT','SEMIO_RAT','SEMIO_REL','SEMIO_SOZ','SEMIO_TRADV','SEMIO_VERT']])"
   ]
  },
  {
   "cell_type": "code",
   "execution_count": 51,
   "metadata": {},
   "outputs": [
    {
     "name": "stdout",
     "output_type": "stream",
     "text": [
      "IS_RURAL                0.072631\n",
      "ALTERSKATEGORIE_GROB    1.837784\n",
      "GREEN_AVANTGARDE        0.144378\n",
      "ANREDE_KZ               0.952982\n",
      "HH_EINKOMMEN_SCORE      5.322801\n",
      "ANZ_PERSONEN            1.484475\n",
      "dtype: float64\n",
      "FINANZ_HAUSBAUER         3.448597\n",
      "FINANZ_MINIMALIST        1.982437\n",
      "FINANZ_SPARER            4.414834\n",
      "FINANZ_UNAUFFAELLIGER    3.964546\n",
      "FINANZ_VORSORGER         2.050565\n",
      "dtype: float64\n",
      "SEMIO_DOM        2.782763\n",
      "SEMIO_ERL        2.146844\n",
      "SEMIO_FAM        6.751156\n",
      "SEMIO_KAEM       2.283011\n",
      "SEMIO_KRIT       2.706286\n",
      "SEMIO_KULT       6.860640\n",
      "SEMIO_LUST       3.029470\n",
      "SEMIO_MAT        5.275942\n",
      "SEMIO_PFLICHT    5.581581\n",
      "SEMIO_RAT        4.133865\n",
      "SEMIO_REL        6.302758\n",
      "SEMIO_SOZ        6.424555\n",
      "SEMIO_TRADV      4.921747\n",
      "SEMIO_VERT       6.096618\n",
      "dtype: float64\n"
     ]
    }
   ],
   "source": [
    "k10_centroid_2_pca = pca.inverse_transform(kmeans_10_model.cluster_centers_[2])\n",
    "k10_centroid_2_scale = k10_centroid_2_pca * np.sqrt(scaler.var_) + scaler.mean_\n",
    "k10_centroid_2 = pd.Series(data=k10_centroid_2_scale, index=customers.columns)\n",
    "\n",
    "print(k10_centroid_2[['IS_RURAL','ALTERSKATEGORIE_GROB','GREEN_AVANTGARDE','ANREDE_KZ','HH_EINKOMMEN_SCORE','ANZ_PERSONEN']])\n",
    "print(k10_centroid_2[['FINANZ_HAUSBAUER','FINANZ_MINIMALIST','FINANZ_SPARER','FINANZ_UNAUFFAELLIGER','FINANZ_VORSORGER']])\n",
    "print(k10_centroid_2[['SEMIO_DOM','SEMIO_ERL','SEMIO_FAM','SEMIO_KAEM','SEMIO_KRIT','SEMIO_KULT','SEMIO_LUST','SEMIO_MAT','SEMIO_PFLICHT','SEMIO_RAT','SEMIO_REL','SEMIO_SOZ','SEMIO_TRADV','SEMIO_VERT']])"
   ]
  },
  {
   "cell_type": "markdown",
   "metadata": {},
   "source": [
    "#### 3.3.1 Method 1: analyze from the PCA space"
   ]
  },
  {
   "cell_type": "code",
   "execution_count": 52,
   "metadata": {},
   "outputs": [
    {
     "name": "stdout",
     "output_type": "stream",
     "text": [
      "Overrepresented in customer data compared to general population:\n",
      "\n",
      "Top 3 dimension in centroid 14\n",
      "Dim #0 in PCA space is significant; with value of -3.5352200528222606.\n",
      "Dim #3 in PCA space is significant; with value of 2.913179441650352.\n",
      "Dim #2 in PCA space is significant; with value of 2.785027432981375.\n",
      "\n",
      "Top 3 dimension in centroid 11\n",
      "Dim #0 in PCA space is significant; with value of -4.110221719344617.\n",
      "Dim #2 in PCA space is significant; with value of 2.1843090101430223.\n",
      "Dim #3 in PCA space is significant; with value of -2.0887916168273963.\n",
      "\n",
      "Top 3 dimension in centroid 1\n",
      "Dim #0 in PCA space is significant; with value of -3.905762949449218.\n",
      "Dim #3 in PCA space is significant; with value of 3.4305369977550058.\n",
      "Dim #2 in PCA space is significant; with value of -1.5793674841373677.\n"
     ]
    }
   ],
   "source": [
    "# What kinds of people are part of a cluster that is overrepresented in the\n",
    "# customer data compared to the general population?\n",
    "# answer: Cluster number 14, 11, 1\n",
    "\n",
    "print('Overrepresented in customer data compared to general population:')\n",
    "centroids = [14, 11, 1]\n",
    "\n",
    "for centroid in centroids:\n",
    "    # get the coordinate of centroid in pca space\n",
    "    centroid_pca = kmeans_18_model.cluster_centers_[centroid]\n",
    "\n",
    "    # look for the most prominent (largest absolute number)\n",
    "    # numpy argsort sorts the array in ascending order\n",
    "    centroid_pca_top_idx = np.argsort(np.abs(centroid_pca))\n",
    "\n",
    "    print('\\nTop 3 dimension in centroid', centroid)\n",
    "    for i in range(3):\n",
    "        print('Dim #{0} in PCA space is significant; with value of {1}.'.format(centroid_pca_top_idx[-(i+1)],centroid_pca[centroid_pca_top_idx[-(i+1)]]))"
   ]
  },
  {
   "cell_type": "code",
   "execution_count": 54,
   "metadata": {},
   "outputs": [
    {
     "data": {
      "image/png": "[encoded data removed]",
      "text/plain": [
       "<Figure size 864x360 with 1 Axes>"
      ]
     },
     "metadata": {
      "needs_background": "light"
     },
     "output_type": "display_data"
    },
    {
     "name": "stdout",
     "output_type": "stream",
     "text": [
      "top 10 variable with the highest weighnt in principal component #3 :\n",
      "                      weight  weight_abs  direction\n",
      "GREEN_AVANTGARDE    0.365513    0.365513          1\n",
      "IS_MOVE_AVANTGARDE  0.364777    0.364777          1\n",
      "LP_STATUS_GROB_5.0  0.290128    0.290128          1\n",
      "EWDICHTE            0.229796    0.229796          1\n",
      "ORTSGR_KLS9         0.227623    0.227623          1\n",
      "HH_EINKOMMEN_SCORE -0.221153    0.221153         -1\n",
      "IS_RURAL           -0.213113    0.213113         -1\n",
      "KKK                -0.208548    0.208548         -1\n",
      "BALLRAUM           -0.195977    0.195977         -1\n",
      "INNENSTADT         -0.185905    0.185905         -1\n"
     ]
    }
   ],
   "source": [
    "# Plot PCA weight to interpret dimension number 3\n",
    "plot_principal_component_weight(df=azdias, pca_components=pca.components_, component_number=3)"
   ]
  },
  {
   "cell_type": "code",
   "execution_count": 53,
   "metadata": {},
   "outputs": [
    {
     "name": "stdout",
     "output_type": "stream",
     "text": [
      "Underrepresented in customer data compared to general population:\n",
      "\n",
      "Top 3 dimension in centroid 15\n",
      "Dim #2 in PCA space is significant; with value of -2.956667974857917.\n",
      "Dim #0 in PCA space is significant; with value of 2.6712265537984807.\n",
      "Dim #1 in PCA space is significant; with value of -2.419337310720016.\n",
      "\n",
      "Top 3 dimension in centroid 6\n",
      "Dim #1 in PCA space is significant; with value of -3.911738418731248.\n",
      "Dim #2 in PCA space is significant; with value of -3.0160597302964622.\n",
      "Dim #0 in PCA space is significant; with value of -1.2283466744674998.\n",
      "\n",
      "Top 3 dimension in centroid 2\n",
      "Dim #1 in PCA space is significant; with value of -4.652421345362045.\n",
      "Dim #2 in PCA space is significant; with value of 2.3181635701067655.\n",
      "Dim #7 in PCA space is significant; with value of -1.1613908207839572.\n"
     ]
    }
   ],
   "source": [
    "# What kinds of people are part of a cluster that is underrepresented in the\n",
    "# customer data compared to the general population?\n",
    "# answer: Cluster number 15, 6, 2\n",
    "\n",
    "print('Underrepresented in customer data compared to general population:')\n",
    "centroids = [15, 6, 2]\n",
    "\n",
    "for centroid in centroids:\n",
    "    # get the coordinate of centroid in pca space\n",
    "    centroid_pca = kmeans_18_model.cluster_centers_[centroid]\n",
    "\n",
    "    # look for the most prominent (largest absolute number)\n",
    "    # numpy argsort sorts the array in ascending order\n",
    "    centroid_pca_top_idx = np.argsort(np.abs(centroid_pca))\n",
    "\n",
    "    print('\\nTop 3 dimension in centroid', centroid)\n",
    "    for i in range(3):\n",
    "        print('Dim #{0} in PCA space is significant; with value of {1}.'.format(centroid_pca_top_idx[-(i+1)],centroid_pca[centroid_pca_top_idx[-(i+1)]]))"
   ]
  },
  {
   "cell_type": "code",
   "execution_count": 55,
   "metadata": {},
   "outputs": [
    {
     "data": {
      "image/png": "[encoded data removed]",
      "text/plain": [
       "<Figure size 864x360 with 1 Axes>"
      ]
     },
     "metadata": {
      "needs_background": "light"
     },
     "output_type": "display_data"
    },
    {
     "name": "stdout",
     "output_type": "stream",
     "text": [
      "top 10 variable with the highest weighnt in principal component #7 :\n",
      "                       weight  weight_abs  direction\n",
      "LP_STATUS_GROB_4.0   0.292918    0.292918          1\n",
      "LP_STATUS_GROB_2.0  -0.269780    0.269780         -1\n",
      "FINANZ_HAUSBAUER    -0.268766    0.268766         -1\n",
      "LP_FAMILIE_GROB_5.0 -0.215492    0.215492         -1\n",
      "HEALTH_TYP           0.210449    0.210449          1\n",
      "FINANZ_MINIMALIST    0.192710    0.192710          1\n",
      "ANZ_PERSONEN        -0.187852    0.187852         -1\n",
      "SHOPPER_TYP_3.0     -0.182703    0.182703         -1\n",
      "ZABEOTYP_6           0.174064    0.174064          1\n",
      "KBA05_ANTG3         -0.169547    0.169547         -1\n"
     ]
    }
   ],
   "source": [
    "# Plot PCA weight to interpret dimension number 7\n",
    "plot_principal_component_weight(df=azdias, pca_components=pca.components_, component_number=7)"
   ]
  },
  {
   "cell_type": "markdown",
   "metadata": {},
   "source": [
    "Characteristics of people that are **overrepresented** in customer dataset:\n",
    "- male\n",
    "- competitive/individualist\n",
    "- high financial interest, high income\n",
    "- live in city (cluster 14) or live in rural area (cluster 1, 11)\n",
    "\n",
    "Characteristics of people that are **underepresented** in customer dataset:\n",
    "- young\n",
    "- not financially prepared\n",
    "- show off wealth, conspicuous\n",
    "- female and family oriented (cluster 6, 15)\n",
    "- male and individualist (cluster 2)\n",
    "\n",
    "<img src=\"Azdias PCA interpretation.png\" />"
   ]
  },
  {
   "cell_type": "markdown",
   "metadata": {},
   "source": [
    "#### 3.3.2 Method 2: analyze from the original space (inverse transform PCA and scaler)"
   ]
  },
  {
   "cell_type": "code",
   "execution_count": 28,
   "metadata": {},
   "outputs": [],
   "source": [
    "centroid_14_pca = pca.inverse_transform(kmeans_18_model.cluster_centers_[14])\n",
    "centroid_14_scale = centroid_14_pca * np.sqrt(scaler.var_) + scaler.mean_\n",
    "centroid_14 = pd.Series(data=centroid_14_scale, index=customers.columns)"
   ]
  },
  {
   "cell_type": "code",
   "execution_count": 35,
   "metadata": {},
   "outputs": [
    {
     "data": {
      "text/plain": [
       "IS_RURAL       0.135949\n",
       "ORTSGR_KLS9    5.320288\n",
       "BALLRAUM       4.132267\n",
       "EWDICHTE       3.919415\n",
       "INNENSTADT     4.692127\n",
       "dtype: float64"
      ]
     },
     "execution_count": 35,
     "metadata": {},
     "output_type": "execute_result"
    }
   ],
   "source": [
    "centroid_14[['IS_RURAL','ORTSGR_KLS9','BALLRAUM','EWDICHTE','INNENSTADT']] # city"
   ]
  },
  {
   "cell_type": "code",
   "execution_count": 37,
   "metadata": {},
   "outputs": [
    {
     "data": {
      "text/plain": [
       "ALTERSKATEGORIE_GROB    3.151218\n",
       "IS_MOVE_AVANTGARDE      1.015390\n",
       "MOVE_PERIOD             3.830605\n",
       "dtype: float64"
      ]
     },
     "execution_count": 37,
     "metadata": {},
     "output_type": "execute_result"
    }
   ],
   "source": [
    "centroid_14[['ALTERSKATEGORIE_GROB','IS_MOVE_AVANTGARDE','MOVE_PERIOD']] # age 30-40"
   ]
  },
  {
   "cell_type": "code",
   "execution_count": 39,
   "metadata": {},
   "outputs": [
    {
     "data": {
      "text/plain": [
       "GREEN_AVANTGARDE    1.017648\n",
       "ZABEOTYP_2          0.100850\n",
       "ZABEOTYP_3          0.243688\n",
       "ZABEOTYP_4          0.105138\n",
       "ZABEOTYP_5          0.001967\n",
       "ZABEOTYP_6          0.048488\n",
       "dtype: float64"
      ]
     },
     "execution_count": 39,
     "metadata": {},
     "output_type": "execute_result"
    }
   ],
   "source": [
    "centroid_14[['GREEN_AVANTGARDE','ZABEOTYP_2','ZABEOTYP_3','ZABEOTYP_4','ZABEOTYP_5','ZABEOTYP_6']] # energy - kinda green"
   ]
  },
  {
   "cell_type": "code",
   "execution_count": 40,
   "metadata": {},
   "outputs": [
    {
     "data": {
      "text/plain": [
       "ANREDE_KZ    1.052441\n",
       "dtype: float64"
      ]
     },
     "execution_count": 40,
     "metadata": {},
     "output_type": "execute_result"
    }
   ],
   "source": [
    "centroid_14[['ANREDE_KZ']] # sex - male"
   ]
  },
  {
   "cell_type": "code",
   "execution_count": 41,
   "metadata": {},
   "outputs": [
    {
     "data": {
      "text/plain": [
       "HEALTH_TYP         2.102671\n",
       "SHOPPER_TYP_2.0    0.125601\n",
       "SHOPPER_TYP_3.0    0.214243\n",
       "dtype: float64"
      ]
     },
     "execution_count": 41,
     "metadata": {},
     "output_type": "execute_result"
    }
   ],
   "source": [
    "centroid_14[['HEALTH_TYP','SHOPPER_TYP_2.0','SHOPPER_TYP_3.0']] # health_shop - average health, more hedonist"
   ]
  },
  {
   "cell_type": "code",
   "execution_count": 43,
   "metadata": {},
   "outputs": [
    {
     "data": {
      "text/plain": [
       "LP_STATUS_GROB_2.0    0.057481\n",
       "LP_STATUS_GROB_3.0    0.105008\n",
       "LP_STATUS_GROB_4.0    0.066712\n",
       "LP_STATUS_GROB_5.0    0.775642\n",
       "HH_EINKOMMEN_SCORE    2.277919\n",
       "dtype: float64"
      ]
     },
     "execution_count": 43,
     "metadata": {},
     "output_type": "execute_result"
    }
   ],
   "source": [
    "centroid_14[['LP_STATUS_GROB_2.0','LP_STATUS_GROB_3.0','LP_STATUS_GROB_4.0','LP_STATUS_GROB_5.0','HH_EINKOMMEN_SCORE']] # income - high"
   ]
  },
  {
   "cell_type": "code",
   "execution_count": 42,
   "metadata": {},
   "outputs": [
    {
     "data": {
      "text/plain": [
       "LP_FAMILIE_GROB_2.0    0.166479\n",
       "LP_FAMILIE_GROB_3.0    0.018015\n",
       "LP_FAMILIE_GROB_4.0    0.105321\n",
       "LP_FAMILIE_GROB_5.0    0.399654\n",
       "ANZ_PERSONEN           2.314593\n",
       "dtype: float64"
      ]
     },
     "execution_count": 42,
     "metadata": {},
     "output_type": "execute_result"
    }
   ],
   "source": [
    "centroid_14[['LP_FAMILIE_GROB_2.0','LP_FAMILIE_GROB_3.0','LP_FAMILIE_GROB_4.0','LP_FAMILIE_GROB_5.0','ANZ_PERSONEN']] # family size - small"
   ]
  },
  {
   "cell_type": "code",
   "execution_count": 44,
   "metadata": {},
   "outputs": [
    {
     "data": {
      "text/plain": [
       "FINANZ_HAUSBAUER         1.780914\n",
       "FINANZ_MINIMALIST        4.783306\n",
       "FINANZ_SPARER            1.841648\n",
       "FINANZ_UNAUFFAELLIGER    2.340423\n",
       "FINANZ_VORSORGER         4.005313\n",
       "dtype: float64"
      ]
     },
     "execution_count": 44,
     "metadata": {},
     "output_type": "execute_result"
    }
   ],
   "source": [
    "centroid_14[['FINANZ_HAUSBAUER','FINANZ_MINIMALIST','FINANZ_SPARER','FINANZ_UNAUFFAELLIGER','FINANZ_VORSORGER']] # Financial philosophy - high financial interest, safer, but kinda hedon"
   ]
  },
  {
   "cell_type": "code",
   "execution_count": 45,
   "metadata": {},
   "outputs": [
    {
     "data": {
      "text/plain": [
       "SEMIO_DOM        3.352372\n",
       "SEMIO_ERL        3.938545\n",
       "SEMIO_FAM        4.963645\n",
       "SEMIO_KAEM       2.657702\n",
       "SEMIO_KRIT       3.131824\n",
       "SEMIO_KULT       5.063714\n",
       "SEMIO_PFLICHT    3.469712\n",
       "SEMIO_RAT        2.838356\n",
       "SEMIO_REL        3.961223\n",
       "SEMIO_SOZ        5.339336\n",
       "SEMIO_TRADV      3.332880\n",
       "SEMIO_VERT       6.265498\n",
       "dtype: float64"
      ]
     },
     "execution_count": 45,
     "metadata": {},
     "output_type": "execute_result"
    }
   ],
   "source": [
    "centroid_14[['SEMIO_DOM','SEMIO_ERL','SEMIO_FAM','SEMIO_KAEM','SEMIO_KRIT','SEMIO_KULT','SEMIO_PFLICHT','SEMIO_RAT','SEMIO_REL','SEMIO_SOZ','SEMIO_TRADV','SEMIO_VERT']] \n",
    "    # Psychology - low cultural, low family, low dreamful, low social"
   ]
  },
  {
   "cell_type": "markdown",
   "metadata": {},
   "source": [
    "### Discussion 3.3: Compare Customer Data to Demographics Data\n",
    "\n",
    "(Double-click this cell and replace this text with your own text, reporting findings and conclusions from the clustering analysis. Can we describe segments of the population that are relatively popular with the mail-order company, or relatively unpopular with the company?)"
   ]
  },
  {
   "cell_type": "markdown",
   "metadata": {},
   "source": [
    "> Congratulations on making it this far in the project! Before you finish, make sure to check through the entire notebook from top to bottom to make sure that your analysis follows a logical flow and all of your findings are documented in **Discussion** cells. Once you've checked over all of your work, you should export the notebook as an HTML document to submit for evaluation. You can do this from the menu, navigating to **File -> Download as -> HTML (.html)**. You will submit both that document and this notebook for your project submission."
   ]
  },
  {
   "cell_type": "code",
   "execution_count": null,
   "metadata": {},
   "outputs": [],
   "source": []
  }
 ],
 "metadata": {
  "kernelspec": {
   "display_name": "Python 3.10.2 ('datasc')",
   "language": "python",
   "name": "python3"
  },
  "language_info": {
   "codemirror_mode": {
    "name": "ipython",
    "version": 3
   },
   "file_extension": ".py",
   "mimetype": "text/x-python",
   "name": "python",
   "nbconvert_exporter": "python",
   "pygments_lexer": "ipython3",
   "version": "3.10.2"
  },
  "vscode": {
   "interpreter": {
    "hash": "c4aacbb440e836e461911ca2fe30720e330651e5a88c5c4944501526e042dec0"
   }
  }
 },
 "nbformat": 4,
 "nbformat_minor": 2
}
